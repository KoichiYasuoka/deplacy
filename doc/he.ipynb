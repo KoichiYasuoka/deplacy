{
  "nbformat":4,
  "nbformat_minor":0,
  "metadata":{
    "colab":{ "name":"ניתוח תחבירי על deplacy" },
    "kernelspec":{
      "name":"python3",
      "display_name":"Python 3"
    }
  },
  "cells":[
    {
      "cell_type":"markdown",
      "metadata":{ "colab_type":"text" },
      "source":[
        "<h1 dir=\"rtl\">ניתוח תחבירי על <a href=\"https://koichiyasuoka.github.io/deplacy/\">deplacy</a></h1>\n"
      ]
    },
    {
      "cell_type":"markdown",
      "metadata":{ "colab_type":"text" },
      "source":[
        "<h2 dir=\"rtl\">עם <a href=\"https://github.com/nlp-uoregon/trankit\">Trankit</a></h2>\n"
      ]
    },
    {
      "cell_type":"code",
      "metadata":{ "colab_type":"code" },
      "source":[
        "!pip install deplacy git+https://github.com/KoichiYasuoka/trankit\n",
        "import trankit\n",
        "nlp=trankit.Pipeline(\"hebrew\")\n",
        "doc=nlp(\"על טעם וריח אין להתווכח.\")\n",
        "import deplacy\n",
        "deplacy.render(doc,WordRight=True)\n",
        "deplacy.serve(doc,port=None,RtoL=True)\n",
        "# import graphviz\n",
        "# graphviz.Source(deplacy.dot(doc,RtoL=True))"
      ]
    },
    {
      "cell_type":"markdown",
      "metadata":{ "colab_type":"text" },
      "source":[
        "<h2 dir=\"rtl\">עם <a href=\"https://github.com/amir-zeldes/HebPipe\">HebPipe</a></h2>\n"
      ]
    },
    {
      "cell_type":"code",
      "metadata":{ "colab_type":"code" },
      "source":[
        "!apt install python3.8 python3.8-dev python3.8-distutils\n",
        "import sys\n",
        "v=\".\".join(sys.version.split(\".\")[0:2])\n",
        "!update-alternatives --remove-all python3\n",
        "!update-alternatives --install /usr/bin/python3 python3 /usr/bin/python{v} 1\n",
        "!update-alternatives --install /usr/bin/python3 python3 /usr/bin/python3.8 2\n",
        "!apt install python3-pip\n",
        "!test -d /usr/local/lib/python3.8/dist-packages/hebpipe || pip install hebpipe\n",
        "!echo Y | python3.8 -c 'import hebpipe' -q -\n",
        "!echo 1 | update-alternatives --config python3\n",
        "!pip install deplacy\n",
        "def nlp(t):\n",
        "  with tempfile.NamedTemporaryFile(\"w\",encoding=\"utf-8\") as f:\n",
        "    print(t,file=f,flush=True)\n",
        "    return subprocess.check_output([\"python3.8\",\"-c\",\"import hebpipe\",\"-q\",f.name]).decode(\"utf-8\")+\"\\n\"\n",
        "doc=nlp(\"על טעם וריח אין להתווכח.\")\n",
        "import deplacy\n",
        "deplacy.render(doc,WordRight=True)\n",
        "deplacy.serve(doc,port=None,RtoL=True)\n",
        "# import graphviz\n",
        "# graphviz.Source(deplacy.dot(doc,RtoL=True))"
      ]
    },
    {
      "cell_type":"markdown",
      "metadata":{ "colab_type":"text" },
      "source":[
        "<h2 dir=\"rtl\">עם <a href=\"https://stanfordnlp.github.io/stanza\">Stanza</a></h2>\n"
      ]
    },
    {
      "cell_type":"code",
      "metadata":{ "colab_type":"code" },
      "source":[
        "!pip install deplacy stanza\n",
        "import stanza\n",
        "nlp=stanza.Pipeline(\"he\")\n",
        "doc=nlp(\"על טעם וריח אין להתווכח.\")\n",
        "import deplacy\n",
        "deplacy.render(doc,WordRight=True)\n",
        "deplacy.serve(doc,port=None,RtoL=True)\n",
        "# import graphviz\n",
        "# graphviz.Source(deplacy.dot(doc,RtoL=True))"
      ]
    },
    {
      "cell_type":"markdown",
      "metadata":{ "colab_type":"text" },
      "source":[
        "<h2 dir=\"rtl\">עם <a href=\"https://github.com/KoichiYasuoka/spaCy-jPTDP\">spaCy-jPTDP</a></h2>\n"
      ]
    },
    {
      "cell_type":"code",
      "metadata":{ "colab_type":"code" },
      "source":[
        "!pip install 'setuptools<57' 'numpy<2'\n",
        "!pip install dynet --no-build-isolation\n",
        "!pip install deplacy spacy_jptdp\n",
        "import spacy_jptdp\n",
        "nlp=spacy_jptdp.load(\"he_htb\")\n",
        "doc=nlp(\"על טעם וריח אין להתווכח.\")\n",
        "import deplacy\n",
        "deplacy.render(doc,WordRight=True)\n",
        "deplacy.serve(doc,port=None,RtoL=True)\n",
        "# import graphviz\n",
        "# graphviz.Source(deplacy.dot(doc,RtoL=True))"
      ]
    },
    {
      "cell_type":"markdown",
      "metadata":{ "colab_type":"text" },
      "source":[
        "<h2 dir=\"rtl\">עם <a href=\"http://ufal.mff.cuni.cz/udpipe/2\">UDPipe 2</a></h2>\n"
      ]
    },
    {
      "cell_type":"code",
      "metadata":{ "colab_type":"code" },
      "source":[
        "!pip install deplacy\n",
        "def nlp(t):\n",
        "  import urllib.request,urllib.parse,json\n",
        "  with urllib.request.urlopen(\"https://lindat.mff.cuni.cz/services/udpipe/api/process?model=he&tokenizer&tagger&parser&data=\"+urllib.parse.quote(t)) as r:\n",
        "    return json.loads(r.read())[\"result\"]\n",
        "doc=nlp(\"על טעם וריח אין להתווכח.\")\n",
        "import deplacy\n",
        "deplacy.render(doc,WordRight=True)\n",
        "deplacy.serve(doc,port=None,RtoL=True)\n",
        "# import graphviz\n",
        "# graphviz.Source(deplacy.dot(doc,RtoL=True))"
      ]
    },
    {
      "cell_type":"markdown",
      "metadata":{ "colab_type":"text" },
      "source":[
        "<h2 dir=\"rtl\">עם <a href=\"https://camphr.readthedocs.io/en/stable/notes/udify.html\">Camphr-Udify</a></h2>\n"
      ]
    },
    {
      "cell_type":"code",
      "metadata":{ "colab_type":"code" },
      "source":[
        "!apt install python3.8 python3.8-dev python3.8-distutils\n",
        "import sys\n",
        "v=\".\".join(sys.version.split(\".\")[0:2])\n",
        "!update-alternatives --remove-all python3\n",
        "!update-alternatives --install /usr/bin/python3 python3 /usr/bin/python{v} 1\n",
        "!update-alternatives --install /usr/bin/python3 python3 /usr/bin/python3.8 2\n",
        "!apt install python3-pip\n",
        "!pip install \"setuptools<57\" poetry deplacy cymem==2.0.11 preshed==3.0.10\n",
        "url=\"https://github.com/PKSHATechnology-Research/camphr_models\"\n",
        "f=\"en_udify-0.7.tar.gz\"\n",
        "!test -f {f} || curl -LO {url+\"/releases/download/0.7.0/\"+f}\n",
        "!test -d /usr/local/lib/python3.8/dist-packages/camphr || pip install {f} \"numpy<1.20\" \"spacy<2.3\" --no-build-isolation\n",
        "!echo 1 | update-alternatives --config python3\n",
        "!pip install deplacy\n",
        "import subprocess\n",
        "nlp=lambda t:subprocess.run([\"python3.8\",\"-c\",\"\\n\".join([\"import spacy,deplacy\",\"n=spacy.load('en_udify')\",\"print(deplacy.to_conllu(n(input())),end='')\"])],input=t,stdout=subprocess.PIPE,encoding=\"utf-8\").stdout\n",
        "doc=nlp(\"על טעם וריח אין להתווכח.\")\n",
        "import deplacy\n",
        "deplacy.render(doc,WordRight=True)\n",
        "deplacy.serve(doc,port=None,RtoL=True)\n",
        "# import graphviz\n",
        "# graphviz.Source(deplacy.dot(doc,RtoL=True))"
      ]
    },
    {
      "cell_type":"markdown",
      "metadata":{ "colab_type":"text" },
      "source":[
        "<h2 dir=\"rtl\">עם <a href=\"https://github.com/TakeLab/spacy-udpipe\">spacy-udpipe</a></h2>\n"
      ]
    },
    {
      "cell_type":"code",
      "metadata":{ "colab_type":"code" },
      "source":[
        "!pip install deplacy spacy-udpipe\n",
        "import spacy_udpipe\n",
        "spacy_udpipe.download(\"he\")\n",
        "nlp=spacy_udpipe.load(\"he\")\n",
        "doc=nlp(\"על טעם וריח אין להתווכח.\")\n",
        "import deplacy\n",
        "deplacy.render(doc,WordRight=True)\n",
        "deplacy.serve(doc,port=None,RtoL=True)\n",
        "# import graphviz\n",
        "# graphviz.Source(deplacy.dot(doc,RtoL=True))"
      ]
    }
  ]
}
