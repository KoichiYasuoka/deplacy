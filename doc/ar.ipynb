{
  "nbformat":4,
  "nbformat_minor":0,
  "metadata":{
    "colab":{ "name":"deplacy لتحليل النحو" },
    "kernelspec":{
      "name":"python3",
      "display_name":"Python 3"
    }
  },
  "cells":[
    {
      "cell_type":"markdown",
      "metadata":{ "colab_type":"text" },
      "source":[
        "<h1 dir=\"rtl\"><a href=\"https://koichiyasuoka.github.io/deplacy/\">deplacy</a> لتحليل النحو</h1>\n"
      ]
    },
    {
      "cell_type":"markdown",
      "metadata":{ "colab_type":"text" },
      "source":[
        "<h2 dir=\"rtl\">مع <a href=\"https://github.com/nlp-uoregon/trankit\">Trankit</a></h2>\n"
      ]
    },
    {
      "cell_type":"code",
      "metadata":{ "colab_type":"code" },
      "source":[
        "!pip install deplacy trankit 'transformers<4.47'\n",
        "import trankit\n",
        "nlp=trankit.Pipeline(\"arabic\")\n",
        "doc=nlp(\"من قال لا أدري فقد أفتى.\")\n",
        "import deplacy\n",
        "deplacy.render(doc,WordRight=True)\n",
        "deplacy.serve(doc,port=None,RtoL=True)\n",
        "# import graphviz\n",
        "# graphviz.Source(deplacy.dot(doc,RtoL=True))"
      ]
    },
    {
      "cell_type":"markdown",
      "metadata":{ "colab_type":"text" },
      "source":[
        "<h2 dir=\"rtl\">مع <a href=\"http://ufal.mff.cuni.cz/udpipe/2\">UDPipe 2</a></h2>\n"
      ]
    },
    {
      "cell_type":"code",
      "metadata":{ "colab_type":"code" },
      "source":[
        "!pip install deplacy\n",
        "def nlp(t):\n",
        "  import urllib.request,urllib.parse,json\n",
        "  with urllib.request.urlopen(\"https://lindat.mff.cuni.cz/services/udpipe/api/process?model=ar&tokenizer&tagger&parser&data=\"+urllib.parse.quote(t)) as r:\n",
        "    return json.loads(r.read())[\"result\"]\n",
        "doc=nlp(\"من قال لا أدري فقد أفتى.\")\n",
        "import deplacy\n",
        "deplacy.render(doc,WordRight=True)\n",
        "deplacy.serve(doc,port=None,RtoL=True)\n",
        "# import graphviz\n",
        "# graphviz.Source(deplacy.dot(doc,RtoL=True))"
      ]
    },
    {
      "cell_type":"markdown",
      "metadata":{ "colab_type":"text" },
      "source":[
        "<h2 dir=\"rtl\">مع <a href=\"https://github.com/TakeLab/spacy-udpipe\">spacy-udpipe</a></h2>\n"
      ]
    },
    {
      "cell_type":"code",
      "metadata":{ "colab_type":"code" },
      "source":[
        "!pip install deplacy spacy-udpipe\n",
        "import spacy_udpipe\n",
        "spacy_udpipe.download(\"ar\")\n",
        "nlp=spacy_udpipe.load(\"ar\")\n",
        "doc=nlp(\"من قال لا أدري فقد أفتى.\")\n",
        "import deplacy\n",
        "deplacy.render(doc,WordRight=True)\n",
        "deplacy.serve(doc,port=None,RtoL=True)\n",
        "# import graphviz\n",
        "# graphviz.Source(deplacy.dot(doc,RtoL=True))"
      ]
    },
    {
      "cell_type":"markdown",
      "metadata":{ "colab_type":"text" },
      "source":[
        "<h2 dir=\"rtl\">مع <a href=\"https://stanfordnlp.github.io/stanza\">Stanza</a></h2>\n"
      ]
    },
    {
      "cell_type":"code",
      "metadata":{ "colab_type":"code" },
      "source":[
        "!pip install deplacy stanza\n",
        "import stanza\n",
        "nlp=stanza.Pipeline(\"ar\")\n",
        "doc=nlp(\"من قال لا أدري فقد أفتى.\")\n",
        "import deplacy\n",
        "deplacy.render(doc,WordRight=True)\n",
        "deplacy.serve(doc,port=None,RtoL=True)\n",
        "# import graphviz\n",
        "# graphviz.Source(deplacy.dot(doc,RtoL=True))"
      ]
    },
    {
      "cell_type":"markdown",
      "metadata":{ "colab_type":"text" },
      "source":[
        "<h2 dir=\"rtl\">مع <a href=\"https://github.com/KoichiYasuoka/spaCy-jPTDP\">spaCy-jPTDP</a></h2>\n"
      ]
    },
    {
      "cell_type":"code",
      "metadata":{ "colab_type":"code" },
      "source":[
        "!pip install 'setuptools<57.0.0'\n",
        "!pip install dynet --no-build-isolation\n",
        "!pip install deplacy spacy_jptdp\n",
        "import spacy_jptdp\n",
        "nlp=spacy_jptdp.load(\"ar_padt\")\n",
        "doc=nlp(\"من قال لا أدري فقد أفتى.\")\n",
        "import deplacy\n",
        "deplacy.render(doc,WordRight=True)\n",
        "deplacy.serve(doc,port=None,RtoL=True)\n",
        "# import graphviz\n",
        "# graphviz.Source(deplacy.dot(doc,RtoL=True))"
      ]
    }
  ]
}
