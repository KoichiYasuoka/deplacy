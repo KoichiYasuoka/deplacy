{
  "nbformat":4,
  "nbformat_minor":0,
  "metadata":{
    "colab":{ "name":"Anailís ghramadaí trí deplacy" },
    "kernelspec":{
      "name":"python3",
      "display_name":"Python 3"
    }
  },
  "cells":[
    {
      "cell_type":"markdown",
      "metadata":{ "colab_type":"text" },
      "source":[
        "# Anailís ghramadaí trí [deplacy](https://koichiyasuoka.github.io/deplacy/)\n"
      ]
    },
    {
      "cell_type":"markdown",
      "metadata":{ "colab_type":"text" },
      "source":[
        "## le [Stanza](https://stanfordnlp.github.io/stanza)\n"
      ]
    },
    {
      "cell_type":"code",
      "metadata":{ "colab_type":"code" },
      "source":[
        "!pip install deplacy stanza\n",
        "import stanza\n",
        "stanza.download(\"ga\")\n",
        "nlp=stanza.Pipeline(\"ga\")\n",
        "doc=nlp(\"Táimid faoi dhraíocht ag ceol na farraige.\")\n",
        "import deplacy\n",
        "deplacy.render(doc)\n",
        "deplacy.serve(doc,port=None)\n",
        "# import graphviz\n",
        "# graphviz.Source(deplacy.dot(doc))"
      ]
    },
    {
      "cell_type":"markdown",
      "metadata":{ "colab_type":"text" },
      "source":[
        "## le [UDPipe 2](http://ufal.mff.cuni.cz/udpipe/2)\n"
      ]
    },
    {
      "cell_type":"code",
      "metadata":{ "colab_type":"code" },
      "source":[
        "!pip install deplacy\n",
        "def nlp(t):\n",
        "  import urllib.request,urllib.parse,json\n",
        "  with urllib.request.urlopen(\"https://lindat.mff.cuni.cz/services/udpipe/api/process?model=ga&tokenizer&tagger&parser&data=\"+urllib.parse.quote(t)) as r:\n",
        "    return json.loads(r.read())[\"result\"]\n",
        "doc=nlp(\"Táimid faoi dhraíocht ag ceol na farraige.\")\n",
        "import deplacy\n",
        "deplacy.render(doc)\n",
        "deplacy.serve(doc,port=None)\n",
        "# import graphviz\n",
        "# graphviz.Source(deplacy.dot(doc))"
      ]
    },
    {
      "cell_type":"markdown",
      "metadata":{ "colab_type":"text" },
      "source":[
        "## le [COMBO-pytorch](https://gitlab.clarin-pl.eu/syntactic-tools/combo)\n"
      ]
    },
    {
      "cell_type":"code",
      "metadata":{ "colab_type":"code" },
      "source":[
        "!pip install --index-url https://pypi.clarin-pl.eu/simple deplacy combo\n",
        "import combo.predict\n",
        "nlp=combo.predict.COMBO.from_pretrained(\"irish-ud27\")\n",
        "doc=nlp(\"Táimid faoi dhraíocht ag ceol na farraige.\")\n",
        "import deplacy\n",
        "deplacy.render(doc)\n",
        "deplacy.serve(doc,port=None)\n",
        "# import graphviz\n",
        "# graphviz.Source(deplacy.dot(doc))"
      ]
    },
    {
      "cell_type":"markdown",
      "metadata":{ "colab_type":"text" },
      "source":[
        "## le [Trankit](https://github.com/nlp-uoregon/trankit)\n"
      ]
    },
    {
      "cell_type":"code",
      "metadata":{ "colab_type":"code" },
      "source":[
        "!pip install deplacy trankit transformers\n",
        "import trankit\n",
        "nlp=trankit.Pipeline(\"irish\")\n",
        "doc=nlp(\"Táimid faoi dhraíocht ag ceol na farraige.\")\n",
        "import deplacy\n",
        "deplacy.render(doc)\n",
        "deplacy.serve(doc,port=None)\n",
        "# import graphviz\n",
        "# graphviz.Source(deplacy.dot(doc))"
      ]
    },
    {
      "cell_type":"markdown",
      "metadata":{ "colab_type":"text" },
      "source":[
        "## le [spacy-udpipe](https://github.com/TakeLab/spacy-udpipe)\n"
      ]
    },
    {
      "cell_type":"code",
      "metadata":{ "colab_type":"code" },
      "source":[
        "!pip install deplacy spacy-udpipe\n",
        "import spacy_udpipe\n",
        "spacy_udpipe.download(\"ga\")\n",
        "nlp=spacy_udpipe.load(\"ga\")\n",
        "doc=nlp(\"Táimid faoi dhraíocht ag ceol na farraige.\")\n",
        "import deplacy\n",
        "deplacy.render(doc)\n",
        "deplacy.serve(doc,port=None)\n",
        "# import graphviz\n",
        "# graphviz.Source(deplacy.dot(doc))"
      ]
    },
    {
      "cell_type":"markdown",
      "metadata":{ "colab_type":"text" },
      "source":[
        "## le [spaCy-jPTDP](https://github.com/KoichiYasuoka/spaCy-jPTDP)\n"
      ]
    },
    {
      "cell_type":"code",
      "metadata":{ "colab_type":"code" },
      "source":[
        "!pip install deplacy spacy_jptdp\n",
        "import spacy_jptdp\n",
        "nlp=spacy_jptdp.load(\"ga_idt\")\n",
        "doc=nlp(\"Táimid faoi dhraíocht ag ceol na farraige.\")\n",
        "import deplacy\n",
        "deplacy.render(doc)\n",
        "deplacy.serve(doc,port=None)\n",
        "# import graphviz\n",
        "# graphviz.Source(deplacy.dot(doc))"
      ]
    },
    {
      "cell_type":"markdown",
      "metadata":{ "colab_type":"text" },
      "source":[
        "## le [Camphr-Udify](https://camphr.readthedocs.io/en/stable/notes/udify.html)\n"
      ]
    },
    {
      "cell_type":"code",
      "metadata":{ "colab_type":"code" },
      "source":[
        "!pip install deplacy camphr en-udify@https://github.com/PKSHATechnology-Research/camphr_models/releases/download/0.7.0/en_udify-0.7.tar.gz\n",
        "import pkg_resources,imp\n",
        "imp.reload(pkg_resources)\n",
        "import spacy\n",
        "nlp=spacy.load(\"en_udify\")\n",
        "doc=nlp(\"Táimid faoi dhraíocht ag ceol na farraige.\")\n",
        "import deplacy\n",
        "deplacy.render(doc)\n",
        "deplacy.serve(doc,port=None)\n",
        "# import graphviz\n",
        "# graphviz.Source(deplacy.dot(doc))"
      ]
    }
  ]
}
