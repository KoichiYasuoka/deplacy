{
  "nbformat":4,
  "nbformat_minor":0,
  "metadata":{
    "colab":{ "name":"deplacy para análisis sintáctico" },
    "kernelspec":{
      "name":"python3",
      "display_name":"Python 3"
    }
  },
  "cells":[
    {
      "cell_type":"markdown",
      "metadata":{ "colab_type":"text" },
      "source":[
        "# [deplacy](https://koichiyasuoka.github.io/deplacy/) para análisis sintáctico\n"
      ]
    },
    {
      "cell_type":"markdown",
      "metadata":{ "colab_type":"text" },
      "source":[
        "## con [spaCy](https://spacy.io/)\n"
      ]
    },
    {
      "cell_type":"code",
      "metadata":{ "colab_type":"code" },
      "source":[
        "!pip install deplacy\n",
        "!python -m spacy download es_core_news_sm\n",
        "import es_core_news_sm\n",
        "nlp=es_core_news_sm.load()\n",
        "doc=nlp(\"La pluma es la lengua del alma.\")\n",
        "import deplacy\n",
        "deplacy.render(doc)\n",
        "# deplacy.serve(doc,port=None)\n",
        "# import graphviz\n",
        "# graphviz.Source(deplacy.dot(doc))"
      ]
    },
    {
      "cell_type":"markdown",
      "metadata":{ "colab_type":"text" },
      "source":[
        "## con [Camphr-Udify](https://camphr.readthedocs.io/en/latest/notes/udify.html)\n"
      ]
    },
    {
      "cell_type":"code",
      "metadata":{ "colab_type":"code" },
      "source":[
        "!pip install deplacy en-udify@https://github.com/PKSHATechnology-Research/camphr_models/releases/download/0.5/en_udify-0.5.tar.gz\n",
        "import pkg_resources,imp\n",
        "imp.reload(pkg_resources)\n",
        "from camphr.pipelines import load_udify
        "nlp=load_udify.load(\"es\")\n",
        "doc=nlp(\"La pluma es la lengua del alma.\")\n",
        "import deplacy\n",
        "deplacy.render(doc)\n",
        "# deplacy.serve(doc,port=None)\n",
        "# import graphviz\n",
        "# graphviz.Source(deplacy.dot(doc))"
      ]
    },
    {
      "cell_type":"markdown",
      "metadata":{ "colab_type":"text" },
      "source":[
        "## con [Stanza](https://stanfordnlp.github.io/stanza)\n"
      ]
    },
    {
      "cell_type":"code",
      "metadata":{ "colab_type":"code" },
      "source":[
        "!pip install deplacy stanza\n",
        "import stanza\n",
        "stanza.download(\"es\")\n",
        "nlp=stanza.Pipeline(\"es\")\n",
        "doc=nlp(\"La pluma es la lengua del alma.\")\n",
        "from stanza.utils.conll import CoNLL\n",
        "d=CoNLL.conll_as_string(CoNLL.convert_dict(doc.to_dict()))\n",
        "import deplacy\n",
        "deplacy.render(d)\n",
        "# deplacy.serve(d,port=None)\n",
        "# import graphviz\n",
        "# graphviz.Source(deplacy.dot(d))"
      ]
    },
    {
      "cell_type":"markdown",
      "metadata":{ "colab_type":"text" },
      "source":[
        "## con [NLP-Cube](https://github.com/Adobe/NLP-Cube)\n"
      ]
    },
    {
      "cell_type":"code",
      "metadata":{ "colab_type":"code" },
      "source":[
        "!pip install deplacy nlpcube\n",
        "from cube.api import Cube\n",
        "nlp=Cube()\n",
        "nlp.load(\"es\")\n",
        "doc=nlp(\"La pluma es la lengua del alma.\")\n",
        "d=\"\".join(\"\".join(str(t)+\"\\n\" for t in s)+\"\\n\" for s in doc)\n",
        "import deplacy\n",
        "deplacy.render(d)\n",
        "# deplacy.serve(d,port=None)\n",
        "# import graphviz\n",
        "# graphviz.Source(deplacy.dot(d))"
      ]
    },
    {
      "cell_type":"markdown",
      "metadata":{ "colab_type":"text" },
      "source":[
        "## con [spacy-udpipe](https://github.com/TakeLab/spacy-udpipe)\n"
      ]
    },
    {
      "cell_type":"code",
      "metadata":{ "colab_type":"code" },
      "source":[
        "!pip install deplacy spacy-udpipe\n",
        "import spacy_udpipe\n",
        "spacy_udpipe.download(\"es\")\n",
        "nlp=spacy_udpipe.load(\"es\").tokenizer.model\n",
        "doc=nlp(\"La pluma es la lengua del alma.\")\n",
        "d=nlp.write(doc,\"conllu\")\n",
        "import deplacy\n",
        "deplacy.render(d)\n",
        "# deplacy.serve(d,port=None)\n",
        "# import graphviz\n",
        "# graphviz.Source(deplacy.dot(d))"
      ]
    }
  ]
}
