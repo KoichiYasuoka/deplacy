{
  "nbformat":4,
  "nbformat_minor":0,
  "metadata":{
    "colab":{ "name":"deplacy மூலம் தொடரியல் பகுப்பாய்வு" },
    "kernelspec":{
      "name":"python3",
      "display_name":"Python 3"
    }
  },
  "cells":[
    {
      "cell_type":"markdown",
      "metadata":{ "colab_type":"text" },
      "source":[
        "# [deplacy](https://koichiyasuoka.github.io/deplacy/) மூலம் தொடரியல் பகுப்பாய்வு\n"
      ]
    },
    {
      "cell_type":"markdown",
      "metadata":{ "colab_type":"text" },
      "source":[
        "## [Camphr-Udify](https://camphr.readthedocs.io/en/latest/notes/udify.html) ஆல் பகுப்பாய்வு\n"
      ]
    },
    {
      "cell_type":"code",
      "metadata":{ "colab_type":"code" },
      "source":[
        "!pip install -U deplacy camphr 'allennlp<1.3' en-udify@https://github.com/PKSHATechnology-Research/camphr_models/releases/download/0.7.0/en_udify-0.7.tar.gz\n",
        "import pkg_resources,imp\n",
        "imp.reload(pkg_resources)\n",
        "import spacy\n",
        "nlp=spacy.load(\"en_udify\")\n",
        "doc=nlp(\"காசுக்கு ஒரு குதிரையும் வேண்டும், காற்றைப் போலப் பறக்கவும் வேண்டும்.\")\n",
        "import deplacy\n",
        "deplacy.render(doc,WordRight=True)\n",
        "deplacy.serve(doc,port=None)\n",
        "# import graphviz\n",
        "# graphviz.Source(deplacy.dot(doc))"
      ]
    },
    {
      "cell_type":"markdown",
      "metadata":{ "colab_type":"text" },
      "source":[
        "## [UDPipe 2](http://ufal.mff.cuni.cz/udpipe/2) ஆல் பகுப்பாய்வு\n"
      ]
    },
    {
      "cell_type":"code",
      "metadata":{ "colab_type":"code" },
      "source":[
        "!pip install deplacy\n",
        "def nlp(t):\n",
        "  import urllib.request,urllib.parse,json\n",
        "  with urllib.request.urlopen(\"https://lindat.mff.cuni.cz/services/udpipe/api/process?model=ta&tokenizer&tagger&parser&data=\"+urllib.parse.quote(t)) as r:\n",
        "    return json.loads(r.read())[\"result\"]\n",
        "doc=nlp(\"காசுக்கு ஒரு குதிரையும் வேண்டும், காற்றைப் போலப் பறக்கவும் வேண்டும்.\")\n",
        "import deplacy\n",
        "deplacy.render(doc,WordRight=True)\n",
        "deplacy.serve(doc,port=None)\n",
        "# import graphviz\n",
        "# graphviz.Source(deplacy.dot(doc))"
      ]
    },
    {
      "cell_type":"markdown",
      "metadata":{ "colab_type":"text" },
      "source":[
        "## [spacy-udpipe](https://github.com/TakeLab/spacy-udpipe) ஆல் பகுப்பாய்வு\n"
      ]
    },
    {
      "cell_type":"code",
      "metadata":{ "colab_type":"code" },
      "source":[
        "!pip install deplacy spacy-udpipe\n",
        "import spacy_udpipe\n",
        "spacy_udpipe.download(\"ta\")\n",
        "nlp=spacy_udpipe.load(\"ta\")\n",
        "doc=nlp(\"காசுக்கு ஒரு குதிரையும் வேண்டும், காற்றைப் போலப் பறக்கவும் வேண்டும்.\")\n",
        "import deplacy\n",
        "deplacy.render(doc,WordRight=True)\n",
        "deplacy.serve(doc,port=None)\n",
        "# import graphviz\n",
        "# graphviz.Source(deplacy.dot(doc))"
      ]
    },
    {
      "cell_type":"markdown",
      "metadata":{ "colab_type":"text" },
      "source":[
        "## [ThamizhiUDp](http://nlp-tools.uom.lk/thamizhi-udp/) ஆல் பகுப்பாய்வு\n"
      ]
    },
    {
      "cell_type":"code",
      "metadata":{ "colab_type":"code" },
      "source":[
        "!test -f thamizhi-pos-morph-ud-parsers.zip || curl -LO http://nlp-tools.uom.lk/thamizhi-udp/thamizhi-pos-morph-ud-parsers.zip\n",
        "!test -d thamizhi-udp || ( mkdir -p thamizhi-udp && cd thamizhi-udp && unzip ../thamizhi-pos-morph-ud-parsers.zip )\n",
        "!pip install deplacy stanza uuparser==2.3\n",
        "import stanza\n",
        "stanza.download(\"ta\")\n",
        "tagger=stanza.Pipeline(lang=\"ta\",processors=\"tokenize,mwt,pos\",pos_model_path=\"thamizhi-udp/models/ta_amr_tagger.pt\",pos_pretrain_path=\"thamizhi-udp/models/ta_amr.pretrain.pt\")\n",
        "def nlp(t):\n",
        "  import subprocess,tempfile\n",
        "  from stanza.utils.conll import CoNLL\n",
        "  with tempfile.NamedTemporaryFile(\"w\",encoding=\"utf-8\") as f:\n",
        "    print(CoNLL.conll_as_string(CoNLL.convert_dict(tagger(t).to_dict())),file=f,flush=True)\n",
        "    subprocess.run([\"sh\",\"./parse.sh\",f.name],cwd=\"thamizhi-udp\")\n",
        "  with open(\"thamizhi-udp/ud-tagged.txt\",\"r\",encoding=\"utf-8\") as f:\n",
        "    return f.read()\n",
        "doc=nlp(\"காசுக்கு ஒரு குதிரையும் வேண்டும், காற்றைப் போலப் பறக்கவும் வேண்டும்.\")\n",
        "import deplacy\n",
        "deplacy.render(doc,WordRight=True)\n",
        "deplacy.serve(doc,port=None)\n",
        "# import graphviz\n",
        "# graphviz.Source(deplacy.dot(doc))"
      ]
    },
    {
      "cell_type":"markdown",
      "metadata":{ "colab_type":"text" },
      "source":[
        "## [Stanza](https://stanfordnlp.github.io/stanza) ஆல் பகுப்பாய்வு\n"
      ]
    },
    {
      "cell_type":"code",
      "metadata":{ "colab_type":"code" },
      "source":[
        "!pip install deplacy stanza\n",
        "import stanza\n",
        "stanza.download(\"ta\")\n",
        "nlp=stanza.Pipeline(\"ta\")\n",
        "doc=nlp(\"காசுக்கு ஒரு குதிரையும் வேண்டும், காற்றைப் போலப் பறக்கவும் வேண்டும்.\")\n",
        "import deplacy\n",
        "deplacy.render(doc,WordRight=True)\n",
        "deplacy.serve(doc,port=None)\n",
        "# import graphviz\n",
        "# graphviz.Source(deplacy.dot(doc))"
      ]
    },
    {
      "cell_type":"markdown",
      "metadata":{ "colab_type":"text" },
      "source":[
        "## [DiaParser](https://github.com/Unipisa/diaparser) ஆல் பகுப்பாய்வு\n"
      ]
    },
    {
      "cell_type":"code",
      "metadata":{ "colab_type":"code" },
      "source":[
        "!pip install deplacy diaparser\n",
        "from diaparser.parsers import Parser\n",
        "parser=Parser.load(\"ta_ttb.mbert\")\n",
        "nlp=lambda t:\"\\n\".join([str(s) for s in parser.predict(t,text=\"ta\",prob=True).sentences])\n",
        "doc=nlp(\"காசுக்கு ஒரு குதிரையும் வேண்டும், காற்றைப் போலப் பறக்கவும் வேண்டும்.\")\n",
        "import deplacy\n",
        "deplacy.render(doc,WordRight=True)\n",
        "deplacy.serve(doc,port=None)\n",
        "# import graphviz\n",
        "# graphviz.Source(deplacy.dot(doc))"
      ]
    }
  ]
}
