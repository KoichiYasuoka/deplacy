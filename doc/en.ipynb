{
  "nbformat":4,
  "nbformat_minor":0,
  "metadata":{
    "colab":{
      "name":"Syntax analysis by deplacy",
      "provenance":[]
    },
    "kernelspec":{
      "name":"python3",
      "display_name":"Python 3"
    }
  },
  "cells":[
    {
      "cell_type":"markdown",
      "metadata":{
        "colab_type":"text"
      },
      "source":[
        "# Syntax analysis by [deplacy](https://koichiyasuoka.github.io/deplacy/)\n"
      ]
    },
    {
      "cell_type":"markdown",
      "metadata":{
        "colab_type":"text"
      },
      "source":[
        "## Usage with [spaCy](https://spacy.io/)\n"
      ]
    },
    {
      "cell_type":"code",
      "metadata":{
        "colab_type":"code"
      },
      "source":[
        "!pip install deplacy\n",
        "import spacy\n",
        "nlp=spacy.load(\"en\")\n",
        "doc=nlp(\"I saw a horse yesterday which had no name.\")\n",
        "import deplacy\n",
        "deplacy.render(doc)\n",
        "# deplacy.serve(doc,port=None)\n",
        "# import graphviz\n",
        "# graphviz.Source(deplacy.dot(doc))"
      ]
    }
  ]
}
