{
  "nbformat":4,
  "nbformat_minor":0,
  "metadata":{
    "colab":{ "name":"deplacy برای تحلیل نحو" },
    "kernelspec":{
      "name":"python3",
      "display_name":"Python 3"
    }
  },
  "cells":[
    {
      "cell_type":"markdown",
      "metadata":{ "colab_type":"text" },
      "source":[
        "<h1 dir=\"rtl\"><a href=\"https://koichiyasuoka.github.io/deplacy/\">deplacy</a> برای تحلیل نحو</h1>\n"
      ]
    },
    {
      "cell_type":"markdown",
      "metadata":{ "colab_type":"text" },
      "source":[
        "<h2 dir=\"rtl\">با <a href=\"https://stanfordnlp.github.io/stanza\">Stanza</a></h2>\n"
      ]
    },
    {
      "cell_type":"code",
      "metadata":{ "colab_type":"code" },
      "source":[
        "!pip install deplacy stanza\n",
        "import stanza\n",
        "stanza.download(\"fa\")\n",
        "nlp=stanza.Pipeline(\"fa\")\n",
        "doc=nlp(\"به اعتقاد من موسيقي هنر نيست، بلكه متافيزيك است.\")\n",
        "import deplacy\n",
        "deplacy.render(doc,WordRight=True)\n",
        "deplacy.serve(doc,port=None,RtoL=True)\n",
        "# import graphviz\n",
        "# graphviz.Source(deplacy.dot(doc,RtoL=True))"
      ]
    },
    {
      "cell_type":"markdown",
      "metadata":{ "colab_type":"text" },
      "source":[
        "<h2 dir=\"rtl\">با <a href=\"https://github.com/KoichiYasuoka/spaCy-COMBO\">spaCy-COMBO</a></h2>\n"
      ]
    },
    {
      "cell_type":"code",
      "metadata":{ "colab_type":"code" },
      "source":[
        "!pip install deplacy spacy_combo\n",
        "import spacy_combo\n",
        "nlp=spacy_combo.load(\"fa_seraji\")\n",
        "doc=nlp(\"به اعتقاد من موسيقي هنر نيست، بلكه متافيزيك است.\")\n",
        "import deplacy\n",
        "deplacy.render(doc,WordRight=True)\n",
        "deplacy.serve(doc,port=None,RtoL=True)\n",
        "# import graphviz\n",
        "# graphviz.Source(deplacy.dot(doc,RtoL=True))"
      ]
    },
    {
      "cell_type":"markdown",
      "metadata":{ "colab_type":"text" },
      "source":[
        "<h2 dir=\"rtl\">با <a href=\"https://github.com/KoichiYasuoka/spaCy-jPTDP\">spaCy-jPTDP</a></h2>\n"
      ]
    },
    {
      "cell_type":"code",
      "metadata":{ "colab_type":"code" },
      "source":[
        "!pip install deplacy spacy_jptdp\n",
        "import spacy_jptdp\n",
        "nlp=spacy_jptdp.load(\"fa_seraji\")\n",
        "doc=nlp(\"به اعتقاد من موسيقي هنر نيست، بلكه متافيزيك است.\")\n",
        "import deplacy\n",
        "deplacy.render(doc,WordRight=True)\n",
        "deplacy.serve(doc,port=None,RtoL=True)\n",
        "# import graphviz\n",
        "# graphviz.Source(deplacy.dot(doc,RtoL=True))"
      ]
    },
    {
      "cell_type":"markdown",
      "metadata":{ "colab_type":"text" },
      "source":[
        "<h2 dir=\"rtl\">با <a href=\"https://github.com/TakeLab/spacy-udpipe\">spacy-udpipe</a></h2>\n"
      ]
    },
    {
      "cell_type":"code",
      "metadata":{ "colab_type":"code" },
      "source":[
        "!pip install deplacy spacy-udpipe\n",
        "import spacy_udpipe\n",
        "spacy_udpipe.download(\"fa\")\n",
        "nlp=spacy_udpipe.load(\"fa\")\n",
        "doc=nlp(\"به اعتقاد من موسيقي هنر نيست، بلكه متافيزيك است.\")\n",
        "import deplacy\n",
        "deplacy.render(doc,WordRight=True)\n",
        "deplacy.serve(doc,port=None,RtoL=True)\n",
        "# import graphviz\n",
        "# graphviz.Source(deplacy.dot(doc,RtoL=True))"
      ]
    },
    {
      "cell_type":"markdown",
      "metadata":{ "colab_type":"text" },
      "source":[
        "<h2 dir=\"rtl\">با <a href=\"https://github.com/nlp-uoregon/trankit\">Trankit</a></h2>\n"
      ]
    },
    {
      "cell_type":"code",
      "metadata":{ "colab_type":"code" },
      "source":[
        "!pip install deplacy trankit transformers\n",
        "import trankit\n",
        "nlp=trankit.Pipeline(\"persian\")\n",
        "doc=nlp(\"به اعتقاد من موسيقي هنر نيست، بلكه متافيزيك است.\")\n",
        "import deplacy\n",
        "deplacy.render(doc,WordRight=True)\n",
        "deplacy.serve(doc,port=None,RtoL=True)\n",
        "# import graphviz\n",
        "# graphviz.Source(deplacy.dot(doc,RtoL=True))"
      ]
    },
    {
      "cell_type":"markdown",
      "metadata":{ "colab_type":"text" },
      "source":[
        "<h2 dir=\"rtl\">با <a href=\"https://camphr.readthedocs.io/en/stable/notes/udify.html\">Camphr-Udify</a></h2>\n"
      ]
    },
    {
      "cell_type":"code",
      "metadata":{ "colab_type":"code" },
      "source":[
        "!pip install deplacy camphr en-udify@https://github.com/PKSHATechnology-Research/camphr_models/releases/download/0.7.0/en_udify-0.7.tar.gz\n",
        "import pkg_resources,imp\n",
        "imp.reload(pkg_resources)\n",
        "import spacy\n",
        "nlp=spacy.load(\"en_udify\")\n",
        "doc=nlp(\"به اعتقاد من موسيقي هنر نيست، بلكه متافيزيك است.\")\n",
        "import deplacy\n",
        "deplacy.render(doc,WordRight=True)\n",
        "deplacy.serve(doc,port=None,RtoL=True)\n",
        "# import graphviz\n",
        "# graphviz.Source(deplacy.dot(doc,RtoL=True))"
      ]
    },
    {
      "cell_type":"markdown",
      "metadata":{ "colab_type":"text" },
      "source":[
        "<h2 dir=\"rtl\">با <a href=\"http://ufal.mff.cuni.cz/udpipe/2\">UDPipe 2</a></h2>\n"
      ]
    },
    {
      "cell_type":"code",
      "metadata":{ "colab_type":"code" },
      "source":[
        "!pip install deplacy\n",
        "def nlp(t):\n",
        "  import urllib.request,urllib.parse,json\n",
        "  with urllib.request.urlopen(\"https://lindat.mff.cuni.cz/services/udpipe/api/process?model=fa&tokenizer&tagger&parser&data=\"+urllib.parse.quote(t)) as r:\n",
        "    return json.loads(r.read())[\"result\"]\n",
        "doc=nlp(\"به اعتقاد من موسيقي هنر نيست، بلكه متافيزيك است.\")\n",
        "import deplacy\n",
        "deplacy.render(doc,WordRight=True)\n",
        "deplacy.serve(doc,port=None,RtoL=True)\n",
        "# import graphviz\n",
        "# graphviz.Source(deplacy.dot(doc,RtoL=True))"
      ]
    },
    {
      "cell_type":"markdown",
      "metadata":{ "colab_type":"text" },
      "source":[
        "<h2 dir=\"rtl\">با <a href=\"https://github.com/sobhe/hazm\">Hazm</a></h2>\n"
      ]
    },
    {
      "cell_type":"code",
      "metadata":{ "colab_type":"code" },
      "source":[
        "!pip install deplacy hazm\n",
        "!test -f resources-0.5.zip || curl -LO https://github.com/sobhe/hazm/releases/download/v0.5/resources-0.5.zip\n",
        "!test -d resources || ( mkdir -p resources && cd resources && unzip ../resources-0.5.zip )\n",
        "import hazm\n",
        "nlp=lambda t:hazm.DependencyParser(tagger=hazm.POSTagger(model=\"resources/postagger.model\"),lemmatizer=hazm.Lemmatizer()).parse(hazm.word_tokenize(t))\n",
        "doc=nlp(\"به اعتقاد من موسيقي هنر نيست، بلكه متافيزيك است.\")\n",
        "import deplacy\n",
        "deplacy.render(doc,WordRight=True)\n",
        "deplacy.serve(doc,port=None,RtoL=True)\n",
        "# import graphviz\n",
        "# graphviz.Source(deplacy.dot(doc,RtoL=True))"
      ]
    }
  ]
}
