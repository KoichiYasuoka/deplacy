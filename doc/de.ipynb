{
  "nbformat":4,
  "nbformat_minor":0,
  "metadata":{
    "colab":{ "name":"Syntaxanalyse durch Deplacy" },
    "kernelspec":{
      "name":"python3",
      "display_name":"Python 3"
    }
  },
  "cells":[
    {
      "cell_type":"markdown",
      "metadata":{ "colab_type":"text" },
      "source":[
        "# Syntaxanalyse durch [Deplacy](https://koichiyasuoka.github.io/deplacy/)\n"
      ]
    },
    {
      "cell_type":"markdown",
      "metadata":{ "colab_type":"text" },
      "source":[
        "## mit [Camphr-Udify](https://camphr.readthedocs.io/en/latest/notes/udify.html)\n"
      ]
    },
    {
      "cell_type":"code",
      "metadata":{ "colab_type":"code" },
      "source":[
        "!pip install deplacy en-udify@https://github.com/PKSHATechnology-Research/camphr_models/releases/download/0.5/en_udify-0.5.tar.gz\n",
        "import pkg_resources,imp\n",
        "imp.reload(pkg_resources)\n",
        "from camphr.pipelines import load_udify
        "nlp=load_udify.load(\"de\")\n",
        "doc=nlp(\"Er sieht sehr jung aus.\")\n",
        "import deplacy\n",
        "deplacy.render(doc)\n",
        "# deplacy.serve(doc,port=None)\n",
        "# import graphviz\n",
        "# graphviz.Source(deplacy.dot(doc))"
      ]
    },
    {
      "cell_type":"markdown",
      "metadata":{ "colab_type":"text" },
      "source":[
        "## mit [Stanza](https://stanfordnlp.github.io/stanza)\n"
      ]
    },
    {
      "cell_type":"code",
      "metadata":{ "colab_type":"code" },
      "source":[
        "!pip install deplacy stanza\n",
        "import stanza\n",
        "stanza.download(\"de\")\n",
        "nlp=stanza.Pipeline(\"de\")\n",
        "doc=nlp(\"Er sieht sehr jung aus.\")\n",
        "from stanza.utils.conll import CoNLL\n",
        "d=CoNLL.conll_as_string(CoNLL.convert_dict(doc.to_dict()))\n",
        "import deplacy\n",
        "deplacy.render(d)\n",
        "# deplacy.serve(d,port=None)\n",
        "# import graphviz\n",
        "# graphviz.Source(deplacy.dot(d))"
      ]
    },
    {
      "cell_type":"markdown",
      "metadata":{ "colab_type":"text" },
      "source":[
        "## mit [NLP-Cube](https://github.com/Adobe/NLP-Cube)\n"
      ]
    },
    {
      "cell_type":"code",
      "metadata":{ "colab_type":"code" },
      "source":[
        "!pip install deplacy nlpcube\n",
        "from cube.api import Cube\n",
        "nlp=Cube()\n",
        "nlp.load(\"de\")\n",
        "doc=nlp(\"Er sieht sehr jung aus.\")\n",
        "d=\"\".join(\"\".join(str(t)+\"\\n\" for t in s)+\"\\n\" for s in doc)\n",
        "import deplacy\n",
        "deplacy.render(d)\n",
        "# deplacy.serve(d,port=None)\n",
        "# import graphviz\n",
        "# graphviz.Source(deplacy.dot(d))"
      ]
    },
    {
      "cell_type":"markdown",
      "metadata":{ "colab_type":"text" },
      "source":[
        "## mit [Spacy-udpipe](https://github.com/TakeLab/spacy-udpipe)\n"
      ]
    },
    {
      "cell_type":"code",
      "metadata":{ "colab_type":"code" },
      "source":[
        "!pip install deplacy spacy-udpipe\n",
        "import spacy_udpipe\n",
        "spacy_udpipe.download(\"de\")\n",
        "nlp=spacy_udpipe.load(\"de\").tokenizer.model\n",
        "doc=nlp(\"Er sieht sehr jung aus.\")\n",
        "d=nlp.write(doc,\"conllu\")\n",
        "import deplacy\n",
        "deplacy.render(d)\n",
        "# deplacy.serve(d,port=None)\n",
        "# import graphviz\n",
        "# graphviz.Source(deplacy.dot(d))"
      ]
    },
    {
      "cell_type":"markdown",
      "metadata":{ "colab_type":"text" },
      "source":[
        "## mit [Spacy](https://spacy.io/)\n"
      ]
    },
    {
      "cell_type":"code",
      "metadata":{ "colab_type":"code" },
      "source":[
        "!pip install deplacy\n",
        "!python -m spacy download de_core_news_sm\n",
        "import de_core_news_sm\n",
        "nlp=de_core_news_sm.load()\n",
        "doc=nlp(\"Er sieht sehr jung aus.\")\n",
        "import deplacy\n",
        "deplacy.render(doc)\n",
        "# deplacy.serve(doc,port=None)\n",
        "# import graphviz\n",
        "# graphviz.Source(deplacy.dot(doc))"
      ]
    }
  ]
}
