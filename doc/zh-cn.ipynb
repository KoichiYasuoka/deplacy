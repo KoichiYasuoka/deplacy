{
  "nbformat":4,
  "nbformat_minor":0,
  "metadata":{
    "colab":{ "name":"deplacy句法分析" },
    "kernelspec":{
      "name":"python3",
      "display_name":"Python 3"
    }
  },
  "cells":[
    {
      "cell_type":"markdown",
      "metadata":{ "colab_type":"text" },
      "source":[
        "# [deplacy](https://koichiyasuoka.github.io/deplacy/)句法分析\n"
      ]
    },
    {
      "cell_type":"markdown",
      "metadata":{ "colab_type":"text" },
      "source":[
        "## 和[Stanza](https://stanfordnlp.github.io/stanza)\n"
      ]
    },
    {
      "cell_type":"code",
      "metadata":{ "colab_type":"code" },
      "source":[
        "!pip install deplacy stanza\n",
        "import stanza\n",
        "stanza.download(\"zh-hans\")\n",
        "nlp=stanza.Pipeline(\"zh-hans\")\n",
        "doc=nlp(\"不管黑猫白猫，捉到老鼠就是好猫。\")\n",
        "from stanza.utils.conll import CoNLL\n",
        "d=CoNLL.conll_as_string(CoNLL.convert_dict(doc.to_dict()))\n",
        "import deplacy\n",
        "deplacy.render(d)\n",
        "# deplacy.serve(d,port=None)\n",
        "# import graphviz\n",
        "# graphviz.Source(deplacy.dot(d))"
      ]
    }
  ]
}
