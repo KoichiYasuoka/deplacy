{
  "nbformat":4,
  "nbformat_minor":0,
  "metadata":{
    "colab":{ "name":"deplacy句法分析" },
    "kernelspec":{
      "name":"python3",
      "display_name":"Python 3"
    }
  },
  "cells":[
    {
      "cell_type":"markdown",
      "metadata":{ "colab_type":"text" },
      "source":[
        "# [deplacy](https://koichiyasuoka.github.io/deplacy/)句法分析\n"
      ]
    },
    {
      "cell_type":"markdown",
      "metadata":{ "colab_type":"text" },
      "source":[
        "## 用[Stanza](https://stanfordnlp.github.io/stanza)\n"
      ]
    },
    {
      "cell_type":"code",
      "metadata":{ "colab_type":"code" },
      "source":[
        "!pip install deplacy stanza\n",
        "import stanza\n",
        "stanza.download(\"zh-hans\")\n",
        "nlp=stanza.Pipeline(\"zh-hans\")\n",
        "doc=nlp(\"不管黑猫白猫，捉到老鼠就是好猫。\")\n",
        "import deplacy\n",
        "deplacy.render(doc)\n",
        "deplacy.serve(doc,port=None)\n",
        "# import graphviz\n",
        "# graphviz.Source(deplacy.dot(doc))"
      ]
    },
    {
      "cell_type":"markdown",
      "metadata":{ "colab_type":"text" },
      "source":[
        "## 用[UDPipe 2](http://ufal.mff.cuni.cz/udpipe/2)\n"
      ]
    },
    {
      "cell_type":"code",
      "metadata":{ "colab_type":"code" },
      "source":[
        "!pip install deplacy\n",
        "def nlp(t):\n",
        "  import urllib.request,urllib.parse,json\n",
        "  with urllib.request.urlopen(\"https://lindat.mff.cuni.cz/services/udpipe/api/process?model=zh_gsdsimp&tokenizer&tagger&parser&data=\"+urllib.parse.quote(t)) as r:\n",
        "    return json.loads(r.read())[\"result\"]\n",
        "doc=nlp(\"不管黑猫白猫，捉到老鼠就是好猫。\")\n",
        "import deplacy\n",
        "deplacy.render(doc)\n",
        "deplacy.serve(doc,port=None)\n",
        "# import graphviz\n",
        "# graphviz.Source(deplacy.dot(doc))"
      ]
    },
    {
      "cell_type":"markdown",
      "metadata":{ "colab_type":"text" },
      "source":[
        "## 用[spacy-udpipe](https://github.com/TakeLab/spacy-udpipe)\n"
      ]
    },
    {
      "cell_type":"code",
      "metadata":{ "colab_type":"code" },
      "source":[
        "!pip install deplacy spacy-udpipe\n",
        "import spacy_udpipe\n",
        "spacy_udpipe.download(\"zh-gsdsimp\")\n",
        "nlp=spacy_udpipe.load(\"zh-gsdsimp\")\n",
        "doc=nlp(\"不管黑猫白猫，捉到老鼠就是好猫。\")\n",
        "import deplacy\n",
        "deplacy.render(doc)\n",
        "deplacy.serve(doc,port=None)\n",
        "# import graphviz\n",
        "# graphviz.Source(deplacy.dot(doc))"
      ]
    },
    {
      "cell_type":"markdown",
      "metadata":{ "colab_type":"text" },
      "source":[
        "## 用[UD-Chinese](https://pypi.org/project/udchinese)\n"
      ]
    },
    {
      "cell_type":"code",
      "metadata":{ "colab_type":"code" },
      "source":[
        "!pip install deplacy udchinese\n",
        "import udchinese\n",
        "nlp=udchinese.load()\n",
        "doc=nlp(\"不管黑猫白猫，捉到老鼠就是好猫。\")\n",
        "import deplacy\n",
        "deplacy.render(doc)\n",
        "deplacy.serve(doc,port=None)\n",
        "# import graphviz\n",
        "# graphviz.Source(deplacy.dot(doc))"
      ]
    },
    {
      "cell_type":"markdown",
      "metadata":{ "colab_type":"text" },
      "source":[
        "## 用[spaCy](https://spacy.io/)\n"
      ]
    },
    {
      "cell_type":"code",
      "metadata":{ "colab_type":"code" },
      "source":[
        "!pip install deplacy\n",
        "!sudo pip install -U spacy\n",
        "!sudo python -m spacy download zh_core_web_trf\n",
        "import pkg_resources,imp\n",
        "imp.reload(pkg_resources)\n",
        "import spacy\n",
        "nlp=spacy.load(\"zh_core_web_trf\")\n",
        "doc=nlp(\"不管黑猫白猫，捉到老鼠就是好猫。\")\n",
        "import deplacy\n",
        "deplacy.render(doc)\n",
        "deplacy.serve(doc,port=None)\n",
        "# import graphviz\n",
        "# graphviz.Source(deplacy.dot(doc))"
      ]
    },
    {
      "cell_type":"markdown",
      "metadata":{ "colab_type":"text" },
      "source":[
        "## 用[DDParser](https://github.com/baidu/DDParser)\n"
      ]
    },
    {
      "cell_type":"code",
      "metadata":{ "colab_type":"code" },
      "source":[
        "!pip install deplacy ddparser\n",
        "from ddparser import DDParser\n",
        "ddp=DDParser(use_pos=True)\n",
        "nlp=lambda t:\"\".join([\"\\n\".join([\"\\t\".join([str(i+1),w,w,p,p,\"_\",str(h),d,\"_\",\"SpaceAfter=No\"]) for i,(w,p,h,d) in enumerate(zip(s[\"word\"],s[\"postag\"],s[\"head\"],s[\"deprel\"]))])+\"\\n\\n\" for s in ddp.parse(t)])\n",
        "doc=nlp(\"不管黑猫白猫，捉到老鼠就是好猫。\")\n",
        "import deplacy\n",
        "deplacy.render(doc)\n",
        "deplacy.serve(doc,port=None)\n",
        "# import graphviz\n",
        "# graphviz.Source(deplacy.dot(doc))"
      ]
    },
    {
      "cell_type":"markdown",
      "metadata":{ "colab_type":"text" },
      "source":[
        "## 用[fastHan](https://github.com/fastnlp/fastHan)\n"
      ]
    },
    {
      "cell_type":"code",
      "metadata":{ "colab_type":"code" },
      "source":[
        "!pip install deplacy fastHan\n",
        "from fastHan import FastHan\n",
        "model=FastHan()\n",
        "nlp=lambda x:\"\".join(\"\n\".join(\"\t\".join([str(i+1),t[0],\"_\",t[3],t[3],\"_\",str(t[1]),t[2],\"_\",\"SpaceAfter=No\"]) for i,t in enumerate(s))+\"\n\n\" for s in model(x,\"Parsing\"))\n",
        "doc=nlp(\"不管黑猫白猫，捉到老鼠就是好猫。\")\n",
        "import deplacy\n",
        "deplacy.render(doc)\n",
        "deplacy.serve(doc,port=None)\n",
        "# import graphviz\n",
        "# graphviz.Source(deplacy.dot(doc))"
      ]
    }
  ]
}
