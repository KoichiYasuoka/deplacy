{
  "nbformat":4,
  "nbformat_minor":0,
  "metadata":{
    "colab":{ "name":"deplacy句法分析" },
    "kernelspec":{
      "name":"python3",
      "display_name":"Python 3"
    }
  },
  "cells":[
    {
      "cell_type":"markdown",
      "metadata":{ "colab_type":"text" },
      "source":[
        "# [deplacy](https://koichiyasuoka.github.io/deplacy/)句法分析\n"
      ]
    },
    {
      "cell_type":"markdown",
      "metadata":{ "colab_type":"text" },
      "source":[
        "## 用[Stanza](https://stanfordnlp.github.io/stanza)\n"
      ]
    },
    {
      "cell_type":"code",
      "metadata":{ "colab_type":"code" },
      "source":[
        "!pip install deplacy stanza\n",
        "import stanza\n",
        "stanza.download(\"zh-hans\")\n",
        "nlp=stanza.Pipeline(\"zh-hans\")\n",
        "doc=nlp(\"不管黑猫白猫，捉到老鼠就是好猫。\")\n",
        "from stanza.utils.conll import CoNLL\n",
        "d=CoNLL.conll_as_string(CoNLL.convert_dict(doc.to_dict()))\n",
        "import deplacy\n",
        "deplacy.render(d)\n",
        "deplacy.serve(d,port=None)\n",
        "# import graphviz\n",
        "# graphviz.Source(deplacy.dot(d))"
      ]
    },
    {
      "cell_type":"markdown",
      "metadata":{ "colab_type":"text" },
      "source":[
        "## 用[Camphr-Udify](https://camphr.readthedocs.io/en/latest/notes/udify.html)\n"
      ]
    },
    {
      "cell_type":"code",
      "metadata":{ "colab_type":"code" },
      "source":[
        "!pip install deplacy jieba en-udify@https://github.com/PKSHATechnology-Research/camphr_models/releases/download/0.5/en_udify-0.5.tar.gz\n",
        "import pkg_resources,imp\n",
        "imp.reload(pkg_resources)\n",
        "from camphr.pipelines import load_udify\n",
        "nlp=load_udify(\"zh\")\n",
        "doc=nlp(\"不管黑猫白猫，捉到老鼠就是好猫。\")\n",
        "import deplacy\n",
        "deplacy.render(doc)\n",
        "deplacy.serve(doc,port=None)\n",
        "# import graphviz\n",
        "# graphviz.Source(deplacy.dot(doc))"
      ]
    },
    {
      "cell_type":"markdown",
      "metadata":{ "colab_type":"text" },
      "source":[
        "## 用[spacy-udpipe](https://github.com/TakeLab/spacy-udpipe)\n"
      ]
    },
    {
      "cell_type":"code",
      "metadata":{ "colab_type":"code" },
      "source":[
        "!pip install deplacy spacy-udpipe\n",
        "import spacy_udpipe\n",
        "spacy_udpipe.download(\"zh-gsdsimp\")\n",
        "nlp=spacy_udpipe.load(\"zh-gsdsimp\")\n",
        "doc=nlp(\"不管黑猫白猫，捉到老鼠就是好猫。\")\n",
        "import deplacy\n",
        "deplacy.render(doc)\n",
        "deplacy.serve(doc,port=None)\n",
        "# import graphviz\n",
        "# graphviz.Source(deplacy.dot(doc))"
      ]
    },
    {
      "cell_type":"markdown",
      "metadata":{ "colab_type":"text" },
      "source":[
        "## 用[UD-Chinese](https://pypi.org/project/udchinese)\n"
      ]
    },
    {
      "cell_type":"code",
      "metadata":{ "colab_type":"code" },
      "source":[
        "!pip install deplacy udchinese\n",
        "import udchinese\n",
        "nlp=udchinese.load()\n",
        "doc=nlp(\"不管黑猫白猫，捉到老鼠就是好猫。\")\n",
        "d=str(doc)\n",
        "import deplacy\n",
        "deplacy.render(d)\n",
        "deplacy.serve(d,port=None)\n",
        "# import graphviz\n",
        "# graphviz.Source(deplacy.dot(d))"
      ]
    }
  ]
}
