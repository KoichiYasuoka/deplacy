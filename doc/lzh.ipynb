{
  "nbformat":4,
  "nbformat_minor":0,
  "metadata":{
    "colab":{ "name":"使deplacy析句" },
    "kernelspec":{ "name":"python3" }
  },
  "cells":[
    {
      "cell_type":"markdown",
      "metadata":{ "colab_type":"text" },
      "source":[
        "# 使[deplacy](https://koichiyasuoka.github.io/deplacy/)析句\n"
      ]
    },
    {
      "cell_type":"markdown",
      "metadata":{ "colab_type":"text" },
      "source":[
        "## 於[UD-Kanbun](https://github.com/KoichiYasuoka/UD-Kanbun)\n"
      ]
    },
    {
      "cell_type":"code",
      "metadata":{ "colab_type":"code" },
      "source":[
        "!pip install deplacy udkanbun\n",
        "import udkanbun\n",
        "nlp=udkanbun.load(Danku=True)\n",
        "doc=nlp(\"瓜田不納履李下不正冠\")\n",
        "d=str(doc)\n",
        "import deplacy\n",
        "deplacy.render(d)\n",
        "# deplacy.serve(d,port=None)\n",
        "# import graphviz\n",
        "# graphviz.Source(deplacy.dot(d))"
      ]
    },
    {
      "cell_type":"markdown",
      "metadata":{ "colab_type":"text" },
      "source":[
        "## 於[spacy-udpipe](https://github.com/TakeLab/spacy-udpipe)\n"
      ]
    },
    {
      "cell_type":"code",
      "metadata":{ "colab_type":"code" },
      "source":[
        "!pip install deplacy spacy-udpipe\n",
        "import spacy_udpipe\n",
        "spacy_udpipe.download(\"lzh\")\n",
        "nlp=spacy_udpipe.load(\"lzh\")\n",
        "doc=nlp(\"瓜田不納履李下不正冠\")\n",
        "import deplacy\n",
        "deplacy.render(doc)\n",
        "# deplacy.serve(doc,port=None)\n",
        "# import graphviz\n",
        "# graphviz.Source(deplacy.dot(doc))"
      ]
    },
    {
      "cell_type":"markdown",
      "metadata":{ "colab_type":"text" },
      "source":[
        "## 於[Stanza](https://stanfordnlp.github.io/stanza)\n"
      ]
    },
    {
      "cell_type":"code",
      "metadata":{ "colab_type":"code" },
      "source":[
        "!pip install deplacy stanza\n",
        "import stanza\n",
        "stanza.download(\"lzh\")\n",
        "nlp=stanza.Pipeline(\"lzh\")\n",
        "doc=nlp(\"瓜田不納履李下不正冠\")\n",
        "from stanza.utils.conll import CoNLL\n",
        "d=CoNLL.conll_as_string(CoNLL.convert_dict(doc.to_dict()))\n",
        "import deplacy\n",
        "deplacy.render(d)\n",
        "# deplacy.serve(d,port=None)\n",
        "# import graphviz\n",
        "# graphviz.Source(deplacy.dot(d))"
      ]
    }
  ]
}
