{
  "nbformat":4,
  "nbformat_minor":0,
  "metadata":{
    "colab":{ "name":"deplacy за синтактичен анализ" },
    "kernelspec":{
      "name":"python3",
      "display_name":"Python 3"
    }
  },
  "cells":[
    {
      "cell_type":"markdown",
      "metadata":{ "colab_type":"text" },
      "source":[
        "# [deplacy](https://koichiyasuoka.github.io/deplacy/) за синтактичен анализ"
      ]
    },
    {
      "cell_type":"markdown",
      "metadata":{ "colab_type":"text" },
      "source":[
        "## с [Camphr-Udify](https://camphr.readthedocs.io/en/latest/notes/udify.html)\n"
      ]
    },
    {
      "cell_type":"code",
      "metadata":{ "colab_type":"code" },
      "source":[
        "!pip install deplacy camphr en-udify@https://github.com/PKSHATechnology-Research/camphr_models/releases/download/0.7.0/en_udify-0.7.tar.gz\n",
        "import pkg_resources,imp\n",
        "imp.reload(pkg_resources)\n",
        "import spacy\n",
        "nlp=spacy.load(\"en_udify\")\n",
        "doc=nlp(\"Гладна мечка хоро не играе.\")\n",
        "import deplacy\n",
        "deplacy.render(doc)\n",
        "deplacy.serve(doc,port=None)\n",
        "# import graphviz\n",
        "# graphviz.Source(deplacy.dot(doc))"
      ]
    },
    {
      "cell_type":"markdown",
      "metadata":{ "colab_type":"text" },
      "source":[
        "## с [CLASSLA](https://github.com/clarinsi/classla-stanfordnlp)\n"
      ]
    },
    {
      "cell_type":"code",
      "metadata":{ "colab_type":"code" },
      "source":[
        "!pip install deplacy classla\n",
        "import classla\n",
        "classla.download(\"bg\",resource_dir=\"/root/classla_resources\",force=True)\n",
        "nlp=classla.Pipeline(\"bg\")\n",
        "doc=nlp(\"Гладна мечка хоро не играе.\")\n",
        "import deplacy\n",
        "deplacy.render(doc)\n",
        "deplacy.serve(doc,port=None)\n",
        "# import graphviz\n",
        "# graphviz.Source(deplacy.dot(doc))"
      ]
    },
    {
      "cell_type":"markdown",
      "metadata":{ "colab_type":"text" },
      "source":[
        "## с [NLP-Cube](https://github.com/Adobe/NLP-Cube)\n"
      ]
    },
    {
      "cell_type":"code",
      "metadata":{ "colab_type":"code" },
      "source":[
        "!pip install deplacy nlpcube\n",
        "from cube.api import Cube\n",
        "nlp=Cube()\n",
        "nlp.load(\"bg\")\n",
        "doc=nlp(\"Гладна мечка хоро не играе.\")\n",
        "import deplacy\n",
        "deplacy.render(doc)\n",
        "deplacy.serve(doc,port=None)\n",
        "# import graphviz\n",
        "# graphviz.Source(deplacy.dot(doc))"
      ]
    },
    {
      "cell_type":"markdown",
      "metadata":{ "colab_type":"text" },
      "source":[
        "## с [Stanza](https://stanfordnlp.github.io/stanza)\n"
      ]
    },
    {
      "cell_type":"code",
      "metadata":{ "colab_type":"code" },
      "source":[
        "!pip install deplacy stanza\n",
        "import stanza\n",
        "stanza.download(\"bg\")\n",
        "nlp=stanza.Pipeline(\"bg\")\n",
        "doc=nlp(\"Гладна мечка хоро не играе.\")\n",
        "import deplacy\n",
        "deplacy.render(doc)\n",
        "deplacy.serve(doc,port=None)\n",
        "# import graphviz\n",
        "# graphviz.Source(deplacy.dot(doc))"
      ]
    },
    {
      "cell_type":"markdown",
      "metadata":{ "colab_type":"text" },
      "source":[
        "## с [spaCy-COMBO](https://github.com/KoichiYasuoka/spaCy-COMBO)\n"
      ]
    },
    {
      "cell_type":"code",
      "metadata":{ "colab_type":"code" },
      "source":[
        "!pip install deplacy spacy_combo\n",
        "import spacy_combo\n",
        "nlp=spacy_combo.load(\"bg_btb\")\n",
        "doc=nlp(\"Гладна мечка хоро не играе.\")\n",
        "import deplacy\n",
        "deplacy.render(doc)\n",
        "deplacy.serve(doc,port=None)\n",
        "# import graphviz\n",
        "# graphviz.Source(deplacy.dot(doc))"
      ]
    },
    {
      "cell_type":"markdown",
      "metadata":{ "colab_type":"text" },
      "source":[
        "## с [Turku-neural-parser-pipeline](https://turkunlp.org/Turku-neural-parser-pipeline/)\n"
      ]
    },
    {
      "cell_type":"code",
      "metadata":{ "colab_type":"code" },
      "source":[
        "!pip install deplacy ufal.udpipe configargparse tensorflow==1.12.2 torch==0.4.1 torchtext==0.3.1 torchvision==0.2.1\n",
        "!test -d Turku-neural-parser-pipeline || git clone --depth=1 https://github.com/TurkuNLP/Turku-neural-parser-pipeline\n",
        "!cd Turku-neural-parser-pipeline && git submodule update --init --recursive && test -d models_bg_btb || python fetch_models.py bg_btb\n",
        "import sys,subprocess\n",
        "nlp=lambda t:subprocess.run([sys.executable,\"full_pipeline_stream.py\",\"--gpu\",\"-1\",\"--conf\",\"models_bg_btb/pipelines.yaml\"],cwd=\"Turku-neural-parser-pipeline\",input=t,encoding=\"utf-8\",stdout=subprocess.PIPE).stdout\n",
        "doc=nlp(\"Гладна мечка хоро не играе.\")\n",
        "import deplacy\n",
        "deplacy.render(doc)\n",
        "deplacy.serve(doc,port=None)\n",
        "# import graphviz\n",
        "# graphviz.Source(deplacy.dot(doc))"
      ]
    },
    {
      "cell_type":"markdown",
      "metadata":{ "colab_type":"text" },
      "source":[
        "## с [spacy-udpipe](https://github.com/TakeLab/spacy-udpipe)\n"
      ]
    },
    {
      "cell_type":"code",
      "metadata":{ "colab_type":"code" },
      "source":[
        "!pip install deplacy spacy-udpipe\n",
        "import spacy_udpipe\n",
        "spacy_udpipe.download(\"bg\")\n",
        "nlp=spacy_udpipe.load(\"bg\")\n",
        "doc=nlp(\"Гладна мечка хоро не играе.\")\n",
        "import deplacy\n",
        "deplacy.render(doc)\n",
        "deplacy.serve(doc,port=None)\n",
        "# import graphviz\n",
        "# graphviz.Source(deplacy.dot(doc))"
      ]
    }
  ]
}
