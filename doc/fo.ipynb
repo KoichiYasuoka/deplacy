{
  "nbformat":4,
  "nbformat_minor":0,
  "metadata":{
    "colab":{ "name":"Mállærugreining við deplacy" },
    "kernelspec":{
      "name":"python3",
      "display_name":"Python 3"
    }
  },
  "cells":[
    {
      "cell_type":"markdown",
      "metadata":{ "colab_type":"text" },
      "source":[
        "# Mállærugreining við [deplacy](https://koichiyasuoka.github.io/deplacy/)\n"
      ]
    },
    {
      "cell_type":"markdown",
      "metadata":{ "colab_type":"text" },
      "source":[
        "## av [Stanza](https://stanfordnlp.github.io/stanza)\n"
      ]
    },
    {
      "cell_type":"code",
      "metadata":{ "colab_type":"code" },
      "source":[
        "!pip install deplacy stanza\n",
        "import stanza\n",
        "stanza.download(\"fo\")\n",
        "nlp=stanza.Pipeline(\"fo\")\n",
        "doc=nlp(\"Ofta taka trøll góða manna børn.\")\n",
        "import deplacy\n",
        "deplacy.render(doc)\n",
        "deplacy.serve(doc,port=None)\n",
        "# import graphviz\n",
        "# graphviz.Source(deplacy.dot(doc))"
      ]
    },
    {
      "cell_type":"markdown",
      "metadata":{ "colab_type":"text" },
      "source":[
        "## av [Turku-neural-parser-pipeline](https://turkunlp.org/Turku-neural-parser-pipeline/)\n"
      ]
    },
    {
      "cell_type":"code",
      "metadata":{ "colab_type":"code" },
      "source":[
        "!pip install deplacy ufal.udpipe configargparse 'tensorflow<2' torch==0.4.1 torchtext==0.3.1 torchvision==0.2.1\n",
        "!test -d Turku-neural-parser-pipeline || git clone --depth=1 https://github.com/TurkuNLP/Turku-neural-parser-pipeline\n",
        "!cd Turku-neural-parser-pipeline && git submodule update --init --recursive && test -d models_fo_oft || python fetch_models.py fo_oft\n",
        "!cd Turku-neural-parser-pipeline/models_fo_oft/Data && test -f wiki.filtered.fo.vec || ln -s wiki.fo.vec wiki.filtered.fo.vec\n",
        "import sys,subprocess\n",
        "nlp=lambda t:subprocess.run([sys.executable,\"full_pipeline_stream.py\",\"--gpu\",\"-1\",\"--conf\",\"models_fo_oft/pipelines.yaml\"],cwd=\"Turku-neural-parser-pipeline\",input=t,encoding=\"utf-8\",stdout=subprocess.PIPE).stdout\n",
        "doc=nlp(\"Ofta taka trøll góða manna børn.\")\n",
        "import deplacy\n",
        "deplacy.render(doc)\n",
        "deplacy.serve(doc,port=None)\n",
        "# import graphviz\n",
        "# graphviz.Source(deplacy.dot(doc))"
      ]
    }
  ]
}
