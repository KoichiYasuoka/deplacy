{
  "nbformat":4,
  "nbformat_minor":0,
  "metadata":{
    "colab":{ "name":"deplacy sintaksinei analizei" },
    "kernelspec":{
      "name":"python3",
      "display_name":"Python 3"
    }
  },
  "cells":[
    {
      "cell_type":"markdown",
      "metadata":{ "colab_type":"text" },
      "source":[
        "# [deplacy](https://koichiyasuoka.github.io/deplacy/) sintaksinei analizei\n"
      ]
    },
    {
      "cell_type":"markdown",
      "metadata":{ "colab_type":"text" },
      "source":[
        "## su [spaCy](https://spacy.io/)\n"
      ]
    },
    {
      "cell_type":"code",
      "metadata":{ "colab_type":"code" },
      "source":[
        "!pip install deplacy\n",
        "!sudo pip install -U spacy\n",
        "!sudo python -m spacy download lt_core_news_md\n",
        "import pkg_resources,imp\n",
        "imp.reload(pkg_resources)\n",
        "import spacy\n",
        "nlp=spacy.load(\"lt_core_news_md\")\n",
        "doc=nlp(\"Dievas davė dantis, duos ir duonos.\")\n",
        "import deplacy\n",
        "deplacy.render(doc)\n",
        "deplacy.serve(doc,port=None)\n",
        "# import graphviz\n",
        "# graphviz.Source(deplacy.dot(doc))"
      ]
    },
    {
      "cell_type":"markdown",
      "metadata":{ "colab_type":"text" },
      "source":[
        "## su [Trankit](https://github.com/nlp-uoregon/trankit)\n"
      ]
    },
    {
      "cell_type":"code",
      "metadata":{ "colab_type":"code" },
      "source":[
        "!pip install deplacy trankit transformers\n",
        "import trankit\n",
        "nlp=trankit.Pipeline(\"lithuanian\")\n",
        "doc=nlp(\"Dievas davė dantis, duos ir duonos.\")\n",
        "import deplacy\n",
        "deplacy.render(doc)\n",
        "deplacy.serve(doc,port=None)\n",
        "# import graphviz\n",
        "# graphviz.Source(deplacy.dot(doc))"
      ]
    },
    {
      "cell_type":"markdown",
      "metadata":{ "colab_type":"text" },
      "source":[
        "## su [Stanza](https://stanfordnlp.github.io/stanza)\n"
      ]
    },
    {
      "cell_type":"code",
      "metadata":{ "colab_type":"code" },
      "source":[
        "!pip install deplacy stanza\n",
        "import stanza\n",
        "stanza.download(\"lt\")\n",
        "nlp=stanza.Pipeline(\"lt\")\n",
        "doc=nlp(\"Dievas davė dantis, duos ir duonos.\")\n",
        "import deplacy\n",
        "deplacy.render(doc)\n",
        "deplacy.serve(doc,port=None)\n",
        "# import graphviz\n",
        "# graphviz.Source(deplacy.dot(doc))"
      ]
    },
    {
      "cell_type":"markdown",
      "metadata":{ "colab_type":"text" },
      "source":[
        "## su [Camphr-Udify](https://camphr.readthedocs.io/en/latest/notes/udify.html)\n"
      ]
    },
    {
      "cell_type":"code",
      "metadata":{ "colab_type":"code" },
      "source":[
        "!pip install deplacy camphr en-udify@https://github.com/PKSHATechnology-Research/camphr_models/releases/download/0.7.0/en_udify-0.7.tar.gz\n",
        "import pkg_resources,imp\n",
        "imp.reload(pkg_resources)\n",
        "import spacy\n",
        "nlp=spacy.load(\"en_udify\")\n",
        "doc=nlp(\"Dievas davė dantis, duos ir duonos.\")\n",
        "import deplacy\n",
        "deplacy.render(doc)\n",
        "deplacy.serve(doc,port=None)\n",
        "# import graphviz\n",
        "# graphviz.Source(deplacy.dot(doc))"
      ]
    },
    {
      "cell_type":"markdown",
      "metadata":{ "colab_type":"text" },
      "source":[
        "## su [UDPipe 2](http://ufal.mff.cuni.cz/udpipe/2)\n"
      ]
    },
    {
      "cell_type":"code",
      "metadata":{ "colab_type":"code" },
      "source":[
        "!pip install deplacy\n",
        "def nlp(t):\n",
        "  import urllib.request,urllib.parse,json\n",
        "  with urllib.request.urlopen(\"https://lindat.mff.cuni.cz/services/udpipe/api/process?model=lt&tokenizer&tagger&parser&data=\"+urllib.parse.quote(t)) as r:\n",
        "    return json.loads(r.read())[\"result\"]\n",
        "doc=nlp(\"Dievas davė dantis, duos ir duonos.\")\n",
        "import deplacy\n",
        "deplacy.render(doc)\n",
        "deplacy.serve(doc,port=None)\n",
        "# import graphviz\n",
        "# graphviz.Source(deplacy.dot(doc))"
      ]
    },
    {
      "cell_type":"markdown",
      "metadata":{ "colab_type":"text" },
      "source":[
        "## su [spacy-udpipe](https://github.com/TakeLab/spacy-udpipe)\n"
      ]
    },
    {
      "cell_type":"code",
      "metadata":{ "colab_type":"code" },
      "source":[
        "!pip install deplacy spacy-udpipe\n",
        "import spacy_udpipe\n",
        "spacy_udpipe.download(\"lt\")\n",
        "nlp=spacy_udpipe.load(\"lt\")\n",
        "doc=nlp(\"Dievas davė dantis, duos ir duonos.\")\n",
        "import deplacy\n",
        "deplacy.render(doc)\n",
        "deplacy.serve(doc,port=None)\n",
        "# import graphviz\n",
        "# graphviz.Source(deplacy.dot(doc))"
      ]
    }
  ]
}
