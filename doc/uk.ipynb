{
  "nbformat":4,
  "nbformat_minor":0,
  "metadata":{
    "colab":{ "name":"deplacy для синтаксичного аналізу" },
    "kernelspec":{
      "name":"python3",
      "display_name":"Python 3"
    }
  },
  "cells":[
    {
      "cell_type":"markdown",
      "metadata":{ "colab_type":"text" },
      "source":[
        "# [deplacy](https://koichiyasuoka.github.io/deplacy/) для синтаксичного аналізу\n"
      ]
    },
    {
      "cell_type":"markdown",
      "metadata":{ "colab_type":"text" },
      "source":[
        "## з [Camphr-Udify](https://camphr.readthedocs.io/en/latest/notes/udify.html)\n"
      ]
    },
    {
      "cell_type":"code",
      "metadata":{ "colab_type":"code" },
      "source":[
        "!pip install deplacy 'camphr[udify]' en-udify@https://github.com/PKSHATechnology-Research/camphr_models/releases/download/0.6.0/en_udify-0.6.0.tar.gz\n",
        "import pkg_resources,imp\n",
        "imp.reload(pkg_resources)\n",
        "from camphr.pipelines import load_udify\n",
        "nlp=load_udify(\"uk\")\n",
        "doc=nlp(\"Біжать алеї звуків, саджених у гами.\")\n",
        "import deplacy\n",
        "deplacy.render(doc)\n",
        "deplacy.serve(doc,port=None)\n",
        "# import graphviz\n",
        "# graphviz.Source(deplacy.dot(doc))"
      ]
    },
    {
      "cell_type":"markdown",
      "metadata":{ "colab_type":"text" },
      "source":[
        "## з [Stanza](https://stanfordnlp.github.io/stanza)\n"
      ]
    },
    {
      "cell_type":"code",
      "metadata":{ "colab_type":"code" },
      "source":[
        "!pip install deplacy stanza\n",
        "import stanza\n",
        "stanza.download(\"uk\")\n",
        "nlp=stanza.Pipeline(\"uk\")\n",
        "doc=nlp(\"Біжать алеї звуків, саджених у гами.\")\n",
        "import deplacy\n",
        "deplacy.render(doc)\n",
        "deplacy.serve(doc,port=None)\n",
        "# import graphviz\n",
        "# graphviz.Source(deplacy.dot(doc))"
      ]
    },
    {
      "cell_type":"markdown",
      "metadata":{ "colab_type":"text" },
      "source":[
        "## з [NLP-Cube](https://github.com/Adobe/NLP-Cube)\n"
      ]
    },
    {
      "cell_type":"code",
      "metadata":{ "colab_type":"code" },
      "source":[
        "!pip install deplacy nlpcube\n",
        "from cube.api import Cube\n",
        "nlp=Cube()\n",
        "nlp.load(\"uk\")\n",
        "doc=nlp(\"Біжать алеї звуків, саджених у гами.\")\n",
        "import deplacy\n",
        "deplacy.render(doc)\n",
        "deplacy.serve(doc,port=None)\n",
        "# import graphviz\n",
        "# graphviz.Source(deplacy.dot(doc))"
      ]
    },
    {
      "cell_type":"markdown",
      "metadata":{ "colab_type":"text" },
      "source":[
        "## з [spacy-udpipe](https://github.com/TakeLab/spacy-udpipe)\n"
      ]
    },
    {
      "cell_type":"code",
      "metadata":{ "colab_type":"code" },
      "source":[
        "!pip install deplacy spacy-udpipe pymorphy2\n",
        "import spacy_udpipe\n",
        "spacy_udpipe.download(\"uk\")\n",
        "nlp=spacy_udpipe.load(\"uk\")\n",
        "doc=nlp(\"Біжать алеї звуків, саджених у гами.\")\n",
        "import deplacy\n",
        "deplacy.render(doc)\n",
        "deplacy.serve(doc,port=None)\n",
        "# import graphviz\n",
        "# graphviz.Source(deplacy.dot(doc))"
      ]
    }
  ]
}
