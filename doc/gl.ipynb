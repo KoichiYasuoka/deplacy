{
  "nbformat":4,
  "nbformat_minor":0,
  "metadata":{
    "colab":{ "name":"deplacy para a análise sintática do galego" },
    "kernelspec":{
      "name":"python3",
      "display_name":"Python 3"
    }
  },
  "cells":[
    {
      "cell_type":"markdown",
      "metadata":{ "colab_type":"text" },
      "source":[
        "# [deplacy](https://koichiyasuoka.github.io/deplacy/) para a análise sintática do galego\n"
      ]
    },
    {
      "cell_type":"markdown",
      "metadata":{ "colab_type":"text" },
      "source":[
        "## con [Camphr-Udify](https://camphr.readthedocs.io/en/stable/notes/udify.html)\n"
      ]
    },
    {
      "cell_type":"code",
      "metadata":{ "colab_type":"code" },
      "source":[
        "!apt install python3.8 python3.8-dev python3.8-distutils\n",
        "!update-alternatives --remove-all python3\n",
        "!update-alternatives --install /usr/bin/python3 python3 /usr/bin/python3.10 1\n",
        "!update-alternatives --install /usr/bin/python3 python3 /usr/bin/python3.8 2\n",
        "!apt install python3-pip\n",
        "url=\"https://github.com/PKSHATechnology-Research/camphr_models\"\n",
        "f=\"en_udify-0.7.tar.gz\"\n",
        "!test -f {f} || curl -LO {url+\"/releases/download/0.7.0/\"+f}\n",
        "!test -d /usr/local/lib/python3.8/dist-packages/camphr || pip install {f} \"numpy<1.20.0\" deplacy\n",
        "!echo 1 | update-alternatives --config python3\n",
        "!pip install deplacy\n",
        "import subprocess\n",
        "nlp=lambda t:subprocess.run([\"python3.8\",\"-c\",\"\\n\".join([\"import spacy,deplacy\",\"n=spacy.load('en_udify')\",\"print(deplacy.to_conllu(n(input())),end='')\"])],input=t,stdout=subprocess.PIPE,encoding=\"utf-8\").stdout\n",
        "doc=nlp(\"Cando hai fame non hai pan duro.\")\n",
        "import deplacy\n",
        "deplacy.render(doc)\n",
        "deplacy.serve(doc,port=None)\n",
        "# import graphviz\n",
        "# graphviz.Source(deplacy.dot(doc))"
      ]
    },
    {
      "cell_type":"markdown",
      "metadata":{ "colab_type":"text" },
      "source":[
        "## con [Stanza](https://stanfordnlp.github.io/stanza)\n"
      ]
    },
    {
      "cell_type":"code",
      "metadata":{ "colab_type":"code" },
      "source":[
        "!pip install deplacy stanza\n",
        "import stanza\n",
        "nlp=stanza.Pipeline(\"gl\")\n",
        "doc=nlp(\"Cando hai fame non hai pan duro.\")\n",
        "import deplacy\n",
        "deplacy.render(doc)\n",
        "deplacy.serve(doc,port=None)\n",
        "# import graphviz\n",
        "# graphviz.Source(deplacy.dot(doc))"
      ]
    },
    {
      "cell_type":"markdown",
      "metadata":{ "colab_type":"text" },
      "source":[
        "## con [spaCy-jPTDP](https://github.com/KoichiYasuoka/spaCy-jPTDP)\n"
      ]
    },
    {
      "cell_type":"code",
      "metadata":{ "colab_type":"code" },
      "source":[
        "!pip install 'setuptools<57.0.0'\n",
        "!pip install dynet --no-build-isolation\n",
        "!pip install deplacy spacy_jptdp\n",
        "import spacy_jptdp\n",
        "nlp=spacy_jptdp.load(\"gl_ctg\")\n",
        "doc=nlp(\"Cando hai fame non hai pan duro.\")\n",
        "import deplacy\n",
        "deplacy.render(doc)\n",
        "deplacy.serve(doc,port=None)\n",
        "# import graphviz\n",
        "# graphviz.Source(deplacy.dot(doc))"
      ]
    },
    {
      "cell_type":"markdown",
      "metadata":{ "colab_type":"text" },
      "source":[
        "## con [COMBO-pytorch](https://gitlab.clarin-pl.eu/syntactic-tools/combo)\n"
      ]
    },
    {
      "cell_type":"code",
      "metadata":{ "colab_type":"code" },
      "source":[
        "!apt install python3.8 python3.8-dev python3.8-distutils\n",
        "!update-alternatives --remove-all python3\n",
        "!update-alternatives --install /usr/bin/python3 python3 /usr/bin/python3.10 1\n",
        "!update-alternatives --install /usr/bin/python3 python3 /usr/bin/python3.8 2\n",
        "!apt install python3-pip\n",
        "!test -d /usr/local/lib/python3.8/dist-packages/lambo || pip install git+https://gitlab.clarin-pl.eu/syntactic-tools/lambo deplacy\n",
        "!test -d /usr/local/lib/python3.8/dist-packages/combo || pip install --index-url https://pypi.clarin-pl.eu/simple combo\n",
        "!python3.8 -m spacy download en_core_web_sm\n",
        "!echo 1 | update-alternatives --config python3\n",
        "!pip install deplacy\n",
        "import subprocess\n",
        "nlp=lambda t:subprocess.run([\"python3.8\",\"-c\",\"\\n\".join([\"from combo.predict import COMBO\",\"n=COMBO.from_pretrained('galician-ud29')\",\"import deplacy\",\"print(deplacy.to_conllu(n(input())),end='')\"])],input=t,stdout=subprocess.PIPE,encoding=\"utf-8\").stdout\n",
        "doc=nlp(\"Cando hai fame non hai pan duro.\")\n",
        "import deplacy\n",
        "deplacy.render(doc)\n",
        "deplacy.serve(doc,port=None)\n",
        "# import graphviz\n",
        "# graphviz.Source(deplacy.dot(doc))"
      ]
    },
    {
      "cell_type":"markdown",
      "metadata":{ "colab_type":"text" },
      "source":[
        "## con [spacy-udpipe](https://github.com/TakeLab/spacy-udpipe)\n"
      ]
    },
    {
      "cell_type":"code",
      "metadata":{ "colab_type":"code" },
      "source":[
        "!pip install deplacy spacy-udpipe\n",
        "import spacy_udpipe\n",
        "spacy_udpipe.download(\"gl\")\n",
        "nlp=spacy_udpipe.load(\"gl\")\n",
        "doc=nlp(\"Cando hai fame non hai pan duro.\")\n",
        "import deplacy\n",
        "deplacy.render(doc)\n",
        "deplacy.serve(doc,port=None)\n",
        "# import graphviz\n",
        "# graphviz.Source(deplacy.dot(doc))"
      ]
    },
    {
      "cell_type":"markdown",
      "metadata":{ "colab_type":"text" },
      "source":[
        "## con [Trankit](https://github.com/nlp-uoregon/trankit)\n"
      ]
    },
    {
      "cell_type":"code",
      "metadata":{ "colab_type":"code" },
      "source":[
        "!pip install deplacy trankit transformers\n",
        "import trankit\n",
        "nlp=trankit.Pipeline(\"galician\")\n",
        "doc=nlp(\"Cando hai fame non hai pan duro.\")\n",
        "import deplacy\n",
        "deplacy.render(doc)\n",
        "deplacy.serve(doc,port=None)\n",
        "# import graphviz\n",
        "# graphviz.Source(deplacy.dot(doc))"
      ]
    },
    {
      "cell_type":"markdown",
      "metadata":{ "colab_type":"text" },
      "source":[
        "## con [UDPipe 2](http://ufal.mff.cuni.cz/udpipe/2)\n"
      ]
    },
    {
      "cell_type":"code",
      "metadata":{ "colab_type":"code" },
      "source":[
        "!pip install deplacy\n",
        "def nlp(t):\n",
        "  import urllib.request,urllib.parse,json\n",
        "  with urllib.request.urlopen(\"https://lindat.mff.cuni.cz/services/udpipe/api/process?model=gl&tokenizer&tagger&parser&data=\"+urllib.parse.quote(t)) as r:\n",
        "    return json.loads(r.read())[\"result\"]\n",
        "doc=nlp(\"Cando hai fame non hai pan duro.\")\n",
        "import deplacy\n",
        "deplacy.render(doc)\n",
        "deplacy.serve(doc,port=None)\n",
        "# import graphviz\n",
        "# graphviz.Source(deplacy.dot(doc))"
      ]
    }
  ]
}
