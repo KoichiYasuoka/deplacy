{
  "nbformat":4,
  "nbformat_minor":0,
  "metadata":{
    "colab":{ "name":"deplacy a szintaktikai elemzéshez" },
    "kernelspec":{
      "name":"python3",
      "display_name":"Python 3"
    }
  },
  "cells":[
    {
      "cell_type":"markdown",
      "metadata":{ "colab_type":"text" },
      "source":[
        "# [deplacy](https://koichiyasuoka.github.io/deplacy/) a szintaktikai elemzéshez\n"
      ]
    },
    {
      "cell_type":"markdown",
      "metadata":{ "colab_type":"text" },
      "source":[
        "## [Trankit](https://github.com/nlp-uoregon/trankit)-vel\n"
      ]
    },
    {
      "cell_type":"code",
      "metadata":{ "colab_type":"code" },
      "source":[
        "!pip install deplacy trankit transformers\n",
        "import trankit\n",
        "nlp=trankit.Pipeline(\"hungarian\")\n",
        "doc=nlp(\"Amit ma megtehetsz, ne halaszd holnapra.\")\n",
        "import deplacy\n",
        "deplacy.render(doc)\n",
        "deplacy.serve(doc,port=None)\n",
        "# import graphviz\n",
        "# graphviz.Source(deplacy.dot(doc))"
      ]
    },
    {
      "cell_type":"markdown",
      "metadata":{ "colab_type":"text" },
      "source":[
        "## [UDPipe 2](http://ufal.mff.cuni.cz/udpipe/2)-vel\n"
      ]
    },
    {
      "cell_type":"code",
      "metadata":{ "colab_type":"code" },
      "source":[
        "!pip install deplacy\n",
        "def nlp(t):\n",
        "  import urllib.request,urllib.parse,json\n",
        "  with urllib.request.urlopen(\"https://lindat.mff.cuni.cz/services/udpipe/api/process?model=hu&tokenizer&tagger&parser&data=\"+urllib.parse.quote(t)) as r:\n",
        "    return json.loads(r.read())[\"result\"]\n",
        "doc=nlp(\"Amit ma megtehetsz, ne halaszd holnapra.\")\n",
        "import deplacy\n",
        "deplacy.render(doc)\n",
        "deplacy.serve(doc,port=None)\n",
        "# import graphviz\n",
        "# graphviz.Source(deplacy.dot(doc))"
      ]
    },
    {
      "cell_type":"markdown",
      "metadata":{ "colab_type":"text" },
      "source":[
        "## [COMBO-pytorch](https://gitlab.clarin-pl.eu/syntactic-tools/combo)-vel\n"
      ]
    },
    {
      "cell_type":"code",
      "metadata":{ "colab_type":"code" },
      "source":[
        "!pip install --index-url https://pypi.clarin-pl.eu/simple deplacy combo\n",
        "!python -m spacy download en_core_web_sm\n",
        "from combo.predict import COMBO\n",
        "nlp=COMBO.from_pretrained(\"hungarian-ud27\")\n",
        "doc=nlp(\"Amit ma megtehetsz, ne halaszd holnapra.\")\n",
        "import deplacy\n",
        "deplacy.render(doc)\n",
        "deplacy.serve(doc,port=None)\n",
        "# import graphviz\n",
        "# graphviz.Source(deplacy.dot(doc))"
      ]
    },
    {
      "cell_type":"markdown",
      "metadata":{ "colab_type":"text" },
      "source":[
        "## [Camphr-Udify](https://camphr.readthedocs.io/en/stable/notes/udify.html)-vel\n"
      ]
    },
    {
      "cell_type":"code",
      "metadata":{ "colab_type":"code" },
      "source":[
        "!apt install python3.8\n",
        "!update-alternatives --install /usr/bin/python3 python3 /usr/bin/python3.8 5\n",
        "!apt install python3-pip\n",
        "!python -m pip install -U pip\n",
        "url=\"https://github.com/PKSHATechnology-Research/camphr_models\"\n",
        "f=\"en_udify-0.7.tar.gz\"\n",
        "!test -f {f} || curl -LO {url+\"/releases/download/0.7.0/\"+f}\n",
        "!test -d /usr/local/lib/python3.8/dist-packages/camphr || pip install {f} \"numpy<1.20.0\" deplacy\n",
        "!echo 1 | update-alternatives --config python3\n",
        "!pip install deplacy\n",
        "import subprocess\n",
        "nlp=lambda t:subprocess.run([\"python3.8\",\"-c\",\"\\n\".join([\"import spacy,deplacy\",\"n=spacy.load('en_udify')\",\"print(deplacy.to_conllu(n(input())),end='')\"])],input=t,stdout=subprocess.PIPE,encoding=\"utf-8\").stdout\n",
        "doc=nlp(\"Amit ma megtehetsz, ne halaszd holnapra.\")\n",
        "import deplacy\n",
        "deplacy.render(doc)\n",
        "deplacy.serve(doc,port=None)\n",
        "# import graphviz\n",
        "# graphviz.Source(deplacy.dot(doc))"
      ]
    },
    {
      "cell_type":"markdown",
      "metadata":{ "colab_type":"text" },
      "source":[
        "## [HuSpaCy](https://github.com/huspacy/huspacy)-vel\n"
      ]
    },
    {
      "cell_type":"code",
      "metadata":{ "colab_type":"code" },
      "source":[
        "!pip install deplacy huspacy\n",
        "import huspacy\n",
        "huspacy.download()\n",
        "nlp=huspacy.load()\n",
        "doc=nlp(\"Amit ma megtehetsz, ne halaszd holnapra.\")\n",
        "import deplacy\n",
        "deplacy.render(doc)\n",
        "deplacy.serve(doc,port=None)\n",
        "# import graphviz\n",
        "# graphviz.Source(deplacy.dot(doc))"
      ]
    },
    {
      "cell_type":"markdown",
      "metadata":{ "colab_type":"text" },
      "source":[
        "## [spacy-udpipe](https://github.com/TakeLab/spacy-udpipe)-vel\n"
      ]
    },
    {
      "cell_type":"code",
      "metadata":{ "colab_type":"code" },
      "source":[
        "!pip install deplacy spacy-udpipe\n",
        "import spacy_udpipe\n",
        "spacy_udpipe.download(\"hu\")\n",
        "nlp=spacy_udpipe.load(\"hu\")\n",
        "doc=nlp(\"Amit ma megtehetsz, ne halaszd holnapra.\")\n",
        "import deplacy\n",
        "deplacy.render(doc)\n",
        "deplacy.serve(doc,port=None)\n",
        "# import graphviz\n",
        "# graphviz.Source(deplacy.dot(doc))"
      ]
    },
    {
      "cell_type":"markdown",
      "metadata":{ "colab_type":"text" },
      "source":[
        "## [Stanza](https://stanfordnlp.github.io/stanza)-val\n"
      ]
    },
    {
      "cell_type":"code",
      "metadata":{ "colab_type":"code" },
      "source":[
        "!pip install deplacy stanza\n",
        "import stanza\n",
        "nlp=stanza.Pipeline(\"hu\")\n",
        "doc=nlp(\"Amit ma megtehetsz, ne halaszd holnapra.\")\n",
        "import deplacy\n",
        "deplacy.render(doc)\n",
        "deplacy.serve(doc,port=None)\n",
        "# import graphviz\n",
        "# graphviz.Source(deplacy.dot(doc))"
      ]
    },
    {
      "cell_type":"markdown",
      "metadata":{ "colab_type":"text" },
      "source":[
        "## [spaCy-jPTDP](https://github.com/KoichiYasuoka/spaCy-jPTDP)-vel\n"
      ]
    },
    {
      "cell_type":"code",
      "metadata":{ "colab_type":"code" },
      "source":[
        "!pip install 'setuptools<57.0.0'\n",
        "!pip install dynet --no-build-isolation\n",
        "!pip install deplacy spacy_jptdp\n",
        "import spacy_jptdp\n",
        "nlp=spacy_jptdp.load(\"hu_szeged\")\n",
        "doc=nlp(\"Amit ma megtehetsz, ne halaszd holnapra.\")\n",
        "import deplacy\n",
        "deplacy.render(doc)\n",
        "deplacy.serve(doc,port=None)\n",
        "# import graphviz\n",
        "# graphviz.Source(deplacy.dot(doc))"
      ]
    },
    {
      "cell_type":"markdown",
      "metadata":{ "colab_type":"text" },
      "source":[
        "## [NLP-Cube](https://github.com/Adobe/NLP-Cube)-vel\n"
      ]
    },
    {
      "cell_type":"code",
      "metadata":{ "colab_type":"code" },
      "source":[
        "!apt install python3.8\n",
        "!update-alternatives --install /usr/bin/python3 python3 /usr/bin/python3.8 5\n",
        "!apt install python3-pip\n",
        "!python -m pip install -U pip\n",
        "!test -d /usr/local/lib/python3.8/dist-packages/cube || ( pip install nlpcube deplacy 'torchtext<0.12' 'numpy<1.20.0' && python3.8 -c '{\"\\n\".join(['from cube.api import Cube','n=Cube()','n.load(\"hu\")'])}' )\n",
        "!echo 1 | update-alternatives --config python3\n",
        "!pip install deplacy\n",
        "import subprocess\n",
        "nlp=lambda t:\"\\n\".join([x for x in subprocess.run([\"python3.8\",\"-c\",\"\\n\".join([\"from cube.api import Cube\",\"n=Cube()\",\"n.load('hu')\",\"import deplacy\",\"print(deplacy.to_conllu(n(input().strip())),end='')\"])],input=t,stdout=subprocess.PIPE,encoding=\"utf-8\").stdout.split(\"\\n\") if len(x.split(\"\\t\"))==10])+\"\\n\"\n",
        "doc=nlp(\"Amit ma megtehetsz, ne halaszd holnapra.\")\n",
        "import deplacy\n",
        "deplacy.render(doc)\n",
        "deplacy.serve(doc,port=None)\n",
        "# import graphviz\n",
        "# graphviz.Source(deplacy.dot(doc))"
      ]
    }
  ]
}
