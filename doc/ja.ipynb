{
  "nbformat":4,
  "nbformat_minor":0,
  "metadata":{
    "colab":{ "name":"deplacyを用いた日本語文法解析" },
    "kernelspec":{ "name":"python3" }
  },
  "cells":[
    {
      "cell_type":"markdown",
      "metadata":{ "colab_type":"text" },
      "source":[
        "# [deplacy](https://koichiyasuoka.github.io/deplacy/)を用いた日本語文法解析\n"
      ]
    },
    {
      "cell_type":"markdown",
      "metadata":{ "colab_type":"text" },
      "source":[
        "## [UniDic2UD](https://pypi.org/project/unidic2ud)で解析\n"
      ]
    },
    {
      "cell_type":"code",
      "metadata":{ "colab_type":"code" },
      "source":[
        "!pip install deplacy unidic2ud\n",
        "import unidic2ud\n",
        "nlp=unidic2ud.load(\"qkana\")\n",
        "doc=nlp(\"國境の長いトンネルを拔けると雪國であつた。\")\n",
        "import deplacy\n",
        "deplacy.render(doc,Japanese=True)\n",
        "deplacy.serve(doc,port=None)\n",
        "# import graphviz\n",
        "# graphviz.Source(deplacy.dot(doc))"
      ]
    },
    {
      "cell_type":"markdown",
      "metadata":{ "colab_type":"text" },
      "source":[
        "## [GiNZA](https://megagonlabs.github.io/ginza/)で解析\n"
      ]
    },
    {
      "cell_type":"code",
      "metadata":{ "colab_type":"code" },
      "source":[
        "!pip install deplacy ginza\n",
        "import pkg_resources,imp\n",
        "imp.reload(pkg_resources)\n",
        "import spacy\n",
        "nlp=spacy.load(\"ja_ginza\")\n",
        "doc=nlp(\"國境の長いトンネルを拔けると雪國であつた。\")\n",
        "import deplacy\n",
        "deplacy.render(doc,Japanese=True)\n",
        "deplacy.serve(doc,port=None)\n",
        "# import graphviz\n",
        "# graphviz.Source(deplacy.dot(doc))"
      ]
    },
    {
      "cell_type":"markdown",
      "metadata":{ "colab_type":"text" },
      "source":[
        "## [Stanza](https://stanfordnlp.github.io/stanza)で解析\n"
      ]
    },
    {
      "cell_type":"code",
      "metadata":{ "colab_type":"code" },
      "source":[
        "!pip install deplacy stanza\n",
        "import stanza\n",
        "stanza.download(\"ja\")\n",
        "nlp=stanza.Pipeline(\"ja\")\n",
        "doc=nlp(\"國境の長いトンネルを拔けると雪國であつた。\")\n",
        "import deplacy\n",
        "deplacy.render(doc,Japanese=True)\n",
        "deplacy.serve(doc,port=None)\n",
        "# import graphviz\n",
        "# graphviz.Source(deplacy.dot(doc))"
      ]
    },
    {
      "cell_type":"markdown",
      "metadata":{ "colab_type":"text" },
      "source":[
        "## [spacy-udpipe](https://github.com/TakeLab/spacy-udpipe)で解析\n"
      ]
    },
    {
      "cell_type":"code",
      "metadata":{ "colab_type":"code" },
      "source":[
        "!pip install deplacy spacy-udpipe\n",
        "import spacy_udpipe\n",
        "spacy_udpipe.download(\"ja\")\n",
        "nlp=spacy_udpipe.load(\"ja\")\n",
        "doc=nlp(\"國境の長いトンネルを拔けると雪國であつた。\")\n",
        "import deplacy\n",
        "deplacy.render(doc,Japanese=True)\n",
        "deplacy.serve(doc,port=None)\n",
        "# import graphviz\n",
        "# graphviz.Source(deplacy.dot(doc))"
      ]
    },
    {
      "cell_type":"markdown",
      "metadata":{ "colab_type":"text" },
      "source":[
        "## [Camphr-Udify](https://camphr.readthedocs.io/en/latest/notes/udify.html)で解析\n"
      ]
    },
    {
      "cell_type":"code",
      "metadata":{ "colab_type":"code" },
      "source":[
        "!pip install deplacy fugashi unidic-lite 'camphr[udify]' en-udify@https://github.com/PKSHATechnology-Research/camphr_models/releases/download/0.6.0/en_udify-0.6.0.tar.gz\n",
        "import pkg_resources,imp\n",
        "imp.reload(pkg_resources)\n",
        "from camphr.pipelines import load_udify\n",
        "nlp=load_udify(\"ja\",punct_chars=[\"。\"])\n",
        "doc=nlp(\"國境の長いトンネルを拔けると雪國であつた。\")\n",
        "import deplacy\n",
        "deplacy.render(doc,Japanese=True)\n",
        "deplacy.serve(doc,port=None)\n",
        "# import graphviz\n",
        "# graphviz.Source(deplacy.dot(doc))"
      ]
    },
    {
      "cell_type":"markdown",
      "metadata":{ "colab_type":"text" },
      "source":[
        "## [spaCy-SynCha](https://github.com/KoichiYasuoka/spaCy-SynCha)で解析\n"
      ]
    },
    {
      "cell_type":"code",
      "metadata":{ "colab_type":"code" },
      "source":[
        "!apt install mecab libmecab-dev mecab-ipadic-utf8 lp-solve\n",
        "!test -f crfpp.tar.gz || curl -L 'https://drive.google.com/uc?export=download&id=0B4y35FiV1wh7QVR6VXJ5dWExSTQ' -o crfpp.tar.gz \n",
        "!test -d CRF++-0.58 || ( tar xzf crfpp.tar.gz && cd CRF++-0.58 && ./configure --prefix=/usr && make install )\n",
        "!curl -sc cabocha.cookie 'https://drive.google.com/uc?export=download&id=0B4y35FiV1wh7SDd1Q1dUQkZQaUU' > /dev/null\n",
        "!test -f cabocha.tar.bz2 || curl -Lb cabocha.cookie 'https://drive.google.com/uc?export=download&id=0B4y35FiV1wh7SDd1Q1dUQkZQaUU&confirm='`tr -d '\\015' < cabocha.cookie | awk '/_warning_/{print $NF}'` -o cabocha.tar.bz2\n",
        "!test -d cabocha-0.69 || ( tar xjf cabocha.tar.bz2 && cd cabocha-0.69 && ./configure --prefix=/usr --with-charset=UTF8 && make install )\n",
        "!test -f syncha.tar.gz || curl -L 'https://drive.google.com/uc?export=download&id=0B4wOZ_esMVcMazQ0eGdtMnBCaWs' -o syncha.tar.gz\n",
        "!test -d syncha-0.3.1.1 || ( tar xzf syncha.tar.gz && echo 'exec /content/syncha-0.3.1.1/syncha \"$@\"' > /usr/bin/syncha && chmod 755 /usr/bin/syncha )\n",
        "!pip install deplacy spacy_syncha\n",
        "import spacy_syncha\n",
        "nlp=spacy_syncha.load(\"qkana\")\n",
        "doc=nlp(\"國境の長いトンネルを拔けると雪國であつた。\")\n",
        "import deplacy\n",
        "deplacy.render(doc,Japanese=True)\n",
        "deplacy.serve(doc,port=None)\n",
        "# import graphviz\n",
        "# graphviz.Source(deplacy.dot(doc))"
      ]
    },
    {
      "cell_type":"markdown",
      "metadata":{ "colab_type":"text" },
      "source":[
        "## [spaCy-ChaPAS](https://github.com/KoichiYasuoka/spaCy-ChaPAS)で解析\n"
      ]
    },
    {
      "cell_type":"code",
      "metadata":{ "colab_type":"code" },
      "source":[
        "!apt update\n",
        "!apt install mecab libmecab-dev mecab-ipadic-utf8 openjdk-8-jre-headless\n",
        "!test -f crfpp.tar.gz || curl -L 'https://drive.google.com/uc?export=download&id=0B4y35FiV1wh7QVR6VXJ5dWExSTQ' -o crfpp.tar.gz \n",
        "!test -d CRF++-0.58 || ( tar xzf crfpp.tar.gz && cd CRF++-0.58 && ./configure --prefix=/usr && make install )\n",
        "!curl -sc cabocha.cookie 'https://drive.google.com/uc?export=download&id=0B4y35FiV1wh7SDd1Q1dUQkZQaUU' > /dev/null\n",
        "!test -f cabocha.tar.bz2 || curl -Lb cabocha.cookie 'https://drive.google.com/uc?export=download&id=0B4y35FiV1wh7SDd1Q1dUQkZQaUU&confirm='`tr -d '\\015' < cabocha.cookie | awk '/_warning_/{print $NF}'` -o cabocha.tar.bz2\n",
        "!test -d cabocha-0.69 || ( tar xjf cabocha.tar.bz2 && cd cabocha-0.69 && ./configure --prefix=/usr --with-charset=UTF8 && make install )\n",
        "!curl -sc chapas.cookie 'https://drive.google.com/uc?export=download&id=0BwG_CvJHq43fNDlqSkVSREkzaEk' > /dev/null\n",
        "!test -f chapas.tar.gz || curl -Lb chapas.cookie 'https://drive.google.com/uc?export=download&id=0BwG_CvJHq43fNDlqSkVSREkzaEk&confirm='`tr -d '\\015' < chapas.cookie | awk '/_warning_/{print $NF}'` -o chapas.tar.gz\n",
        "!test -d chapas-0.742 || ( tar xzf chapas.tar.gz && echo exec /usr/lib/jvm/j*-1.8.*/bin/java -Xmx1g -jar /content/chapas-0.742/chapas.jar '\"$@\"' > /usr/bin/chapas && chmod 755 /usr/bin/chapas )\n",
        "!pip install deplacy spacy_chapas\n",
        "import spacy_chapas\n",
        "nlp=spacy_chapas.load(\"qkana\")\n",
        "doc=nlp(\"國境の長いトンネルを拔けると雪國であつた。\")\n",
        "import deplacy\n",
        "deplacy.render(doc,Japanese=True)\n",
        "deplacy.serve(doc,port=None)\n",
        "# import graphviz\n",
        "# graphviz.Source(deplacy.dot(doc))"
      ]
    },
    {
      "cell_type":"markdown",
      "metadata":{ "colab_type":"text" },
      "source":[
        "## [NLP-Cube](https://github.com/Adobe/NLP-Cube)で解析\n"
      ]
    },
    {
      "cell_type":"code",
      "metadata":{ "colab_type":"code" },
      "source":[
        "!pip install deplacy nlpcube\n",
        "from cube.api import Cube\n",
        "nlp=Cube()\n",
        "nlp.load(\"ja\")\n",
        "doc=nlp(\"國境の長いトンネルを拔けると雪國であつた。\")\n",
        "import deplacy\n",
        "deplacy.render(doc,Japanese=True)\n",
        "deplacy.serve(doc,port=None)\n",
        "# import graphviz\n",
        "# graphviz.Source(deplacy.dot(doc))"
      ]
    },
    {
      "cell_type":"markdown",
      "metadata":{ "colab_type":"text" },
      "source":[
        "## [Camphr-KNP](https://camphr.readthedocs.io/en/latest/notes/knp.html)で解析\n"
      ]
    },
    {
      "cell_type":"code",
      "metadata":{ "colab_type":"code" },
      "source":[
        "!apt-get install juman juman-dic libjuman-dev libcdb-dev\n",
        "!mkdir -p /usr/local/share ; ln -s /usr/lib/juman /usr/local/share\n",
        "!test -f knp-4.19.tar.bz2 || wget http://nlp.ist.i.kyoto-u.ac.jp/nl-resource/knp/knp-4.19.tar.bz2\n",
        "!test -d knp-4.19 || ( tar xjf knp-4.19.tar.bz2 && cd knp-4.19 && ./configure && make install )\n",
        "!pip install deplacy 'camphr[juman]'\n",
        "import camphr\n",
        "nlp=camphr.load(\"knp\")\n",
        "doc=nlp(\"國境の長いトンネルを拔けると雪國であつた。\")\n",
        "import deplacy\n",
        "deplacy.render(doc,Japanese=True)\n",
        "deplacy.serve(doc,port=None)\n",
        "# import graphviz\n",
        "# graphviz.Source(deplacy.dot(doc))"
      ]
    },
    {
      "cell_type":"markdown",
      "metadata":{ "colab_type":"text" },
      "source":[
        "## [spaCy](https://spacy.io/)で解析\n"
      ]
    },
    {
      "cell_type":"code",
      "metadata":{ "colab_type":"code" },
      "source":[
        "!pip install deplacy\n",
        "!sudo pip install -U spacy\n",
        "!sudo python -m spacy download ja_core_news_md\n",
        "import pkg_resources,imp\n",
        "imp.reload(pkg_resources)\n",
        "import spacy\n",
        "nlp=spacy.load(\"ja_core_news_sm\")\n",
        "doc=nlp(\"國境の長いトンネルを拔けると雪國であつた。\")\n",
        "import deplacy\n",
        "deplacy.render(doc,Japanese=True)\n",
        "deplacy.serve(doc,port=None)\n",
        "# import graphviz\n",
        "# graphviz.Source(deplacy.dot(doc))"
      ]
    }
  ]
}
