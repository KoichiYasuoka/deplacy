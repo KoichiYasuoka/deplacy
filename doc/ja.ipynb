{
  "nbformat":4,
  "nbformat_minor":0,
  "metadata":{
    "colab":{
      "name":"deplacyを用いた日本語文法解析",
      "provenance":[]
    },
    "kernelspec":{
      "name":"python3",
      "display_name":"Python 3"
    },
    "accelerator":"GPU"
  },
  "cells":[
    {
      "cell_type":"markdown",
      "metadata":{
        "colab_type":"text"
      },
      "source":[
        "# [deplacy](https://koichiyasuoka.github.io/deplacy/)を用いた日本語文法解析\n"
      ]
    },
    {
      "cell_type":"markdown",
      "metadata":{
        "colab_type":"text"
      },
      "source":[
        "## [UniDic2UD](https://pypi.org/project/unidic2ud)で解析\n"
      ]
    },
    {
      "cell_type":"markdown",
      "metadata":{
        "colab_type":"text"
      },
      "source":[
        "!pip install unidic2ud deplacy\n"
      ]
    }
  ]
}
