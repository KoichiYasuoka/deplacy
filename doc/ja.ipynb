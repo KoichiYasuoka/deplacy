{
  "nbformat":4,
  "nbformat_minor":0,
  "metadata":{
    "colab":{ "name":"deplacyを用いた日本語文法解析" },
    "kernelspec":{ "name":"python3" }
  },
  "cells":[
    {
      "cell_type":"markdown",
      "metadata":{ "colab_type":"text" },
      "source":[
        "# [deplacy](https://koichiyasuoka.github.io/deplacy/)を用いた日本語文法解析\n"
      ]
    },
    {
      "cell_type":"markdown",
      "metadata":{ "colab_type":"text" },
      "source":[
        "## [spaCy-SynCha](https://github.com/KoichiYasuoka/spaCy-SynCha)で解析\n"
      ]
    },
    {
      "cell_type":"code",
      "metadata":{ "colab_type":"code" },
      "source":[
        "!apt install mecab libmecab-dev mecab-ipadic-utf8 lp-solve\n",
        "!pip install gdown\n",
        "!test -f crfpp.tar.gz || curl -L 'https://drive.google.com/uc?export=download&id=0B4y35FiV1wh7QVR6VXJ5dWExSTQ' -o crfpp.tar.gz \n",
        "!test -d CRF++-0.58 || ( tar xzf crfpp.tar.gz && cd CRF++-0.58 && ./configure --prefix=/usr && make install )\n",
        "!test -f cabocha-0.69.tar.bz2 || gdown 'https://drive.google.com/uc?export=download&id=0B4y35FiV1wh7SDd1Q1dUQkZQaUU'\n",
        "!test -d cabocha-0.69 || ( tar xjf cabocha-0.69.tar.bz2 && cd cabocha-0.69 && ./configure --prefix=/usr --with-charset=UTF8 && make install )\n",
        "!test -f syncha-0.3.1.1.tgz || curl -LO https://raw.githubusercontent.com/KoichiYasuoka/spaCy-SynCha/master/backup/syncha-0.3.1.1.tgz\n",
        "!test -d syncha-0.3.1.1 || ( tar xzf syncha-0.3.1.1.tgz && echo 'exec /content/syncha-0.3.1.1/syncha \"$@\"' > /usr/bin/syncha && chmod 755 /usr/bin/syncha )\n",
        "!pip install deplacy spacy_syncha\n",
        "import spacy_syncha\n",
        "nlp=spacy_syncha.load()\n",
        "doc=nlp(\"国境の長いトンネルを抜けると雪国であった。\")\n",
        "import deplacy\n",
        "deplacy.render(doc,Japanese=True)\n",
        "deplacy.serve(doc,port=None)\n",
        "# import graphviz\n",
        "# graphviz.Source(deplacy.dot(doc))"
      ]
    },
    {
      "cell_type":"markdown",
      "metadata":{ "colab_type":"text" },
      "source":[
        "## [spaCy-ChaPAS](https://github.com/KoichiYasuoka/spaCy-ChaPAS)で解析\n"
      ]
    },
    {
      "cell_type":"code",
      "metadata":{ "colab_type":"code" },
      "source":[
        "!apt update\n",
        "!apt install mecab libmecab-dev mecab-ipadic-utf8 openjdk-8-jre-headless\n",
        "!pip install gdown\n",
        "!test -f crfpp.tar.gz || curl -L 'https://drive.google.com/uc?export=download&id=0B4y35FiV1wh7QVR6VXJ5dWExSTQ' -o crfpp.tar.gz \n",
        "!test -d CRF++-0.58 || ( tar xzf crfpp.tar.gz && cd CRF++-0.58 && ./configure --prefix=/usr && make install )\n",
        "!test -f cabocha-0.69.tar.bz2 || gdown 'https://drive.google.com/uc?export=download&id=0B4y35FiV1wh7SDd1Q1dUQkZQaUU'\n",
        "!test -d cabocha-0.69 || ( tar xjf cabocha-0.69.tar.bz2 && cd cabocha-0.69 && ./configure --prefix=/usr --with-charset=UTF8 && make install )\n",
        "!test -f chapas-0.742.tar.gz || gdown 'https://drive.google.com/uc?export=download&id=0BwG_CvJHq43fNDlqSkVSREkzaEk'\n",
        "!test -d chapas-0.742 || ( tar xzf chapas-0.742.tar.gz && echo exec /usr/lib/jvm/j*-1.8.*/bin/java -Xmx1g -jar /content/chapas-0.742/chapas.jar '\"$@\"' > /usr/bin/chapas && chmod 755 /usr/bin/chapas )\n",
        "!pip install deplacy spacy_chapas\n",
        "import spacy_chapas\n",
        "nlp=spacy_chapas.load()\n",
        "doc=nlp(\"国境の長いトンネルを抜けると雪国であった。\")\n",
        "import deplacy\n",
        "deplacy.render(doc,Japanese=True)\n",
        "deplacy.serve(doc,port=None)\n",
        "# import graphviz\n",
        "# graphviz.Source(deplacy.dot(doc))"
      ]
    },
    {
      "cell_type":"markdown",
      "metadata":{ "colab_type":"text" },
      "source":[
        "## [UniDic-COMBO](https://github.com/KoichiYasuoka/UniDic-COMBO)で解析\n"
      ]
    },
    {
      "cell_type":"code",
      "metadata":{ "colab_type":"code" },
      "source":[
        "!pip install deplacy unidic_combo 'google-cloud-storage>=1.32.0'\n",
        "!python -m spacy download en_core_web_sm\n",
        "import unidic_combo\n",
        "nlp=unidic_combo.load()\n",
        "doc=nlp(\"国境の長いトンネルを抜けると雪国であった。\")\n",
        "import deplacy\n",
        "deplacy.render(doc,Japanese=True)\n",
        "deplacy.serve(doc,port=None)\n",
        "# import graphviz\n",
        "# graphviz.Source(deplacy.dot(doc))"
      ]
    },
    {
      "cell_type":"markdown",
      "metadata":{ "colab_type":"text" },
      "source":[
        "## [spaCy](https://spacy.io/)で解析\n"
      ]
    },
    {
      "cell_type":"code",
      "metadata":{ "colab_type":"code" },
      "source":[
        "!pip install deplacy spacy\n",
        "!python -m spacy download ja_core_news_sm\n",
        "import pkg_resources,imp\n",
        "imp.reload(pkg_resources)\n",
        "import spacy\n",
        "nlp=spacy.load(\"ja_core_news_sm\")\n",
        "doc=nlp(\"国境の長いトンネルを抜けると雪国であった。\")\n",
        "import deplacy\n",
        "deplacy.render(doc,Japanese=True)\n",
        "deplacy.serve(doc,port=None)\n",
        "# import graphviz\n",
        "# graphviz.Source(deplacy.dot(doc))"
      ]
    },
    {
      "cell_type":"markdown",
      "metadata":{ "colab_type":"text" },
      "source":[
        "## [GiNZA](https://megagonlabs.github.io/ginza/)で解析\n"
      ]
    },
    {
      "cell_type":"code",
      "metadata":{ "colab_type":"code" },
      "source":[
        "!pip install deplacy ja_ginza ginza\n",
        "import pkg_resources,imp\n",
        "imp.reload(pkg_resources)\n",
        "import spacy\n",
        "nlp=spacy.load(\"ja_ginza\")\n",
        "doc=nlp(\"国境の長いトンネルを抜けると雪国であった。\")\n",
        "import deplacy\n",
        "deplacy.render(doc,Japanese=True)\n",
        "deplacy.serve(doc,port=None)\n",
        "# import graphviz\n",
        "# graphviz.Source(deplacy.dot(doc))"
      ]
    },
    {
      "cell_type":"markdown",
      "metadata":{ "colab_type":"text" },
      "source":[
        "## [UDPipe 2](http://ufal.mff.cuni.cz/udpipe/2)で解析\n"
      ]
    },
    {
      "cell_type":"code",
      "metadata":{ "colab_type":"code" },
      "source":[
        "!pip install deplacy\n",
        "def nlp(t):\n",
        "  import urllib.request,urllib.parse,json\n",
        "  with urllib.request.urlopen(\"https://lindat.mff.cuni.cz/services/udpipe/api/process?model=ja&tokenizer&tagger&parser&data=\"+urllib.parse.quote(t)) as r:\n",
        "    return json.loads(r.read())[\"result\"]\n",
        "doc=nlp(\"国境の長いトンネルを抜けると雪国であった。\")\n",
        "import deplacy\n",
        "deplacy.render(doc,Japanese=True)\n",
        "deplacy.serve(doc,port=None)\n",
        "# import graphviz\n",
        "# graphviz.Source(deplacy.dot(doc))"
      ]
    },
    {
      "cell_type":"markdown",
      "metadata":{ "colab_type":"text" },
      "source":[
        "## [Stanza](https://stanfordnlp.github.io/stanza)で解析\n"
      ]
    },
    {
      "cell_type":"code",
      "metadata":{ "colab_type":"code" },
      "source":[
        "!pip install deplacy stanza\n",
        "import stanza\n",
        "nlp=stanza.Pipeline(\"ja\")\n",
        "doc=nlp(\"国境の長いトンネルを抜けると雪国であった。\")\n",
        "import deplacy\n",
        "deplacy.render(doc,Japanese=True)\n",
        "deplacy.serve(doc,port=None)\n",
        "# import graphviz\n",
        "# graphviz.Source(deplacy.dot(doc))"
      ]
    },
    {
      "cell_type":"markdown",
      "metadata":{ "colab_type":"text" },
      "source":[
        "## [spaCy-jPTDP](https://github.com/KoichiYasuoka/spaCy-jPTDP)で解析\n"
      ]
    },
    {
      "cell_type":"code",
      "metadata":{ "colab_type":"code" },
      "source":[
        "!pip install 'setuptools<57.0.0'\n",
        "!pip install dynet --no-build-isolation\n",
        "!pip install deplacy spacy_jptdp SudachiPy SudachiDict-core\n",
        "import pkg_resources,imp\n",
        "imp.reload(pkg_resources)\n",
        "import spacy_jptdp\n",
        "nlp=spacy_jptdp.load(\"ja_gsd\")\n",
        "doc=nlp(\"国境の長いトンネルを抜けると雪国であった。\")\n",
        "import deplacy\n",
        "deplacy.render(doc,Japanese=True)\n",
        "deplacy.serve(doc,port=None)\n",
        "# import graphviz\n",
        "# graphviz.Source(deplacy.dot(doc))"
      ]
    },
    {
      "cell_type":"markdown",
      "metadata":{ "colab_type":"text" },
      "source":[
        "## [UniDic2UD](https://pypi.org/project/unidic2ud)で解析\n"
      ]
    },
    {
      "cell_type":"code",
      "metadata":{ "colab_type":"code" },
      "source":[
        "!pip install deplacy unidic2ud\n",
        "import unidic2ud\n",
        "nlp=unidic2ud.load(\"gendai\")\n",
        "doc=nlp(\"国境の長いトンネルを抜けると雪国であった。\")\n",
        "import deplacy\n",
        "deplacy.render(doc,Japanese=True)\n",
        "deplacy.serve(doc,port=None)\n",
        "# import graphviz\n",
        "# graphviz.Source(deplacy.dot(doc))"
      ]
    },
    {
      "cell_type":"markdown",
      "metadata":{ "colab_type":"text" },
      "source":[
        "## [SuPar-UniDic](https://github.com/KoichiYasuoka/SuPar-UniDic)で解析\n"
      ]
    },
    {
      "cell_type":"code",
      "metadata":{ "colab_type":"code" },
      "source":[
        "!pip install deplacy suparunidic\n",
        "import suparunidic\n",
        "nlp=suparunidic.load()\n",
        "doc=nlp(\"国境の長いトンネルを抜けると雪国であった。\")\n",
        "import deplacy\n",
        "deplacy.render(doc,Japanese=True)\n",
        "deplacy.serve(doc,port=None)\n",
        "# import graphviz\n",
        "# graphviz.Source(deplacy.dot(doc))"
      ]
    },
    {
      "cell_type":"markdown",
      "metadata":{ "colab_type":"text" },
      "source":[
        "## [esupar](https://github.com/KoichiYasuoka/esupar)で解析\n"
      ]
    },
    {
      "cell_type":"code",
      "metadata":{ "colab_type":"code" },
      "source":[
        "!pip install deplacy esupar\n",
        "import esupar\n",
        "nlp=esupar.load(\"ja\")\n",
        "doc=nlp(\"国境の長いトンネルを抜けると雪国であった。\")\n",
        "import deplacy\n",
        "deplacy.render(doc,Japanese=True)\n",
        "deplacy.serve(doc,port=None)\n",
        "# import graphviz\n",
        "# graphviz.Source(deplacy.dot(doc))"
      ]
    },
    {
      "cell_type":"markdown",
      "metadata":{ "colab_type":"text" },
      "source":[
        "## [NLP-Cube](https://github.com/Adobe/NLP-Cube)で解析\n"
      ]
    },
    {
      "cell_type":"code",
      "metadata":{ "colab_type":"code" },
      "source":[
        "!pip install deplacy nlpcube 'torchtext<0.12'\n",
        "from cube.api import Cube\n",
        "nlp=Cube()\n",
        "nlp.load(\"ja\")\n",
        "doc=nlp(\"国境の長いトンネルを抜けると雪国であった。\")\n",
        "import deplacy\n",
        "deplacy.render(doc,Japanese=True)\n",
        "deplacy.serve(doc,port=None)\n",
        "# import graphviz\n",
        "# graphviz.Source(deplacy.dot(doc))"
      ]
    },
    {
      "cell_type":"markdown",
      "metadata":{ "colab_type":"text" },
      "source":[
        "## [Trankit](https://github.com/nlp-uoregon/trankit)で解析\n"
      ]
    },
    {
      "cell_type":"code",
      "metadata":{ "colab_type":"code" },
      "source":[
        "!pip install deplacy trankit transformers\n",
        "import trankit\n",
        "nlp=trankit.Pipeline(\"japanese\")\n",
        "doc=nlp(\"国境の長いトンネルを抜けると雪国であった。\")\n",
        "import deplacy\n",
        "deplacy.render(doc,Japanese=True)\n",
        "deplacy.serve(doc,port=None)\n",
        "# import graphviz\n",
        "# graphviz.Source(deplacy.dot(doc))"
      ]
    },
    {
      "cell_type":"markdown",
      "metadata":{ "colab_type":"text" },
      "source":[
        "## [spacy-udpipe](https://github.com/TakeLab/spacy-udpipe)で解析\n"
      ]
    },
    {
      "cell_type":"code",
      "metadata":{ "colab_type":"code" },
      "source":[
        "!pip install deplacy spacy-udpipe\n",
        "import spacy_udpipe\n",
        "spacy_udpipe.download(\"ja\")\n",
        "nlp=spacy_udpipe.load(\"ja\")\n",
        "doc=nlp(\"国境の長いトンネルを抜けると雪国であった。\")\n",
        "import deplacy\n",
        "deplacy.render(doc,Japanese=True)\n",
        "deplacy.serve(doc,port=None)\n",
        "# import graphviz\n",
        "# graphviz.Source(deplacy.dot(doc))"
      ]
    },
    {
      "cell_type":"markdown",
      "metadata":{ "colab_type":"text" },
      "source":[
        "## [Camphr-KNP](https://github.com/PKSHATechnology-Research/camphr/tree/master/packages/camphr_knp)で解析\n"
      ]
    },
    {
      "cell_type":"code",
      "metadata":{ "colab_type":"code" },
      "source":[
        "!apt-get install juman juman-dic libjuman-dev libcdb-dev\n",
        "!mkdir -p /usr/local/share ; ln -s /usr/lib/juman /usr/local/share\n",
        "!test -f knp-4.19.tar.bz2 || curl -LO http://nlp.ist.i.kyoto-u.ac.jp/nl-resource/knp/knp-4.19.tar.bz2\n",
        "!test -d knp-4.19 || ( tar xjf knp-4.19.tar.bz2 && cd knp-4.19 && ./configure && make install )\n",
        "!pip install deplacy 'camphr[juman]==0.8.9'\n",
        "import pkg_resources,imp\n",
        "imp.reload(pkg_resources)\n",
        "import camphr\n",
        "nlp=camphr.load(\"knp\")\n",
        "doc=nlp(\"国境の長いトンネルを抜けると雪国であった。\")\n",
        "import deplacy\n",
        "deplacy.render(doc,Japanese=True)\n",
        "deplacy.serve(doc,port=None)\n",
        "# import graphviz\n",
        "# graphviz.Source(deplacy.dot(doc))"
      ]
    }
  ]
}
