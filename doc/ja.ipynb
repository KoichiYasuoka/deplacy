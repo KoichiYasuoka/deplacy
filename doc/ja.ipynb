{
  "nbformat":4,
  "nbformat_minor":0,
  "metadata":{
    "colab":{ "name":"deplacyを用いた日本語文法解析" },
    "kernelspec":{ "name":"python3" }
  },
  "cells":[
    {
      "cell_type":"markdown",
      "metadata":{ "colab_type":"text" },
      "source":[
        "# [deplacy](https://koichiyasuoka.github.io/deplacy/)を用いた日本語文法解析\n"
      ]
    },
    {
      "cell_type":"markdown",
      "metadata":{ "colab_type":"text" },
      "source":[
        "## [UniDic2UD](https://pypi.org/project/unidic2ud)で解析\n"
      ]
    },
    {
      "cell_type":"code",
      "metadata":{ "colab_type":"code" },
      "source":[
        "!pip install deplacy unidic2ud\n",
        "import unidic2ud\n",
        "nlp=unidic2ud.load(\"qkana\")\n",
        "doc=nlp(\"國境の長いトンネルを拔けると、そこは雪國であつた。\")\n",
        "d=str(doc)\n",
        "import deplacy\n",
        "deplacy.render(d)\n",
        "deplacy.serve(d,port=None)\n",
        "# import graphviz\n",
        "# graphviz.Source(deplacy.dot(d))"
      ]
    },
    {
      "cell_type":"markdown",
      "metadata":{ "colab_type":"text" },
      "source":[
        "## [GiNZA](https://megagonlabs.github.io/ginza/)で解析\n"
      ]
    },
    {
      "cell_type":"code",
      "metadata":{ "colab_type":"code" },
      "source":[
        "!pip install deplacy ginza\n",
        "import ja_ginza\n",
        "nlp=ja_ginza.load()\n",
        "doc=nlp(\"國境の長いトンネルを拔けると、そこは雪國であつた。\")\n",
        "import deplacy\n",
        "deplacy.render(doc)\n",
        "deplacy.serve(doc,port=None)\n",
        "# import graphviz\n",
        "# graphviz.Source(deplacy.dot(doc))"
      ]
    },
    {
      "cell_type":"markdown",
      "metadata":{ "colab_type":"text" },
      "source":[
        "## [Stanza](https://stanfordnlp.github.io/stanza)で解析\n"
      ]
    },
    {
      "cell_type":"code",
      "metadata":{ "colab_type":"code" },
      "source":[
        "!pip install deplacy stanza\n",
        "import stanza\n",
        "stanza.download(\"ja\")\n",
        "nlp=stanza.Pipeline(\"ja\")\n",
        "doc=nlp(\"國境の長いトンネルを拔けると、そこは雪國であつた。\")\n",
        "from stanza.utils.conll import CoNLL\n",
        "d=CoNLL.conll_as_string(CoNLL.convert_dict(doc.to_dict()))\n",
        "import deplacy\n",
        "deplacy.render(d)\n",
        "deplacy.serve(d,port=None)\n",
        "# import graphviz\n",
        "# graphviz.Source(deplacy.dot(d))"
      ]
    },
    {
      "cell_type":"markdown",
      "metadata":{ "colab_type":"text" },
      "source":[
        "## [spacy-udpipe](https://github.com/TakeLab/spacy-udpipe)で解析\n"
      ]
    },
    {
      "cell_type":"code",
      "metadata":{ "colab_type":"code" },
      "source":[
        "!pip install deplacy spacy-udpipe\n",
        "import spacy_udpipe\n",
        "spacy_udpipe.download(\"ja\")\n",
        "nlp=spacy_udpipe.load(\"ja\")\n",
        "doc=nlp(\"國境の長いトンネルを拔けると、そこは雪國であつた。\")\n",
        "import deplacy\n",
        "deplacy.render(doc)\n",
        "deplacy.serve(doc,port=None)\n",
        "# import graphviz\n",
        "# graphviz.Source(deplacy.dot(doc))"
      ]
    },
    {
      "cell_type":"markdown",
      "metadata":{ "colab_type":"text" },
      "source":[
        "## [Camphr-Udify](https://camphr.readthedocs.io/en/latest/notes/udify.html)のfugashi/unidic-lite版で解析\n"
      ]
    },
    {
      "cell_type":"code",
      "metadata":{ "colab_type":"code" },
      "source":[
        "!pip install deplacy 'fugashi[unidic-lite]' en-udify@https://github.com/PKSHATechnology-Research/camphr_models/releases/download/0.5/en_udify-0.5.tar.gz\n",
        "import pkg_resources,imp\n",
        "imp.reload(pkg_resources)\n",
        "from camphr.pipelines import load_udify\n",
        "nlp=load_udify(\"ja\",punct_chars=[\"。\"])\n",
        "doc=nlp(\"國境の長いトンネルを拔けると、そこは雪國であつた。\")\n",
        "import deplacy\n",
        "deplacy.render(doc)\n",
        "deplacy.serve(doc,port=None)\n",
        "# import graphviz\n",
        "# graphviz.Source(deplacy.dot(doc))"
      ]
    },
    {
      "cell_type":"markdown",
      "metadata":{ "colab_type":"text" },
      "source":[
        "## [Camphr-Udify](https://camphr.readthedocs.io/en/latest/notes/udify.html)のMeCab/ipadic版で解析\n"
      ]
    },
    {
      "cell_type":"code",
      "metadata":{ "colab_type":"code" },
      "source":[
        "!pip install deplacy mecab-python3 ja-mecab-udify@https://github.com/PKSHATechnology-Research/camphr_models/releases/download/0.5/ja_mecab_udify-0.5.tar.gz\n",
        "import ja_mecab_udify\n",
        "nlp=ja_mecab_udify.load()\n",
        "doc=nlp(\"國境の長いトンネルを拔けると、そこは雪國であつた。\")\n",
        "import deplacy\n",
        "deplacy.render(doc)\n",
        "deplacy.serve(doc,port=None)\n",
        "# import graphviz\n",
        "# graphviz.Source(deplacy.dot(doc))"
      ]
    },
    {
      "cell_type":"markdown",
      "metadata":{ "colab_type":"text" },
      "source":[
        "## [NLP-Cube](https://github.com/Adobe/NLP-Cube)で解析\n"
      ]
    },
    {
      "cell_type":"code",
      "metadata":{ "colab_type":"code" },
      "source":[
        "!pip install deplacy nlpcube\n",
        "from cube.api import Cube\n",
        "nlp=Cube()\n",
        "nlp.load(\"ja\")\n",
        "doc=nlp(\"國境の長いトンネルを拔けると、そこは雪國であつた。\")\n",
        "d=\"\".join(\"\".join(str(t)+\"\\n\" for t in s)+\"\\n\" for s in doc)\n",
        "import deplacy\n",
        "deplacy.render(d)\n",
        "deplacy.serve(d,port=None)\n",
        "# import graphviz\n",
        "# graphviz.Source(deplacy.dot(d))"
      ]
    },
    {
      "cell_type":"markdown",
      "metadata":{ "colab_type":"text" },
      "source":[
        "## [Camphr-KNP](https://camphr.readthedocs.io/en/latest/notes/knp.html)で解析\n"
      ]
    },
    {
      "cell_type":"code",
      "metadata":{ "colab_type":"code" },
      "source":[
        "!apt-get install juman juman-dic libjuman-dev libcdb-dev\n",
        "!mkdir -p /usr/local/share ; ln -s /usr/lib/juman /usr/local/share\n",
        "!test -f knp-4.19.tar.bz2 || wget http://nlp.ist.i.kyoto-u.ac.jp/nl-resource/knp/knp-4.19.tar.bz2\n",
        "!test -d knp-4.19 || ( tar xjf knp-4.19.tar.bz2 && cd knp-4.19 && ./configure && make install )\n",
        "!pip install deplacy 'camphr[juman]'\n",
        "import camphr\n",
        "nlp=camphr.load(\"knp\")\n",
        "doc=nlp(\"國境の長いトンネルを拔けると、そこは雪國であつた。\")\n",
        "import deplacy\n",
        "deplacy.render(doc)\n",
        "deplacy.serve(doc,port=None)\n",
        "# import graphviz\n",
        "# graphviz.Source(deplacy.dot(doc))"
      ]
    }
  ]
}
