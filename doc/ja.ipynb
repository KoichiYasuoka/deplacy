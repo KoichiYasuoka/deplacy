{
  "nbformat":4,
  "nbformat_minor":0,
  "metadata":{
    "colab":{
      "name":"deplacyを用いた日本語文法解析",
      "provenance":[]
    },
    "kernelspec":{
      "name":"python3",
      "display_name":"Python 3"
    },
    "accelerator":"GPU"
  },
  "cells":[
    {
      "cell_type":"markdown",
      "metadata":{
        "colab_type":"text"
      },
      "source":[
        "# [deplacy](https://koichiyasuoka.github.io/deplacy/)を用いた日本語文法解析\n"
      ]
    },
    {
      "cell_type":"markdown",
      "metadata":{
        "colab_type":"text"
      },
      "source":[
        "## [UniDic2UD](https://pypi.org/project/unidic2ud)で解析\n"
      ]
    },
    {
      "cell_type":"code",
      "metadata":{
        "colab_type":"code"
      },
      "source":[
        "!pip install deplacy unidic2ud\n",
        "import unidic2ud\n",
        "nlp=unidic2ud.load(\"qkana\")\n",
        "doc=nlp(\"國境のトンネルを拔けると、窓の外の夜の底が白くなつた。\")\n",
        "d=str(doc)\n",
        "import deplacy\n",
        "deplacy.render(d)\n",
        "# deplacy.serve(d,port=None)\n",
        "# import graphviz\n",
        "# graphviz.Source(deplacy.dot(d))"
      ]
    },
    {
      "cell_type":"markdown",
      "metadata":{
        "colab_type":"text"
      },
      "source":[
        "## [GiNZA](https://megagonlabs.github.io/ginza/)で解析\n"
      ]
    },
    {
      "cell_type":"code",
      "metadata":{
        "colab_type":"code"
      },
      "source":[
        "!pip install deplacy ginza\n",
        "import ja_ginza\n",
        "nlp=ja_ginza.load()\n",
        "doc=nlp(\"國境のトンネルを拔けると、窓の外の夜の底が白くなつた。\")\n",
        "import deplacy\n",
        "deplacy.render(doc)\n",
        "# deplacy.serve(doc,port=None)\n",
        "# import graphviz\n",
        "# graphviz.Source(deplacy.dot(doc))"
      ]
    },
    {
      "cell_type":"markdown",
      "metadata":{
        "colab_type":"text"
      },
      "source":[
        "## [Stanza](https://stanfordnlp.github.io/stanza)で解析\n"
      ]
    },
    {
      "cell_type":"code",
      "metadata":{
        "colab_type":"code"
      },
      "source":[
        "!pip install deplacy stanza\n",
        "import stanza\n",
        "stanza.download(\"ja\")\n",
        "nlp=stanza.Pipeline(\"ja\")\n",
        "doc=nlp(\"國境のトンネルを拔けると、窓の外の夜の底が白くなつた。\")\n",
        "from stanza.utils.conll import CoNLL\n",
        "d=CoNLL.conll_as_string(CoNLL.convert_dict(doc.to_dict()))\n",
        "import deplacy\n",
        "deplacy.render(d)\n",
        "# deplacy.serve(d,port=None)\n",
        "# import graphviz\n",
        "# graphviz.Source(deplacy.dot(d))"
      ]
    },
    {
      "cell_type":"markdown",
      "metadata":{
        "colab_type":"text"
      },
      "source":[
        "## [spacy-udpipe](https://github.com/TakeLab/spacy-udpipe)で解析\n"
      ]
    },
    {
      "cell_type":"code",
      "metadata":{
        "colab_type":"code"
      },
      "source":[
        "!pip install deplacy spacy-udpipe\n",
        "import spacy_udpipe\n",
        "spacy_udpipe.download(\"ja\")\n",
        "nlp=spacy_udpipe.load(\"ja\")\n",
        "doc=nlp(\"國境のトンネルを拔けると、窓の外の夜の底が白くなつた。\")\n",
        "import deplacy\n",
        "deplacy.render(doc)\n",
        "# deplacy.serve(doc,port=None)\n",
        "# import graphviz\n",
        "# graphviz.Source(deplacy.dot(doc))"
      ]
    },
    {
      "cell_type":"markdown",
      "metadata":{
        "colab_type":"text"
      },
      "source":[
        "## [NLP-Cube](https://github.com/Adobe/NLP-Cube)で解析\n"
      ]
    },
    {
      "cell_type":"code",
      "metadata":{
        "colab_type":"code"
      },
      "source":[
        "!pip install deplacy nlpcube\n",
        "from cube.api import Cube\n",
        "nlp=Cube()\n",
        "nlp.load(\"ja\")\n",
        "doc=nlp(\"國境のトンネルを拔けると、窓の外の夜の底が白くなつた。\")\n",
        "d=\"\".join(\"\".join(str(t)+\"\\n\" for t in s)+\"\\n\" for s in doc)\n",
        "import deplacy\n",
        "deplacy.render(d)\n",
        "# deplacy.serve(d,port=None)\n",
        "# import graphviz\n",
        "# graphviz.Source(deplacy.dot(d))"
      ]
    }
  ]
}
