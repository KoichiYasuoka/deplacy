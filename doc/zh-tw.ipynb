{
  "nbformat":4,
  "nbformat_minor":0,
  "metadata":{
    "colab":{ "name":"deplacy句法分析" },
    "kernelspec":{
      "name":"python3",
      "display_name":"Python 3"
    }
  },
  "cells":[
    {
      "cell_type":"markdown",
      "metadata":{ "colab_type":"text" },
      "source":[
        "# [deplacy](https://koichiyasuoka.github.io/deplacy/)句法分析\n"
      ]
    },
    {
      "cell_type":"markdown",
      "metadata":{ "colab_type":"text" },
      "source":[
        "## 用[Stanza](https://stanfordnlp.github.io/stanza)\n"
      ]
    },
    {
      "cell_type":"code",
      "metadata":{ "colab_type":"code" },
      "source":[
        "!pip install deplacy stanza\n",
        "import stanza\n",
        "stanza.download(\"zh-hant\")\n",
        "nlp=stanza.Pipeline(\"zh-hant\")\n",
        "doc=nlp(\"希望是附麗於存在的，有存在，便有希望，有希望，便是光明。\")\n",
        "import deplacy\n",
        "deplacy.render(doc)\n",
        "deplacy.serve(doc,port=None)\n",
        "# import graphviz\n",
        "# graphviz.Source(deplacy.dot(doc))"
      ]
    },
    {
      "cell_type":"markdown",
      "metadata":{ "colab_type":"text" },
      "source":[
        "## 用[Camphr-Udify](https://camphr.readthedocs.io/en/latest/notes/udify.html)\n"
      ]
    },
    {
      "cell_type":"code",
      "metadata":{ "colab_type":"code" },
      "source":[
        "!pip install deplacy jieba 'camphr[udify]' en-udify@https://github.com/PKSHATechnology-Research/camphr_models/releases/download/0.6.0/en_udify-0.6.0.tar.gz\n",
        "import pkg_resources,imp\n",
        "imp.reload(pkg_resources)\n",
        "from camphr.pipelines import load_udify\n",
        "nlp=load_udify(\"zh\")\n",
        "doc=nlp(\"希望是附麗於存在的，有存在，便有希望，有希望，便是光明。\")\n",
        "import deplacy\n",
        "deplacy.render(doc)\n",
        "deplacy.serve(doc,port=None)\n",
        "# import graphviz\n",
        "# graphviz.Source(deplacy.dot(doc))"
      ]
    },
    {
      "cell_type":"markdown",
      "metadata":{ "colab_type":"text" },
      "source":[
        "## 用[spacy-udpipe](https://github.com/TakeLab/spacy-udpipe)\n"
      ]
    },
    {
      "cell_type":"code",
      "metadata":{ "colab_type":"code" },
      "source":[
        "!pip install deplacy spacy-udpipe\n",
        "import spacy_udpipe\n",
        "spacy_udpipe.download(\"zh\")\n",
        "nlp=spacy_udpipe.load(\"zh\")\n",
        "doc=nlp(\"希望是附麗於存在的，有存在，便有希望，有希望，便是光明。\")\n",
        "import deplacy\n",
        "deplacy.render(doc)\n",
        "deplacy.serve(doc,port=None)\n",
        "# import graphviz\n",
        "# graphviz.Source(deplacy.dot(doc))"
      ]
    },
    {
      "cell_type":"markdown",
      "metadata":{ "colab_type":"text" },
      "source":[
        "## 用[UD-Chinese](https://pypi.org/project/udchinese)\n"
      ]
    },
    {
      "cell_type":"code",
      "metadata":{ "colab_type":"code" },
      "source":[
        "!pip install deplacy udchinese\n",
        "import udchinese\n",
        "nlp=udchinese.load()\n",
        "doc=nlp(\"希望是附麗於存在的，有存在，便有希望，有希望，便是光明。\")\n",
        "import deplacy\n",
        "deplacy.render(doc)\n",
        "deplacy.serve(doc,port=None)\n",
        "# import graphviz\n",
        "# graphviz.Source(deplacy.dot(doc))"
      ]
    },
    {
      "cell_type":"markdown",
      "metadata":{ "colab_type":"text" },
      "source":[
        "## 用[spaCy](https://spacy.io/)\n"
      ]
    },
    {
      "cell_type":"code",
      "metadata":{ "colab_type":"code" },
      "source":[
        "!pip install deplacy\n",
        "!sudo pip install -U spacy\n",
        "!sudo python -m spacy download zh_core_web_md\n",
        "import pkg_resources,imp\n",
        "imp.reload(pkg_resources)\n",
        "import spacy\n",
        "nlp=spacy.load(\"zh_core_web_md\")\n",
        "doc=nlp(\"希望是附麗於存在的，有存在，便有希望，有希望，便是光明。\")\n",
        "import deplacy\n",
        "deplacy.render(doc)\n",
        "deplacy.serve(doc,port=None)\n",
        "# import graphviz\n",
        "# graphviz.Source(deplacy.dot(doc))"
      ]
    },
    {
      "cell_type":"markdown",
      "metadata":{ "colab_type":"text" },
      "source":[
        "## 用[DDParser](https://github.com/baidu/DDParser)\n"
      ]
    },
    {
      "cell_type":"code",
      "metadata":{ "colab_type":"code" },
      "source":[
        "!pip install deplacy ddparser\n",
        "from ddparser import DDParser\n",
        "ddp=DDParser(use_pos=True)\n",
        "nlp=lambda t:\"\".join([\"\\n\".join([\"\\t\".join([str(i+1),w,\"_\",p,p,\"_\",str(h),d,\"_\",\"SpaceAfter=No\"]) for i,(w,p,h,d) in enumerate(zip(s[\"word\"],s[\"postag\"],s[\"head\"],s[\"deprel\"]))])+\"\\n\\n\" for s in ddp.parse(t.split(\"\\n\"))])\n",
        "doc=nlp(\"希望是附麗於存在的，有存在，便有希望，有希望，便是光明。\")\n",
        "import deplacy\n",
        "deplacy.render(doc)\n",
        "deplacy.serve(doc,port=None)\n",
        "# import graphviz\n",
        "# graphviz.Source(deplacy.dot(doc))"
      ]
    }
  ]
}
