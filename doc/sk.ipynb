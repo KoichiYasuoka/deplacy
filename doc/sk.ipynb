{
  "nbformat":4,
  "nbformat_minor":0,
  "metadata":{
    "colab":{ "name":"deplacy pre syntaktickú analýzu" },
    "kernelspec":{
      "name":"python3",
      "display_name":"Python 3"
    }
  },
  "cells":[
    {
      "cell_type":"markdown",
      "metadata":{ "colab_type":"text" },
      "source":[
        "# [deplacy](https://koichiyasuoka.github.io/deplacy/) pre syntaktickú analýzu\n"
      ]
    },
    {
      "cell_type":"markdown",
      "metadata":{ "colab_type":"text" },
      "source":[
        "## s [Camphr-Udify](https://camphr.readthedocs.io/en/stable/notes/udify.html)\n"
      ]
    },
    {
      "cell_type":"code",
      "metadata":{ "colab_type":"code" },
      "source":[
        "!apt install python3.8 python3.8-dev python3.8-distutils\n",
        "!update-alternatives --remove-all python3\n",
        "!update-alternatives --install /usr/bin/python3 python3 /usr/bin/python3.11 1\n",
        "!update-alternatives --install /usr/bin/python3 python3 /usr/bin/python3.8 2\n",
        "!apt install python3-pip\n",
        "url=\"https://github.com/PKSHATechnology-Research/camphr_models\"\n",
        "f=\"en_udify-0.7.tar.gz\"\n",
        "!test -f {f} || curl -LO {url+\"/releases/download/0.7.0/\"+f}\n",
        "!test -d /usr/local/lib/python3.8/dist-packages/camphr || pip install {f} \"numpy<1.20\" \"spacy<2.3\" deplacy\n",
        "!echo 1 | update-alternatives --config python3\n",
        "!pip install deplacy\n",
        "import subprocess\n",
        "nlp=lambda t:subprocess.run([\"python3.8\",\"-c\",\"\\n\".join([\"import spacy,deplacy\",\"n=spacy.load('en_udify')\",\"print(deplacy.to_conllu(n(input())),end='')\"])],input=t,stdout=subprocess.PIPE,encoding=\"utf-8\").stdout\n",
        "doc=nlp(\"Kto druhému jamu kope sám do nej spadne.\")\n",
        "import deplacy\n",
        "deplacy.render(doc)\n",
        "deplacy.serve(doc,port=None)\n",
        "# import graphviz\n",
        "# graphviz.Source(deplacy.dot(doc))"
      ]
    },
    {
      "cell_type":"markdown",
      "metadata":{ "colab_type":"text" },
      "source":[
        "## s [UDPipe 2](http://ufal.mff.cuni.cz/udpipe/2)\n"
      ]
    },
    {
      "cell_type":"code",
      "metadata":{ "colab_type":"code" },
      "source":[
        "!pip install deplacy\n",
        "def nlp(t):\n",
        "  import urllib.request,urllib.parse,json\n",
        "  with urllib.request.urlopen(\"https://lindat.mff.cuni.cz/services/udpipe/api/process?model=sk&tokenizer&tagger&parser&data=\"+urllib.parse.quote(t)) as r:\n",
        "    return json.loads(r.read())[\"result\"]\n",
        "doc=nlp(\"Kto druhému jamu kope sám do nej spadne.\")\n",
        "import deplacy\n",
        "deplacy.render(doc)\n",
        "deplacy.serve(doc,port=None)\n",
        "# import graphviz\n",
        "# graphviz.Source(deplacy.dot(doc))"
      ]
    },
    {
      "cell_type":"markdown",
      "metadata":{ "colab_type":"text" },
      "source":[
        "## s [Trankit](https://github.com/nlp-uoregon/trankit)\n"
      ]
    },
    {
      "cell_type":"code",
      "metadata":{ "colab_type":"code" },
      "source":[
        "!pip install deplacy trankit 'transformers<4.47' 'numpy<2'\n",
        "import trankit\n",
        "nlp=trankit.Pipeline(\"slovak\")\n",
        "doc=nlp(\"Kto druhému jamu kope sám do nej spadne.\")\n",
        "import deplacy\n",
        "deplacy.render(doc)\n",
        "deplacy.serve(doc,port=None)\n",
        "# import graphviz\n",
        "# graphviz.Source(deplacy.dot(doc))"
      ]
    },
    {
      "cell_type":"markdown",
      "metadata":{ "colab_type":"text" },
      "source":[
        "## s [spacy-udpipe](https://github.com/TakeLab/spacy-udpipe)\n"
      ]
    },
    {
      "cell_type":"code",
      "metadata":{ "colab_type":"code" },
      "source":[
        "!pip install deplacy spacy-udpipe\n",
        "import spacy_udpipe\n",
        "spacy_udpipe.download(\"sk\")\n",
        "nlp=spacy_udpipe.load(\"sk\")\n",
        "doc=nlp(\"Kto druhému jamu kope sám do nej spadne.\")\n",
        "import deplacy\n",
        "deplacy.render(doc)\n",
        "deplacy.serve(doc,port=None)\n",
        "# import graphviz\n",
        "# graphviz.Source(deplacy.dot(doc))"
      ]
    },
    {
      "cell_type":"markdown",
      "metadata":{ "colab_type":"text" },
      "source":[
        "## s [NLP-Cube](https://github.com/Adobe/NLP-Cube)\n"
      ]
    },
    {
      "cell_type":"code",
      "metadata":{ "colab_type":"code" },
      "source":[
        "!pip uninstall -y torchaudio torchvision\n",
        "!pip install blinker --ignore-installed\n",
        "!pip install deplacy nlpcube\n",
        "from cube.api import Cube\n",
        "nlp=Cube()\n",
        "nlp.load(\"sk\")\n",
        "doc=nlp(\"Kto druhému jamu kope sám do nej spadne.\")\n",
        "import deplacy\n",
        "deplacy.render(doc)\n",
        "deplacy.serve(doc,port=None)\n",
        "# import graphviz\n",
        "# graphviz.Source(deplacy.dot(doc))"
      ]
    },
    {
      "cell_type":"markdown",
      "metadata":{ "colab_type":"text" },
      "source":[
        "## s [Stanza](https://stanfordnlp.github.io/stanza)\n"
      ]
    },
    {
      "cell_type":"code",
      "metadata":{ "colab_type":"code" },
      "source":[
        "!pip install deplacy stanza\n",
        "import stanza\n",
        "nlp=stanza.Pipeline(\"sk\")\n",
        "doc=nlp(\"Kto druhému jamu kope sám do nej spadne.\")\n",
        "import deplacy\n",
        "deplacy.render(doc)\n",
        "deplacy.serve(doc,port=None)\n",
        "# import graphviz\n",
        "# graphviz.Source(deplacy.dot(doc))"
      ]
    },
    {
      "cell_type":"markdown",
      "metadata":{ "colab_type":"text" },
      "source":[
        "## s [spaCy-jPTDP](https://github.com/KoichiYasuoka/spaCy-jPTDP)\n"
      ]
    },
    {
      "cell_type":"code",
      "metadata":{ "colab_type":"code" },
      "source":[
        "!pip install 'setuptools<57.0.0'\n",
        "!pip install dynet --no-build-isolation\n",
        "!pip install deplacy spacy_jptdp\n",
        "import spacy_jptdp\n",
        "nlp=spacy_jptdp.load(\"sk_snk\")\n",
        "doc=nlp(\"Kto druhému jamu kope sám do nej spadne.\")\n",
        "import deplacy\n",
        "deplacy.render(doc)\n",
        "deplacy.serve(doc,port=None)\n",
        "# import graphviz\n",
        "# graphviz.Source(deplacy.dot(doc))"
      ]
    }
  ]
}
