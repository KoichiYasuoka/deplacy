{
  "nbformat":4,
  "nbformat_minor":0,
  "metadata":{
    "colab":{ "name":"deplacy để phân tích ngữ pháp" },
    "kernelspec":{
      "name":"python3",
      "display_name":"Python 3"
    }
  },
  "cells":[
    {
      "cell_type":"markdown",
      "metadata":{ "colab_type":"text" },
      "source":[
        "# [deplacy](https://koichiyasuoka.github.io/deplacy/) để phân tích ngữ pháp\n"
      ]
    },
    {
      "cell_type":"markdown",
      "metadata":{ "colab_type":"text" },
      "source":[
        "## với [Trankit](https://github.com/nlp-uoregon/trankit)\n"
      ]
    },
    {
      "cell_type":"code",
      "metadata":{ "colab_type":"code" },
      "source":[
        "!pip install deplacy trankit 'transformers<4.47' 'numpy<2'\n",
        "import trankit\n",
        "nlp=trankit.Pipeline(\"vietnamese\")\n",
        "doc=nlp(\"Một mũi tên trúng hai con chim.\")\n",
        "import deplacy\n",
        "deplacy.render(doc)\n",
        "deplacy.serve(doc,port=None)\n",
        "# import graphviz\n",
        "# graphviz.Source(deplacy.dot(doc))"
      ]
    },
    {
      "cell_type":"markdown",
      "metadata":{ "colab_type":"text" },
      "source":[
        "## với [Stanza](https://stanfordnlp.github.io/stanza)\n"
      ]
    },
    {
      "cell_type":"code",
      "metadata":{ "colab_type":"code" },
      "source":[
        "!pip install deplacy stanza\n",
        "import stanza\n",
        "nlp=stanza.Pipeline(\"vi\")\n",
        "doc=nlp(\"Một mũi tên trúng hai con chim.\")\n",
        "import deplacy\n",
        "deplacy.render(doc)\n",
        "deplacy.serve(doc,port=None)\n",
        "# import graphviz\n",
        "# graphviz.Source(deplacy.dot(doc))"
      ]
    },
    {
      "cell_type":"markdown",
      "metadata":{ "colab_type":"text" },
      "source":[
        "## với [esupar](https://github.com/KoichiYasuoka/esupar)\n"
      ]
    },
    {
      "cell_type":"code",
      "metadata":{ "colab_type":"code" },
      "source":[
        "!pip install deplacy esupar\n",
        "import esupar\n",
        "nlp=esupar.load(\"vi\")\n",
        "doc=nlp(\"Một mũi tên trúng hai con chim.\")\n",
        "import deplacy\n",
        "deplacy.render(doc)\n",
        "deplacy.serve(doc,port=None)\n",
        "# import graphviz\n",
        "# graphviz.Source(deplacy.dot(doc))"
      ]
    },
    {
      "cell_type":"markdown",
      "metadata":{ "colab_type":"text" },
      "source":[
        "## với [spaCy-jPTDP](https://github.com/KoichiYasuoka/spaCy-jPTDP)\n"
      ]
    },
    {
      "cell_type":"code",
      "metadata":{ "colab_type":"code" },
      "source":[
        "!pip install 'setuptools<57' 'numpy<2'\n",
        "!pip install dynet --no-build-isolation\n",
        "!pip install deplacy spacy_jptdp pyvi\n",
        "import spacy_jptdp\n",
        "nlp=spacy_jptdp.load(\"vi_vtb\")\n",
        "doc=nlp(\"Một mũi tên trúng hai con chim.\")\n",
        "import deplacy\n",
        "deplacy.render(doc)\n",
        "deplacy.serve(doc,port=None)\n",
        "# import graphviz\n",
        "# graphviz.Source(deplacy.dot(doc))"
      ]
    },
    {
      "cell_type":"markdown",
      "metadata":{ "colab_type":"text" },
      "source":[
        "## với [UDPipe 2](http://ufal.mff.cuni.cz/udpipe/2)\n"
      ]
    },
    {
      "cell_type":"code",
      "metadata":{ "colab_type":"code" },
      "source":[
        "!pip install deplacy\n",
        "def nlp(t):\n",
        "  import urllib.request,urllib.parse,json\n",
        "  with urllib.request.urlopen(\"https://lindat.mff.cuni.cz/services/udpipe/api/process?model=vi&tokenizer&tagger&parser&data=\"+urllib.parse.quote(t)) as r:\n",
        "    return json.loads(r.read())[\"result\"]\n",
        "doc=nlp(\"Một mũi tên trúng hai con chim.\")\n",
        "import deplacy\n",
        "deplacy.render(doc)\n",
        "deplacy.serve(doc,port=None)\n",
        "# import graphviz\n",
        "# graphviz.Source(deplacy.dot(doc))"
      ]
    },
    {
      "cell_type":"markdown",
      "metadata":{ "colab_type":"text" },
      "source":[
        "## với [spacy-udpipe](https://github.com/TakeLab/spacy-udpipe)\n"
      ]
    },
    {
      "cell_type":"code",
      "metadata":{ "colab_type":"code" },
      "source":[
        "!pip install deplacy spacy-udpipe\n",
        "import spacy_udpipe\n",
        "spacy_udpipe.download(\"vi\")\n",
        "nlp=spacy_udpipe.load(\"vi\")\n",
        "doc=nlp(\"Một mũi tên trúng hai con chim.\")\n",
        "import deplacy\n",
        "deplacy.render(doc)\n",
        "deplacy.serve(doc,port=None)\n",
        "# import graphviz\n",
        "# graphviz.Source(deplacy.dot(doc))"
      ]
    },
    {
      "cell_type":"markdown",
      "metadata":{ "colab_type":"text" },
      "source":[
        "## với [VnCoreNLP](https://github.com/vncorenlp/VnCoreNLP)\n"
      ]
    },
    {
      "cell_type":"code",
      "metadata":{ "colab_type":"code" },
      "source":[
        "!pip install deplacy vncorenlp\n",
        "!test -d VnCoreNLP || git clone --depth=1 https://github.com/vncorenlp/VnCoreNLP\n",
        "from vncorenlp import VnCoreNLP\n",
        "vnp=VnCoreNLP(\"VnCoreNLP/VnCoreNLP-1.1.1.jar\",annotators=\"wseg,pos,parse\")\n",
        "nlp=lambda t:\"\".join([\"\\n\".join([\"\\t\".join([str(v[\"index\"]),v[\"form\"],\"_\",v[\"posTag\"],v[\"posTag\"],\"_\",str(v[\"head\"]),v[\"depLabel\"],\"_\",\"_\"]) for v in s])+\"\\n\\n\" for s in vnp.annotate(t)[\"sentences\"]])\n",
        "doc=nlp(\"Một mũi tên trúng hai con chim.\")\n",
        "import deplacy\n",
        "deplacy.render(doc)\n",
        "deplacy.serve(doc,port=None)\n",
        "# import graphviz\n",
        "# graphviz.Source(deplacy.dot(doc))"
      ]
    },
    {
      "cell_type":"markdown",
      "metadata":{ "colab_type":"text" },
      "source":[
        "## với [underthesea](https://github.com/undertheseanlp/underthesea)\n"
      ]
    },
    {
      "cell_type":"code",
      "metadata":{ "colab_type":"code" },
      "source":[
        "!pip install deplacy 'underthesea[deep]'\n",
        "from underthesea import pos_tag,dependency_parse\n",
        "nlp=lambda t:\"\\n\".join(\"\\t\".join([str(i+1),p[0],\"_\",p[1],p[1],\"_\",str(d[1]),d[2],\"_\",\"_\"]) for i,(p,d) in enumerate(zip(pos_tag(t),dependency_parse(t))))+\"\\n\\n\"\n",
        "doc=nlp(\"Một mũi tên trúng hai con chim.\")\n",
        "import deplacy\n",
        "deplacy.render(doc)\n",
        "deplacy.serve(doc,port=None)\n",
        "# import graphviz\n",
        "# graphviz.Source(deplacy.dot(doc))"
      ]
    },
    {
      "cell_type":"markdown",
      "metadata":{ "colab_type":"text" },
      "source":[
        "## với [BkParser](https://github.com/trietnm2/BkParser)\n"
      ]
    },
    {
      "cell_type":"code",
      "metadata":{ "colab_type":"code" },
      "source":[
        "!test -d BkParser || git clone --depth=1 https://github.com/trietnm2/BkParser\n",
        "!pip install deplacy py4j\n",
        "!test -d BkParser/BkParser || ( cd BkParser && ln -s . BkParser )\n",
        "%cd BkParser\n",
        "from bkparser import BKParser\n",
        "bkp=BKParser()\n",
        "nlp=lambda text:\"\".join([\"\\t\".join([t.id,t.form,t.lemma,t.uPOSTag,t.xPOSTag,t.feats,t.head,t.depRel,t.deps,t.misc])+\"\\n\" for t in bkp.parse(text)])+\"\\n\"\n",
        "doc=nlp(\"Một mũi tên trúng hai con chim.\")\n",
        "import deplacy\n",
        "deplacy.render(doc)\n",
        "deplacy.serve(doc,port=None)\n",
        "# import graphviz\n",
        "# graphviz.Source(deplacy.dot(doc))\n",
        "%cd .."
      ]
    }
  ]
}
