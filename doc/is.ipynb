{
  "nbformat":4,
  "nbformat_minor":0,
  "metadata":{
    "colab":{ "name":"deplacy fyrir setningafræðilega greiningu" },
    "kernelspec":{
      "name":"python3",
      "display_name":"Python 3"
    }
  },
  "cells":[
    {
      "cell_type":"markdown",
      "metadata":{ "colab_type":"text" },
      "source":[
        "# [deplacy](https://koichiyasuoka.github.io/deplacy/) fyrir setningafræðilega greiningu\n"
      ]
    },
    {
      "cell_type":"markdown",
      "metadata":{ "colab_type":"text" },
      "source":[
        "## við [COMBO-pytorch](https://gitlab.clarin-pl.eu/syntactic-tools/combo)\n"
      ]
    },
    {
      "cell_type":"code",
      "metadata":{ "colab_type":"code" },
      "source":[
        "!apt install python3.8 python3.8-dev python3.8-distutils\n",
        "!update-alternatives --remove-all python3\n",
        "!update-alternatives --install /usr/bin/python3 python3 /usr/bin/python3.10 1\n",
        "!update-alternatives --install /usr/bin/python3 python3 /usr/bin/python3.8 2\n",
        "!apt install python3-pip\n",
        "!test -d /usr/local/lib/python3.8/dist-packages/lambo || pip install git+https://gitlab.clarin-pl.eu/syntactic-tools/lambo deplacy\n",
        "!test -d /usr/local/lib/python3.8/dist-packages/combo || pip install --index-url https://pypi.clarin-pl.eu/simple combo\n",
        "!python3.8 -m spacy download en_core_web_sm\n",
        "!echo 1 | update-alternatives --config python3\n",
        "!pip install deplacy\n",
        "import subprocess\n",
        "nlp=lambda t:subprocess.run([\"python3.8\",\"-c\",\"\\n\".join([\"from combo.predict import COMBO\",\"n=COMBO.from_pretrained('icelandic-ud27')\",\"import deplacy\",\"print(deplacy.to_conllu(n(input())),end='')\"])],input=t,stdout=subprocess.PIPE,encoding=\"utf-8\").stdout\n",
        "doc=nlp(\"Hugsjónina sakar ekkert þótt einstaklíngarnir deyi eða svíki.\")\n",
        "import deplacy\n",
        "deplacy.render(doc)\n",
        "deplacy.serve(doc,port=None)\n",
        "# import graphviz\n",
        "# graphviz.Source(deplacy.dot(doc))"
      ]
    },
    {
      "cell_type":"markdown",
      "metadata":{ "colab_type":"text" },
      "source":[
        "## við [Stanza](https://stanfordnlp.github.io/stanza)\n"
      ]
    },
    {
      "cell_type":"code",
      "metadata":{ "colab_type":"code" },
      "source":[
        "!pip install deplacy stanza\n",
        "import stanza\n",
        "nlp=stanza.Pipeline(\"is\")\n",
        "doc=nlp(\"Hugsjónina sakar ekkert þótt einstaklíngarnir deyi eða svíki.\")\n",
        "import deplacy\n",
        "deplacy.render(doc)\n",
        "deplacy.serve(doc,port=None)\n",
        "# import graphviz\n",
        "# graphviz.Source(deplacy.dot(doc))"
      ]
    },
    {
      "cell_type":"markdown",
      "metadata":{ "colab_type":"text" },
      "source":[
        "## við [UDPipe 2](http://ufal.mff.cuni.cz/udpipe/2)\n"
      ]
    },
    {
      "cell_type":"code",
      "metadata":{ "colab_type":"code" },
      "source":[
        "!pip install deplacy\n",
        "def nlp(t):\n",
        "  import urllib.request,urllib.parse,json\n",
        "  with urllib.request.urlopen(\"https://lindat.mff.cuni.cz/services/udpipe/api/process?model=is&tokenizer&tagger&parser&data=\"+urllib.parse.quote(t)) as r:\n",
        "    return json.loads(r.read())[\"result\"]\n",
        "doc=nlp(\"Hugsjónina sakar ekkert þótt einstaklíngarnir deyi eða svíki.\")\n",
        "import deplacy\n",
        "deplacy.render(doc)\n",
        "deplacy.serve(doc,port=None)\n",
        "# import graphviz\n",
        "# graphviz.Source(deplacy.dot(doc))"
      ]
    },
    {
      "cell_type":"markdown",
      "metadata":{ "colab_type":"text" },
      "source":[
        "## við [is_ud_is_pud](https://huggingface.co/elisno/is_ud_is_pud)\n"
      ]
    },
    {
      "cell_type":"code",
      "metadata":{ "colab_type":"code" },
      "source":[
        "import os\n",
        "url=\"https://huggingface.co/elisno/is_ud_is_pud\"\n",
        "m=os.path.basename(url)\n",
        "!pip install deplacy {m+\"@\"+url+\"/resolve/main/\"+m+\"-any-py3-none-any.whl\"}\n",
        "import spacy\n",
        "nlp=spacy.load(m)\n",
        "doc=nlp(\"Hugsjónina sakar ekkert þótt einstaklíngarnir deyi eða svíki.\")\n",
        "import deplacy\n",
        "deplacy.render(doc)\n",
        "deplacy.serve(doc,port=None)\n",
        "# import graphviz\n",
        "# graphviz.Source(deplacy.dot(doc))"
      ]
    }
  ]
}
