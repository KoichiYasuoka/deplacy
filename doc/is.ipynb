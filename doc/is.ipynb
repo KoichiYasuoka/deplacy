{
  "nbformat":4,
  "nbformat_minor":0,
  "metadata":{
    "colab":{ "name":"deplacy fyrir setningafræðilega greiningu" },
    "kernelspec":{
      "name":"python3",
      "display_name":"Python 3"
    }
  },
  "cells":[
    {
      "cell_type":"markdown",
      "metadata":{ "colab_type":"text" },
      "source":[
        "# [deplacy](https://koichiyasuoka.github.io/deplacy/) fyrir setningafræðilega greiningu\n"
      ]
    },
    {
      "cell_type":"markdown",
      "metadata":{ "colab_type":"text" },
      "source":[
        "## við [COMBO-pytorch](https://gitlab.clarin-pl.eu/syntactic-tools/combo)\n"
      ]
    },
    {
      "cell_type":"code",
      "metadata":{ "colab_type":"code" },
      "source":[
        "!pip install --index-url https://pypi.clarin-pl.eu/simple deplacy combo\n",
        "import combo.predict\n",
        "nlp=combo.predict.COMBO.from_pretrained(\"icelandic-ud27\")\n",
        "doc=nlp(\"Hugsjónina sakar ekkert þótt einstaklíngarnir deyi eða svíki.\")\n",
        "import deplacy\n",
        "deplacy.render(doc)\n",
        "deplacy.serve(doc,port=None)\n",
        "# import graphviz\n",
        "# graphviz.Source(deplacy.dot(doc))"
      ]
    }
  ]
}
