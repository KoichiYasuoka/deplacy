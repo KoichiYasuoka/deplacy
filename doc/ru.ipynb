{
  "nbformat":4,
  "nbformat_minor":0,
  "metadata":{
    "colab":{ "name":"deplacy для синтаксического анализа" },
    "kernelspec":{
      "name":"python3",
      "display_name":"Python 3"
    }
  },
  "cells":[
    {
      "cell_type":"markdown",
      "metadata":{ "colab_type":"text" },
      "source":[
        "# [deplacy](https://koichiyasuoka.github.io/deplacy/) для синтаксического анализа\n"
      ]
    },
    {
      "cell_type":"markdown",
      "metadata":{ "colab_type":"text" },
      "source":[
        "## с [Stanza](https://stanfordnlp.github.io/stanza)\n"
      ]
    },
    {
      "cell_type":"code",
      "metadata":{ "colab_type":"code" },
      "source":[
        "!pip install deplacy stanza\n",
        "import stanza\n",
        "stanza.download(\"ru\")\n",
        "nlp=stanza.Pipeline(\"ru\")\n",
        "doc=nlp(\"Москва слезам не верила, а верила любви.\")\n",
        "import deplacy\n",
        "deplacy.render(doc)\n",
        "deplacy.serve(doc,port=None)\n",
        "# import graphviz\n",
        "# graphviz.Source(deplacy.dot(doc))"
      ]
    },
    {
      "cell_type":"markdown",
      "metadata":{ "colab_type":"text" },
      "source":[
        "## с [Camphr-Udify](https://camphr.readthedocs.io/en/latest/notes/udify.html)\n"
      ]
    },
    {
      "cell_type":"code",
      "metadata":{ "colab_type":"code" },
      "source":[
        "!pip install -U deplacy camphr 'allennlp<1.3' en-udify@https://github.com/PKSHATechnology-Research/camphr_models/releases/download/0.7.0/en_udify-0.7.tar.gz\n",
        "import pkg_resources,imp\n",
        "imp.reload(pkg_resources)\n",
        "import spacy\n",
        "nlp=spacy.load(\"en_udify\")\n",
        "doc=nlp(\"Москва слезам не верила, а верила любви.\")\n",
        "import deplacy\n",
        "deplacy.render(doc)\n",
        "deplacy.serve(doc,port=None)\n",
        "# import graphviz\n",
        "# graphviz.Source(deplacy.dot(doc))"
      ]
    },
    {
      "cell_type":"markdown",
      "metadata":{ "colab_type":"text" },
      "source":[
        "## с [COMBO-pytorch](https://github.com/ipipan/combo)\n"
      ]
    },
    {
      "cell_type":"code",
      "metadata":{ "colab_type":"code" },
      "source":[
        "!pip install deplacy COMBO@git+https://github.com/ipipan/combo\n",
        "import combo.predict\n",
        "nlp=combo.predict.SemanticMultitaskPredictor.from_pretrained(\"russian\")\n",
        "doc=nlp(\"Москва слезам не верила, а верила любви.\")\n",
        "import deplacy\n",
        "deplacy.render(doc)\n",
        "deplacy.serve(doc,port=None)\n",
        "# import graphviz\n",
        "# graphviz.Source(deplacy.dot(doc))"
      ]
    },
    {
      "cell_type":"markdown",
      "metadata":{ "colab_type":"text" },
      "source":[
        "## с [NLP-Cube](https://github.com/Adobe/NLP-Cube)\n"
      ]
    },
    {
      "cell_type":"code",
      "metadata":{ "colab_type":"code" },
      "source":[
        "!pip install deplacy nlpcube\n",
        "from cube.api import Cube\n",
        "nlp=Cube()\n",
        "nlp.load(\"ru\")\n",
        "doc=nlp(\"Москва слезам не верила, а верила любви.\")\n",
        "import deplacy\n",
        "deplacy.render(doc)\n",
        "deplacy.serve(doc,port=None)\n",
        "# import graphviz\n",
        "# graphviz.Source(deplacy.dot(doc))"
      ]
    },
    {
      "cell_type":"markdown",
      "metadata":{ "colab_type":"text" },
      "source":[
        "## с [spacy-udpipe](https://github.com/TakeLab/spacy-udpipe)\n"
      ]
    },
    {
      "cell_type":"code",
      "metadata":{ "colab_type":"code" },
      "source":[
        "!pip install deplacy spacy-udpipe pymorphy2\n",
        "import spacy_udpipe\n",
        "spacy_udpipe.download(\"ru\")\n",
        "nlp=spacy_udpipe.load(\"ru\")\n",
        "doc=nlp(\"Москва слезам не верила, а верила любви.\")\n",
        "import deplacy\n",
        "deplacy.render(doc)\n",
        "deplacy.serve(doc,port=None)\n",
        "# import graphviz\n",
        "# graphviz.Source(deplacy.dot(doc))"
      ]
    },
    {
      "cell_type":"markdown",
      "metadata":{ "colab_type":"text" },
      "source":[
        "## с [spaCy-COMBO](https://github.com/KoichiYasuoka/spaCy-COMBO)\n"
      ]
    },
    {
      "cell_type":"code",
      "metadata":{ "colab_type":"code" },
      "source":[
        "!pip install deplacy spacy_combo\n",
        "import spacy_combo\n",
        "nlp=spacy_combo.load(\"ru_syntagrus\")\n",
        "doc=nlp(\"Москва слезам не верила, а верила любви.\")\n",
        "import deplacy\n",
        "deplacy.render(doc)\n",
        "deplacy.serve(doc,port=None)\n",
        "# import graphviz\n",
        "# graphviz.Source(deplacy.dot(doc))"
      ]
    },
    {
      "cell_type":"markdown",
      "metadata":{ "colab_type":"text" },
      "source":[
        "## с [spaCy-jPTDP](https://github.com/KoichiYasuoka/spaCy-jPTDP)\n"
      ]
    },
    {
      "cell_type":"code",
      "metadata":{ "colab_type":"code" },
      "source":[
        "!pip install deplacy spacy_jptdp\n",
        "import spacy_jptdp\n",
        "nlp=spacy_jptdp.load(\"ru_syntagrus\")\n",
        "doc=nlp(\"Москва слезам не верила, а верила любви.\")\n",
        "import deplacy\n",
        "deplacy.render(doc)\n",
        "deplacy.serve(doc,port=None)\n",
        "# import graphviz\n",
        "# graphviz.Source(deplacy.dot(doc))"
      ]
    },
    {
      "cell_type":"markdown",
      "metadata":{ "colab_type":"text" },
      "source":[
        "## с [UDPipe 2](http://ufal.mff.cuni.cz/udpipe/2)\n"
      ]
    },
    {
      "cell_type":"code",
      "metadata":{ "colab_type":"code" },
      "source":[
        "!pip install deplacy\n",
        "def nlp(t):\n",
        "  import urllib.request,urllib.parse,json\n",
        "  with urllib.request.urlopen(\"https://lindat.mff.cuni.cz/services/udpipe/api/process?model=ru&tokenizer&tagger&parser&data=\"+urllib.parse.quote(t)) as r:\n",
        "    return json.loads(r.read())[\"result\"]\n",
        "doc=nlp(\"Москва слезам не верила, а верила любви.\")\n",
        "import deplacy\n",
        "deplacy.render(doc)\n",
        "deplacy.serve(doc,port=None)\n",
        "# import graphviz\n",
        "# graphviz.Source(deplacy.dot(doc))"
      ]
    },
    {
      "cell_type":"markdown",
      "metadata":{ "colab_type":"text" },
      "source":[
        "## с [Turku-neural-parser-pipeline](https://turkunlp.org/Turku-neural-parser-pipeline/)\n"
      ]
    },
    {
      "cell_type":"code",
      "metadata":{ "colab_type":"code" },
      "source":[
        "!pip install deplacy ufal.udpipe configargparse tensorflow==1.12.2 torch==0.4.1 torchtext==0.3.1 torchvision==0.2.1\n",
        "!test -d Turku-neural-parser-pipeline || git clone --depth=1 https://github.com/TurkuNLP/Turku-neural-parser-pipeline\n",
        "!cd Turku-neural-parser-pipeline && git submodule update --init --recursive && test -d models_ru_syntagrus || python fetch_models.py ru_syntagrus\n",
        "import sys,subprocess\n",
        "nlp=lambda t:subprocess.run([sys.executable,\"full_pipeline_stream.py\",\"--gpu\",\"-1\",\"--conf\",\"models_ru_syntagrus/pipelines.yaml\"],cwd=\"Turku-neural-parser-pipeline\",input=t,encoding=\"utf-8\",stdout=subprocess.PIPE).stdout\n",
        "doc=nlp(\"Москва слезам не верила, а верила любви.\")\n",
        "import deplacy\n",
        "deplacy.render(doc)\n",
        "deplacy.serve(doc,port=None)\n",
        "# import graphviz\n",
        "# graphviz.Source(deplacy.dot(doc))"
      ]
    },
    {
      "cell_type":"markdown",
      "metadata":{ "colab_type":"text" },
      "source":[
        "## с [natasha](https://github.com/natasha/natasha)\n"
      ]
    },
    {
      "cell_type":"code",
      "metadata":{ "colab_type":"code" },
      "source":[
        "!pip install deplacy natasha\n",
        "from natasha import Doc,Segmenter,NewsEmbedding,NewsMorphTagger,NewsSyntaxParser,MorphVocab\n",
        "tokenizer=Segmenter()\n",
        "embedding=NewsEmbedding()\n",
        "tagger=NewsMorphTagger(embedding)\n",
        "parser=NewsSyntaxParser(embedding)\n",
        "lemmatizer=MorphVocab()\n",
        "def nlp(t):\n",
        "  d=Doc(t)\n",
        "  d.segment(tokenizer)\n",
        "  d.tag_morph(tagger)\n",
        "  d.parse_syntax(parser)\n",
        "  u=\"\"\n",
        "  for s in d.sents:\n",
        "    for t in s.tokens:\n",
        "      t.lemmatize(lemmatizer)\n",
        "      i=t.id.find(\"_\")\n",
        "      f=\"_\" if t.feats=={} else \"|\".join([k+\"=\"+v for k,v in t.feats.items()])\n",
        "      u+=\"\\t\".join([t.id if i<0 else t.id[i+1:],t.text,t.lemma,t.pos,t.pos+(\"\" if f==\"_\" else \"|\"+f),f,t.head_id if i<0 else t.head_id[i+1:],t.rel,\"_\",\"start_char=\"+str(t.start)+\"|end_char=\"+str(t.stop)])+\"\\n\"\n",
        "    u+=\"\\n\"\n",
        "  return u\n",
        "doc=nlp(\"Москва слезам не верила, а верила любви.\")\n",
        "import deplacy\n",
        "deplacy.render(doc)\n",
        "deplacy.serve(doc,port=None)\n",
        "# import graphviz\n",
        "# graphviz.Source(deplacy.dot(doc))"
      ]
    }
  ]
}
