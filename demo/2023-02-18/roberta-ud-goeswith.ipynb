{
  "nbformat":4,
  "nbformat_minor":0,
  "metadata":{
    "colab":{ "name":"アイヌ語UDエディター(RoBERTa ud-goeswith)" },
    "kernelspec":{ "name":"python3" }
  },
  "cells":[
    {
      "cell_type":"code",
      "metadata":{ "colab_type":"code" },
      "source":[
        "!pip install transformers\n",
        "from transformers import pipeline\n",
        "nlp=pipeline(\"universal-dependencies\",\"KoichiYasuoka/roberta-base-ainu-ud-goeswith\",trust_remote_code=True,aggregation_strategy=\"simple\")\n",
        "doc=nlp(\"ウアイヌコㇿ コタン アカㇻ セコㇿ オカヤン\")\n",
        "from IPython.display import IFrame,display\n",
        "from urllib.parse import quote\n",
        "url=\"https://koichiyasuoka.github.io/deplacy/demo/2023-02-18/editor-ainu.html\"\n",
        "display(IFrame(src=url+\"#\"+quote(str(doc)),width=\"100%\",height=400))"
      ]
    }
  ]
}
