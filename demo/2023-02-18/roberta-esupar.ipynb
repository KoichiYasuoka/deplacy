{
  "nbformat":4,
  "nbformat_minor":0,
  "metadata":{
    "colab":{ "name":"アイヌ語UDエディター(RoBERTa esupar)" },
    "kernelspec":{ "name":"python3" }
  },
  "cells":[
    {
      "cell_type":"code",
      "metadata":{ "colab_type":"code" },
      "source":[
        "!pip install esupar\n",
        "import esupar\n",
        "nlp=esupar.load(\"KoichiYasuoka/roberta-base-ainu-upos\",\"ainu\")\n",
        "doc=nlp(\"ウアイヌコㇿ コタン オッタ オカヤン\")\n",
        "from IPython.display import IFrame,display\n",
        "from urllib.parse import quote\n",
        "url=\"https://koichiyasuoka.github.io/deplacy/demo/2023-02-18/editor-ainu.html\"\n",
        "display(IFrame(src=url+\"#\"+quote(str(doc)),width=\"100%\",height=400))"
      ]
    }
  ]
}
