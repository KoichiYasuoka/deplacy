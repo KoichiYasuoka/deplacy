{
  "nbformat":4,
  "nbformat_minor":0,
  "metadata":{
    "colab":{ "name":"アイヌ語係り受けベンチマーク" },
    "kernelspec":{ "name":"python3" }
  },
  "cells":[
    {
      "cell_type":"code",
      "metadata":{ "colab_type":"code" },
      "source":[
        "!pip install esupar\n",
        "import os,deplacy\n",
        "url=\"https://github.com/KoichiYasuoka/deplacy/raw/master/demo/2023-02-18/benchmark.conllu\"\n",
        "f=os.path.basename(url)\n",
        "!test -f {f} || curl -LO {url}\n",
        "url=\"https://universaldependencies.org/conll18/conll18_ud_eval.py\"\n",
        "c=os.path.basename(url)\n",
        "!test -f {c} || curl -LO {url}\n",
        "for m in [\"roberta-base-ainu-upos\",\"roberta-base-ainu-ud-goeswith\",\"deberta-base-ainu-upos\",\"deberta-base-ainu-ud-goeswith\"]:\n",
        "  if m.endswith(\"-upos\"):\n",
        "    import esupar\n",
        "    nlp=esupar.load(\"KoichiYasuoka/\"+m,\"ainu\")\n",
        "  else:\n",
        "    from transformers import pipeline\n",
        "    nlp=pipeline(\"universal-dependencies\",\"KoichiYasuoka/\"+m,trust_remote_code=True,aggregation_strategy=\"simple\")\n",
        "  with open(f,\"r\",encoding=\"utf-8\") as r:\n",
        "    s=r.read().split(\"\\n\")\n",
        "  with open(m+\".conllu\",\"w\",encoding=\"utf-8\") as w:\n",
        "    for t in s:\n",
        "      if t.startswith(\"# text = \"):\n",
        "        w.write(deplacy.to_conllu(nlp(t[9:])))\n",
        "!sh -xc 'python {c} -v {f} roberta-base-ainu-upos.conllu'\n",
        "!sh -xc 'python {c} -v {f} roberta-base-ainu-ud-goeswith.conllu'\n",
        "!sh -xc 'python {c} -v {f} deberta-base-ainu-upos.conllu'\n",
        "!sh -xc 'python {c} -v {f} deberta-base-ainu-ud-goeswith.conllu'"
      ]
    }
  ]
}
