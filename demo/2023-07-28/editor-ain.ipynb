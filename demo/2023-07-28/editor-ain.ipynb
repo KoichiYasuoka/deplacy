{
  "nbformat":4,
  "nbformat_minor":0,
  "metadata":{
    "colab":{ "name":"アイヌ語UDエディター(DeBERTa goeswith/esupar)" },
    "kernelspec":{ "name":"python3" }
  },
  "cells":[
    {
      "cell_type":"code",
      "metadata":{ "colab_type":"code" },
      "source":[
        "!pip install transformers\n",
        "from transformers import pipeline\n",
        "nlp=pipeline(\"universal-dependencies\",\"KoichiYasuoka/deberta-base-ainu-ud-goeswith\",trust_remote_code=True,aggregation_strategy=\"simple\")\n",
        "doc=nlp(\"ウアイヌコㇿ コタン オッタ オカヤン\")\n",
        "print(\" \".join(t.split(\"\\t\")[2] for t in doc.split(\"\\n\") if len(t.split(\"\\t\"))==10))\n",
        "from IPython.display import IFrame,display\n",
        "from urllib.parse import quote\n",
        "url=\"https://koichiyasuoka.github.io/deplacy/demo/2023-07-28/editor-ain.html\"\n",
        "display(IFrame(src=url+\"#\"+quote(doc),width=\"100%\",height=800))"
      ]
    },
    {
      "cell_type":"code",
      "metadata":{ "colab_type":"code" },
      "source":[
        "!pip install esupar\n",
        "import esupar\n",
        "nlp=esupar.load(\"KoichiYasuoka/deberta-base-ainu-upos\",\"ainu\")\n",
        "doc=nlp(\"uaynukor kotan or ta okay=an\")\n",
        "print(\" \".join(doc.values[2]))\n",
        "from IPython.display import IFrame,display\n",
        "from urllib.parse import quote\n",
        "url=\"https://koichiyasuoka.github.io/deplacy/demo/2023-07-28/editor-ain.html\"\n",
        "display(IFrame(src=url+\"#\"+quote(str(doc)),width=\"100%\",height=800))"
      ]
    }
  ]
}
