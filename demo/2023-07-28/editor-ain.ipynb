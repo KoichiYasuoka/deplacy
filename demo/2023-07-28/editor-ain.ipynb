{
  "nbformat":4,
  "nbformat_minor":0,
  "metadata":{
    "colab":{ "name":"アイヌ語UDエディター(DeBERTa esupar)" },
    "kernelspec":{ "name":"python3" }
  },
  "cells":[
    {
      "cell_type":"code",
      "metadata":{ "colab_type":"code" },
      "source":[
        "!pip install esupar\n",
        "import esupar\n",
        "nlp=esupar.load(\"KoichiYasuoka/deberta-base-ainu-upos\",\"ainu\")\n",
        "doc=nlp(\"ウアイヌコㇿ コタン オッタ オカヤン\")\n",
        "print(\" \".join(t for t in doc.values[2] if t!=\"_\"))\n",
        "from IPython.display import IFrame,display\n",
        "from urllib.parse import quote\n",
        "url=\"https://koichiyasuoka.github.io/deplacy/demo/2023-07-28/editor-ain.html\"\n",
        "display(IFrame(src=url+\"#\"+quote(str(doc)),width=\"100%\",height=800))"
      ]
    }
  ]
}
