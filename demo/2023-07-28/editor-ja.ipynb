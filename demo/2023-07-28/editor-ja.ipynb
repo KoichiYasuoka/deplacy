{
  "nbformat":4,
  "nbformat_minor":0,
  "metadata":{
    "colab":{ "name":"近代日本語UDエディター(kindai SuPar-UniDic)" },
    "kernelspec":{ "name":"python3" }
  },
  "cells":[
    {
      "cell_type":"code",
      "metadata":{ "colab_type":"code" },
      "source":[
        "!pip install suparunidic\n",
        "import suparunidic\n",
        "nlp=suparunidic.load(\"kindai\")\n",
        "doc=nlp(\"生れ之き死に之て笑て而哭す\")\n",
        "from IPython.display import IFrame,display\n",
        "from urllib.parse import quote\n",
        "url=\"https://koichiyasuoka.github.io/deplacy/demo/2023-07-28/editor-ja.html\"\n",
        "display(IFrame(src=url+\"#\"+quote(str(doc)),width=\"100%\",height=800))"
      ]
    }
  ]
}
