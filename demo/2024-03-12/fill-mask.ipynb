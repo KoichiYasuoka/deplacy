{
  "nbformat":4,
  "nbformat_minor":0,
  "metadata":{
    "colab":{ "name":"AIによる言語生成と言語解析" },
    "kernelspec":{ "name":"python3" }
  },
  "cells":[
    {
      "cell_type":"markdown",
      "metadata":{ "colab_type":"text" },
      "source":[
        "[日本語DeBERTa](https://huggingface.co/KoichiYasuoka/deberta-base-japanese-unidic)による穴埋めゲーム"
      ]
    },
    {
      "cell_type":"code",
      "metadata":{ "colab_type":"code" },
      "source": [
        "!pip install transformers fugashi unidic-lite\n",
        "from transformers import pipeline\n",
        "fmp=pipeline(\"fill-mask\",\"KoichiYasuoka/deberta-base-japanese-unidic\")\n",
        "prd=fmp(\"今も[MASK]が見えるでしょうか\")\n",
        "print(\"\\n\".join(\"{:.3f} {}\".format(t[\"score\"],t[\"token_str\"]) for t in prd))"
      ],
      "outputs": [
        {
          "output_type": "stream",
          "name": "stdout",
          "text": [
            "0.076 星\n",
            "0.050 それ\n",
            "0.042 空\n",
            "0.036 海\n",
            "0.017 月\n"
          ]
        }
      ]
    }
  ]
}
