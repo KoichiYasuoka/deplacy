{
  "nbformat":4,
  "nbformat_minor":0,
  "metadata":{
    "colab":{ "name":"AIによる言語生成と言語解析" },
    "kernelspec":{ "name":"python3" }
  },
  "cells":[
    {
      "cell_type":"markdown",
      "metadata":{ "colab_type":"text" },
      "source":[
        "[日本語RoBERTa](https://huggingface.co/KoichiYasuoka/roberta-base-japanese-luw-upos)による品詞付与"
      ]
    },
    {
      "cell_type":"code",
      "metadata":{ "colab_type":"code" },
      "source": [
        "!pip install transformers\n",
        "from transformers import pipeline\n",
        "tag=pipeline(\"token-classification\",\"KoichiYasuoka/roberta-base-japanese-luw-upos\")\n",
        "nlp=lambda x:[(x[t[\"start\"]:t[\"end\"]],t[\"entity\"]) for t in tag(x)]\n",
        "print(nlp(\"今も海が見えるでしょうか\"))"
      ],
      "outputs": [
        {
          "output_type": "stream",
          "name": "stdout",
          "text": [
            "[('今', 'NOUN'), ('も', 'ADP'), ('海', 'NOUN'), ('が', 'ADP'), ('見える', 'VERB'), ('でしょう', 'AUX'), ('か', 'PART')]\n"
          ]
        }
      ]
    }
  ]
}
