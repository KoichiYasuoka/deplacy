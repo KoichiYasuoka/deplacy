{
  "nbformat":4,
  "nbformat_minor":0,
  "metadata":{
    "colab":{ "name":"AIによる言語生成と言語解析" },
    "kernelspec":{ "name":"python3" }
  },
  "cells":[
    {
      "cell_type":"markdown",
      "metadata":{ "colab_type":"text" },
      "source":[
        "[ウクライナ語RoBERTa](https://huggingface.co/KoichiYasuoka/roberta-base-ukrainian-upos)による品詞付与・係り受け解析"
      ]
    },
    {
      "cell_type":"code",
      "metadata":{ "colab_type":"code" },
      "source": [
        "!pip install esupar deplacy\n",
        "import esupar\n",
        "nlp=esupar.load(\"KoichiYasuoka/roberta-base-ukrainian-upos\")\n",
        "doc=nlp(\"Тепер море ще може бути видно\")\n",
        "import deplacy\n",
        "deplacy.serve(doc,port=None)"
      ],
      "outputs": [
        {
          "output_type": "display_data",
          "data": {
            "text/html": [
              "<iframe width=\"100%\" height=\"400\"\n",
              "src=\"https://koichiyasuoka.github.io/deplacy/deplacy/editor.html#1%09%D0%A2%D0%B5%D0%BF%D0%B5%D1%80%09_%09ADV%09_%09_%094%09advmod%09_%09_%0A2%09%D0%BC%D0%BE%D1%80%D0%B5%09_%09NOUN%09_%09_%094%09nsubj%09_%09_%0A3%09%D1%89%D0%B5%09_%09ADV%09_%09_%094%09advmod%09_%09_%0A4%09%D0%BC%D0%BE%D0%B6%D0%B5%09_%09VERB%09_%09_%090%09root%09_%09_%0A5%09%D0%B1%D1%83%D1%82%D0%B8%09_%09AUX%09_%09_%096%09cop%09_%09_%0A6%09%D0%B2%D0%B8%D0%B4%D0%BD%D0%BE%09_%09ADV%09_%09_%094%09xcomp%09_%09SpaceAfter%3DNo%0A%0A\"\n",
              "frameborder=\"0\" allowfullscreen></iframe>\n"
            ]
          }
        }
      ]
    }
  ]
}
