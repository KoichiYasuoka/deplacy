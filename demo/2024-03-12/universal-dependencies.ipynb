{
  "nbformat":4,
  "nbformat_minor":0,
  "metadata":{
    "colab":{ "name":"AIによる言語生成と言語解析" },
    "kernelspec":{ "name":"python3" }
  },
  "cells":[
    {
      "cell_type":"markdown",
      "metadata":{ "colab_type":"text" },
      "source":[
        "[日本語RoBERTa](https://huggingface.co/KoichiYasuoka/roberta-base-japanese-juman-ud-goeswith)による係り受け解析"
      ]
    },
    {
      "cell_type":"code",
      "metadata":{ "colab_type":"code" },
      "source": [
        "!pip install transformers fugashi\n",
        "import torch,numpy\n",
        "from transformers import AutoTokenizer,AutoModelForTokenClassification\n",
        "brt=\"KoichiYasuoka/roberta-base-japanese-juman-ud-goeswith\"\n",
        "txt=\"今も海が見えるでしょうか\"\n",
        "tkz=AutoTokenizer.from_pretrained(brt,trust_remote_code=True)\n",
        "mdl=AutoModelForTokenClassification.from_pretrained(brt)\n",
        "v,l=tkz(txt,return_offsets_mapping=True),mdl.config.id2label\n",
        "w=[t for t,(s,e) in zip(v[\"input_ids\"],v[\"offset_mapping\"]) if s<e]\n",
        "u=[txt[s:e] for s,e in v[\"offset_mapping\"] if s<e]\n",
        "cls,msk,sep=tkz.cls_token_id,tkz.mask_token_id,tkz.sep_token_id\n",
        "x=[[cls]+w[:i]+[msk]+w[i+1:]+[sep,j] for i,j in enumerate(w)]\n",
        "with torch.no_grad():\n",
        "  m=mdl(input_ids=torch.tensor(x)).logits.numpy()[:,1:-2,:]\n",
        "r=[1 if i==0 else -1 if l[i].endswith(\"|root\") else 0 for i in range(len(l))]\n",
        "m+=numpy.where(numpy.add.outer(numpy.identity(m.shape[0]),r)==0,0,numpy.nan)\n",
        "g=mdl.config.label2id[\"X|_|goeswith\"]\n",
        "r=numpy.tri(m.shape[0])\n",
        "for i in range(r.shape[0]):\n",
        "  for j in range(i+2,r.shape[1]):\n",
        "    r[i,j]=r[i,j-1] if numpy.nanargmax(m[i,j-1])==g else 1\n",
        "m[:,:,g]+=numpy.where(r==0,0,numpy.nan)\n",
        "d,p=numpy.nanmax(m,axis=2),numpy.nanargmax(m,axis=2)\n",
        "print(\" \".join(\" \"*(9-len(x)*2)+x for x in u))\n",
        "for i,j in enumerate(u):\n",
        "  print(\"\\n\"+\" \".join(\"{:9.3f}\".format(x) for x in d[i]),\" \",j)\n",
        "  print(\" \".join(l[x].split(\"|\")[0][:9].rjust(9) for x in p[i]))\n",
        "  print(\" \".join(l[x].split(\"|\")[-1][:9].rjust(9) for x in p[i]))"
      ],
      "outputs": [
        {
          "output_type": "stream",
          "name": "stdout",
          "text": [
            "       今        も        海        が    見える  でしょう        か\n",
            "\n",
            "    0.898    14.462     0.989     0.713     0.920     0.759     0.824   今\n",
            "     NOUN       ADP      NOUN      NOUN      NOUN      NOUN      NOUN\n",
            "     root      case       obl       obl      nmod      nmod      nmod\n",
            "\n",
            "    1.593    -0.015     1.170     0.793     1.264     0.833     0.862   も\n",
            "     NOUN      VERB      NOUN      NOUN      VERB      NOUN      NOUN\n",
            "      obl      root       obl       obl     advcl       obl       obl\n",
            "\n",
            "    4.420     1.380     1.691    14.668     1.245     0.910     1.085   海\n",
            "     NOUN       ADP      NOUN       ADP      VERB       AUX     PUNCT\n",
            "      obl      case      root      case       acl       aux     punct\n",
            "\n",
            "    1.435     0.720     1.436    -0.348     1.503     0.726     0.772   が\n",
            "     NOUN      NOUN      NOUN      VERB      VERB      NOUN      NOUN\n",
            "      obl       obl       obl      root     advcl       obl       obl\n",
            "\n",
            "    9.154     4.225    12.387     1.997    12.444    12.497    12.375   見える\n",
            "     NOUN       ADP      NOUN      VERB      VERB       AUX      PART\n",
            "      obl      case     nsubj     advcl      root       aux      mark\n",
            "\n",
            "    1.032     0.595     0.824     0.679     1.763     0.220     0.721   でしょう\n",
            "     NOUN      NOUN      NOUN      NOUN      VERB      VERB         X\n",
            "      obl       obl       obl       obl     advcl      root  goeswith\n",
            "\n",
            "    1.233     0.596     0.906     0.774     1.853     0.700    -0.034   か\n",
            "     NOUN      NOUN      NOUN      NOUN      VERB      NOUN      VERB\n",
            "      obl       obl     nsubj       obl     advcl       obl      root\n"
          ]
        }
      ]
    },
    {
      "cell_type":"code",
      "metadata":{ "colab_type":"code" },
      "source": [
        "!pip install transformers fugashi deplacy\n",
        "from transformers import pipeline\n",
        "brt=\"KoichiYasuoka/roberta-base-japanese-juman-ud-goeswith\"\n",
        "nlp=pipeline(\"universal-dependencies\",brt,trust_remote_code=True,aggregation_strategy=\"simple\")\n",
        "doc=nlp(\"今も海が見えるでしょうか\")\n",
        "import deplacy\n",
        "deplacy.serve(doc,port=None)"
      ],
      "outputs": [
        {
          "output_type": "display_data",
          "data": {
            "text/html": [
              "<iframe width=\"100%\" height=\"400\"\n",
              "src=\"https://koichiyasuoka.github.io/deplacy/deplacy/editor.html#%23%20text%20%3D%20%E4%BB%8A%E3%82%82%E6%B5%B7%E3%81%8C%E8%A6%8B%E3%81%88%E3%82%8B%E3%81%A7%E3%81%97%E3%82%87%E3%81%86%E3%81%8B%0A1%09%E4%BB%8A%09_%09NOUN%09_%09_%095%09obl%09_%09SpaceAfter%3DNo%0A2%09%E3%82%82%09_%09ADP%09_%09_%091%09case%09_%09SpaceAfter%3DNo%0A3%09%E6%B5%B7%09_%09NOUN%09_%09_%095%09nsubj%09_%09SpaceAfter%3DNo%0A4%09%E3%81%8C%09_%09ADP%09_%09_%093%09case%09_%09SpaceAfter%3DNo%0A5%09%E8%A6%8B%E3%81%88%E3%82%8B%09_%09VERB%09_%09_%090%09root%09_%09SpaceAfter%3DNo%0A6%09%E3%81%A7%E3%81%97%E3%82%87%E3%81%86%09_%09AUX%09_%09_%095%09aux%09_%09SpaceAfter%3DNo%0A7%09%E3%81%8B%09_%09PART%09_%09_%095%09mark%09_%09SpaceAfter%3DNo%0A%0A\"\n",
              "frameborder=\"0\" allowfullscreen></iframe>\n"
            ]
          }
        }
      ]
    }
  ]
}
