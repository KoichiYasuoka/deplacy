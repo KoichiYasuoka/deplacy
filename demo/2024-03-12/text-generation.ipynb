{
  "nbformat":4,
  "nbformat_minor":0,
  "metadata":{
    "colab":{ "name":"AIによる言語生成と言語解析" },
    "kernelspec":{ "name":"python3" }
  },
  "cells":[
    {
      "cell_type":"markdown",
      "metadata":{ "colab_type":"text" },
      "source":[
        "[日本語LLaMA](https://huggingface.co/tokyotech-llm/Swallow-7b-instruct-hf)による言語生成"
      ]
    },
    {
      "cell_type":"code",
      "metadata":{ "colab_type":"code" },
      "source": [
        "!pip install transformers accelerate sentencepiece\n",
        "from transformers import AutoModelForCausalLM,AutoTokenizer,TextGenerationPipeline\n",
        "mdl=AutoModelForCausalLM.from_pretrained(\"tokyotech-llm/Swallow-7b-instruct-hf\",torch_dtype=\"auto\",device_map=\"auto\")\n",
        "tkz=AutoTokenizer.from_pretrained(\"tokyotech-llm/Swallow-7b-instruct-hf\")\n",
        "tgn=TextGenerationPipeline(model=mdl,tokenizer=tkz,max_new_tokens=128)\n",
        "nlp=lambda txt:tgn(\"\"\"以下に、あるタスクを説明する指示があります。リクエストを適切に完了するための回答を記述してください。\n",
        "### 指示:{}\\n### 応答:\"\"\".format(txt),do_sample=True)[0][\"generated_text\"]\n",
        "print(nlp(\"今も海が見えるでしょうか\"))"
      ],
      "outputs": [
        {
          "output_type": "stream",
          "name": "stdout",
          "text": [
            "以下に、あるタスクを説明する指示があります。リクエストを適切に完了するための回答を記述してください。\n",
            "### 指示:今も海が見えるでしょうか\n",
            "### 応答:1986年のチェルノブイリの原発事故以来、海は放射性物質で汚染されているので、今は海は見えないでしょう。\n"
          ]
        }
      ]
    }
  ]
}
