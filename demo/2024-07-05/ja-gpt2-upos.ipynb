{
  "nbformat":4,
  "nbformat_minor":0,
  "metadata":{
    "colab":{ "name":"単文字日本語GPT2の系列ラベリングによるUPOS品詞付与" },
    "kernelspec":{ "name":"python3" }
  },
  "cells":[
    {
      "cell_type":"markdown",
      "metadata":{ "colab_type":"text" },
      "source":[
        "gpt2-small-japanese-charによる系列ラベリング"
      ]
    },
    {
      "cell_type":"code",
      "metadata":{ "colab_type":"code" },
      "source": [
        "!pip install transformers deplacy\n",
        "from transformers import pipeline\n",
        "nlp=pipeline(\"token-classification\",\"KoichiYasuoka/gpt2-small-japanese-upos\")\n",
        "txt=\"どこの村でも当然だった。\"\n",
        "doc=\"\\n\".join(\"\\t\".join([str(i+1),txt[t[\"start\"]:t[\"end\"]],\"_\",t[\"entity\"].split(\"|\")[0]]+[\"_\"]*5+[\"SpaceAfter=No\"]) for i,t in enumerate(nlp(txt)))+\"\\n\\n\"\n",
        "import deplacy\n",
        "deplacy.serve(doc,port=None)"
      ]
    },
    {
      "cell_type":"markdown",
      "metadata":{ "colab_type":"text" },
      "source":[
        "出力部に逆方向のBellman-Fordを追加"
      ]
    },
    {
      "cell_type":"code",
      "metadata":{ "colab_type":"code" },
      "source": [
        "nlp=pipeline(\"upos\",\"KoichiYasuoka/gpt2-small-japanese-upos\",trust_remote_code=True)\n",
        "txt=\"どこの村でも当然だった。\"\n",
        "doc=\"\\n\".join(\"\\t\".join([str(i+1),txt[t[\"start\"]:t[\"end\"]],\"_\",t[\"entity\"].split(\"|\")[0]]+[\"_\"]*5+[\"SpaceAfter=No\"]) for i,t in enumerate(nlp(txt)))+\"\\n\\n\"\n",
        "import deplacy\n",
        "deplacy.serve(doc,port=None)"
      ]
    },
    {
      "cell_type":"markdown",
      "metadata":{ "colab_type":"text" },
      "source":[
        "Biaffineで係り受け解析"
      ]
    },
    {
      "cell_type":"code",
      "metadata":{ "colab_type":"code" },
      "source": [
        "!pip install esupar\n",
        "import esupar\n",
        "nlp=esupar.load(\"KoichiYasuoka/gpt2-small-japanese-upos\")\n",
        "txt=\"どこの村でも当然だった。\"\n",
        "doc=nlp(txt)\n",
        "import deplacy\n",
        "deplacy.serve(doc,port=None)"
      ]
    }
  ]
}
