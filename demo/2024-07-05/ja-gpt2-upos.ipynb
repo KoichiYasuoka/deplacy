{
  "nbformat":4,
  "nbformat_minor":0,
  "metadata":{
    "colab":{ "name":"単文字日本語GPT2の系列ラベリングによるUPOS品詞付与" },
    "kernelspec":{ "name":"python3" }
  },
  "cells":[
    {
      "cell_type":"markdown",
      "metadata":{ "colab_type":"text" },
      "source":[
        "gpt2-small-japanese-charによる系列ラベリング"
      ]
    },
    {
      "cell_type":"code",
      "metadata":{ "colab_type":"code" },
      "source": [
        "!pip install transformers\n",
        "from transformers import pipeline\n",
        "nlp=pipeline(\"token-classification\",\"KoichiYasuoka/gpt2-small-japanese-upos\")\n",
        "txt=\"国境の長いトンネルを抜けると雪国であった。\"\n",
        "doc=nlp(txt)\n",
        "for t in doc:\n",
        "  print(txt[t[\"start\"]:t[\"end\"]],t[\"entity\"])"
      ]
    },
    {
      "cell_type":"markdown",
      "metadata":{ "colab_type":"text" },
      "source":[
        "出力部に逆方向のBellman-Fordを追加"
      ]
    },
    {
      "cell_type":"code",
      "metadata":{ "colab_type":"code" },
      "source": [
        "nlp=pipeline(\"upos\",\"KoichiYasuoka/gpt2-small-japanese-upos\",trust_remote_code=True)\n",
        "txt=\"国境の長いトンネルを抜けると雪国であった。\"\n",
        "doc=nlp(txt)\n",
        "for t in doc:\n",
        "  print(txt[t[\"start\"]:t[\"end\"]],t[\"entity\"])"
      ]
    },
    {
      "cell_type":"markdown",
      "metadata":{ "colab_type":"text" },
      "source":[
        "Biaffineで係り受け解析"
      ]
    },
    {
      "cell_type":"code",
      "metadata":{ "colab_type":"code" },
      "source": [
        "!pip install esupar\n",
        "import esupar\n",
        "nlp=esupar.load(\"KoichiYasuoka/gpt2-small-japanese-upos\")\n",
        "txt=\"国境の長いトンネルを抜けると雪国であった。\"\n",
        "doc=nlp(txt)\n",
        "import deplacy\n",
        "deplacy.serve(doc,port=None)"
      ]
    }
  ]
}
