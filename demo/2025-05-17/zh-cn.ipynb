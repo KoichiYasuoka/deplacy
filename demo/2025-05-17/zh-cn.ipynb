{
  "nbformat":4,
  "nbformat_minor":0,
  "metadata":{
    "colab":{ "name":"ウポポイ園内マップによる12種のUniversal Dependencies" },
    "kernelspec":{ "name":"python3" }
  },
  "cells":[
    {
      "cell_type":"code",
      "metadata":{ "colab_type":"code" },
      "source":[
        "!pip install esupar\n",
        "import esupar\n",
        "nlp=esupar.load(\"KoichiYasuoka/chinese-bert-wwm-ext-upos\")\n",
        "doc=\"\"\n",
        "for t in [\"体验学习馆\",\"体验交流大厅\",\"国立阿伊努民族博物馆\",\"工房\",\"传统的kotan(村落)\",\"慰灵设施\",\"草坪广场\",\"展望广场\",\"曲径通幽处\",\"欢迎广场\",\"入口栋\",\"cikisani 广场\",\"管理运营设施\",\"植物标本园\",\"Poroto湖\",\"民族共生象征空间\"]:\n",
        "  doc+=f\"# text = {t}\\n{str(nlp(t))}\\n\"\n",
        "from IPython.display import IFrame,display\n",
        "from urllib.parse import quote\n",
        "url=\"https://koichiyasuoka.github.io/deplacy/demo/2025-05-17/editor.html\"\n",
        "display(IFrame(src=url+\"#\"+quote(doc),width=\"100%\",height=800))"
      ]
    }
  ]
}
