{
  "nbformat":4,
  "nbformat_minor":0,
  "metadata":{
    "colab":{ "name":"ウポポイ園内マップによる12種のUniversal Dependencies" },
    "kernelspec":{ "name":"python3" }
  },
  "cells":[
    {
      "cell_type":"code",
      "metadata":{ "colab_type":"code" },
      "source":[
        "!pip install esupar\n",
        "import esupar\n",
        "nlp=esupar.load(\"KoichiYasuoka/deberta-base-ainu-upos\")\n",
        "doc=\"\"\n",
        "for t in [\"yayhanokkar cise\",\"uekari cise\",\"an=ukokor aynu ikor oma kenru\",\"ikar usi\",\"teeta kane an kotan\",\"sinnurappa usi\",\"simimtar\",\"inkar mintar\",\"kankan\",\"uwerankarap mintar\",\"hoski an cise\",\"cikisani mintar\",\"kotan sermak\",\"cinumke sikauspe nukar usi\",\"poroto\",\"uaynukor kotan\"]:\n",
        "  doc+=f\"# text = {t}\\n{str(nlp(t))}\\n\"\n",
        "from IPython.display import IFrame,display\n",
        "from urllib.parse import quote\n",
        "url=\"https://koichiyasuoka.github.io/UD-Ainu/editor/editor-ain.html\"\n",
        "display(IFrame(src=url+\"#\"+quote(doc),width=\"100%\",height=800))"
      ]
    }
  ]
}
