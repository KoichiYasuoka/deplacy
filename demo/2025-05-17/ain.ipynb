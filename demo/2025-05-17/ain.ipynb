{
  "nbformat":4,
  "nbformat_minor":0,
  "metadata":{
    "colab":{ "name":"ウポポイ園内マップによる12種のUniversal Dependencies" },
    "kernelspec":{ "name":"python3" }
  },
  "cells":[
    {
      "cell_type":"code",
      "metadata":{ "colab_type":"code" },
      "source":[
        "!pip install esupar\n",
        "import esupar\n",
        "nlp=esupar.load(\"KoichiYasuoka/deberta-base-ainu-upos\",\"ainu\")\n",
        "doc=\"\"\n",
        "for t in [\"yayhanokkar cise\",\"uekari cise\",\n",
        "  \"an=ukokor aynu ikor oma kenru\",\n",
        "  \"ikar usi\",\"teeta kane an kotan\",\n",
        "  \"sinnurappa usi\",\"simimtar\",\n",
        "  \"inkar mintar\",\"kankan\",\n",
        "  \"uwerankarap mintar\",\"hoski an cise\",\n",
        "  \"cikisani mintar\",\"kotan sermak\",\n",
        "  \"cinumke sikauspe nukar usi\",\"poroto\",\n",
        "  \"uaynukor kotan\"]:\n",
        "  doc+=f\"# text = {t}\\n{str(nlp(t))}\\n\"\n",
        "from IPython.display import IFrame,display\n",
        "from urllib.parse import quote\n",
        "url=\"https://koichiyasuoka.github.io/UD-Ainu/editor/editor-ain.html\"\n",
        "cnl=\"# text = \"+\" \".join(t for t in doc.values[2] if t!=\"_\")+\"\\n\"+str(doc)\n",
        "display(IFrame(src=url+\"#\"+quote(cnl),width=\"100%\",height=800))"
      ]
    }
  ]
}
