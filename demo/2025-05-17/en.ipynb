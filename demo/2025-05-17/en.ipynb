{
  "nbformat":4,
  "nbformat_minor":0,
  "metadata":{
    "colab":{ "name":"ウポポイ園内マップによる12種のUniversal Dependencies" },
    "kernelspec":{ "name":"python3" }
  },
  "cells":[
    {
      "cell_type":"code",
      "metadata":{ "colab_type":"code" },
      "source":[
        "!pip install esupar\n",
        "import esupar\n",
        "nlp=esupar.load(\"KoichiYasuoka/roberta-base-english-upos\")\n",
        "doc=\"\"\n",
        "for t in [\"Workshop\",\"Cultural Exchange Hall\",\"National Ainu Museum\",\"Crafts Studio\",\"Kotan (Tranditional Ainu Village)\",\"Memorial Site\",\"Lawn Square\",\"Lakeview Plaza\",\"Path to Ainu Spirit\",\"Gateway Square\",\"Entrance Center\",\"Cikisani Square\",\"Administration Office\",\"Specimen Garden\",\"Lake Poroto\",\"National Ainu Museum and Park\"]:\n",
        "  doc+=f\"# text = {t}\\n{str(nlp(t))}\\n\"\n",
        "from IPython.display import IFrame,display\n",
        "from urllib.parse import quote\n",
        "url=\"https://koichiyasuoka.github.io/deplacy/demo/2025-05-17/editor.html\"\n",
        "display(IFrame(src=url+\"#\"+quote(doc),width=\"100%\",height=800))"
      ]
    }
  ]
}
