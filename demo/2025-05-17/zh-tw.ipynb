{
  "nbformat":4,
  "nbformat_minor":0,
  "metadata":{
    "colab":{ "name":"ウポポイ園内マップによる12種のUniversal Dependencies" },
    "kernelspec":{ "name":"python3" }
  },
  "cells":[
    {
      "cell_type":"code",
      "metadata":{ "colab_type":"code" },
      "source":[
        "!pip install esupar\n",
        "import esupar\n",
        "nlp=esupar.load(\"KoichiYasuoka/chinese-bert-wwm-ext-upos\")\n",
        "doc=\"\"\n",
        "for t in [\"體驗學習館\",\"體驗交流大廳\",\"國立愛努民族博物館\",\"工房\",\"傳統的kotan(村落)\",\"慰靈設施\",\"草皮廣場\",\"展望廣場\",\"曲徑通幽處\",\"歡迎廣場\",\"入口棟\",\"cikisani 廣場\",\"管理營運設施\",\"植物標本園\",\"Poroto湖\",\"民族共生象徵空間\"]:\n",
        "  doc+=f\"# text = {t}\\n{str(nlp(t))}\\n\"\n",
        "from IPython.display import IFrame,display\n",
        "from urllib.parse import quote\n",
        "url=\"https://koichiyasuoka.github.io/deplacy/demo/2025-05-17/editor.html\"\n",
        "display(IFrame(src=url+\"#\"+quote(doc),width=\"100%\",height=800))"
      ]
    }
  ]
}
