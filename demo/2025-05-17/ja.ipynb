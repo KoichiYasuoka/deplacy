{
  "nbformat":4,
  "nbformat_minor":0,
  "metadata":{
    "colab":{ "name":"ウポポイ園内マップによる12種のUniversal Dependencies" },
    "kernelspec":{ "name":"python3" }
  },
  "cells":[
    {
      "cell_type":"code",
      "metadata":{ "colab_type":"code" },
      "source":[
        "!pip install esupar\n",
        "import esupar\n",
        "nlp=esupar.load(\"KoichiYasuoka/bert-base-japanese-upos\")\n",
        "doc=\"\"\n",
        "for t in [\"体験学習館\",\"体験交流ホール\",\"国立アイヌ民族博物館\",\"工房\",\"伝統的コタン\",\"慰霊施設\",\"芝生広場\",\"展望広場\",\"いざないの回廊\",\"歓迎の広場\",\"エントランス棟\",\"チキサニ広場\",\"管理運営施設\",\"草木の見本園\",\"ポロト湖\",\"民族共生象徴空間\",]:\n",
        "  doc+=f\"# text = {t}\\n{str(nlp(t))}\\n\"\n",
        "from IPython.display import IFrame,display\n",
        "from urllib.parse import quote\n",
        "url=\"https://koichiyasuoka.github.io/deplacy/demo/2025-05-17/editor.html\"\n",
        "display(IFrame(src=url+\"#\"+quote(doc),width=\"100%\",height=800))"
      ]
    }
  ]
}
