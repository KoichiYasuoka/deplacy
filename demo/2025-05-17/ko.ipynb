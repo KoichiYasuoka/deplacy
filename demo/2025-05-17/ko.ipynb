{
  "nbformat":4,
  "nbformat_minor":0,
  "metadata":{
    "colab":{ "name":"ウポポイ園内マップによる12種のUniversal Dependencies" },
    "kernelspec":{ "name":"python3" }
  },
  "cells":[
    {
      "cell_type":"code",
      "metadata":{ "colab_type":"code" },
      "source":[
        "!pip install esupar\n",
        "import esupar\n",
        "nlp=esupar.load(\"KoichiYasuoka/roberta-base-korean-upos\")\n",
        "doc=\"\"\n",
        "for t in [\"체험 학습관\",\"체험 교류 홀\",\"국립아이누민족박물관\",\"공방\",\"전통 코탄(마을)\",\"위령 시설\",\"잔디광장\",\"전망광장\",\"초대의 회랑\",\"환영 광장\",\"엔트런스동\",\"치키사니광장\",\"관리운영시설\",\"견본 정원\",\"포로토호\",\"민족공생상징공간\"]:\n",
        "  doc+=f\"# text = {t}\\n{str(nlp(t))}\\n\"\n",
        "from IPython.display import IFrame,display\n",
        "from urllib.parse import quote\n",
        "url=\"https://koichiyasuoka.github.io/deplacy/demo/2025-05-17/editor.html\"\n",
        "display(IFrame(src=url+\"#\"+quote(doc),width=\"100%\",height=800))"
      ]
    }
  ]
}
