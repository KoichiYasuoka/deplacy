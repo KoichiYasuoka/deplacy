{
  "nbformat":4,
  "nbformat_minor":0,
  "metadata":{
    "colab":{ "name":"AIによる言語生成と言語解析" },
    "kernelspec":{ "name":"python3" }
  },
  "cells":[
    {
      "cell_type":"markdown",
      "metadata":{ "colab_type":"text" },
      "source":[
        "[古典中国語(漢文)RoBERTa](https://huggingface.co/KoichiYasuoka/roberta-classical-chinese-base-ud-goeswith)による品詞付与・係り受け解析"
      ]
    },
    {
      "cell_type":"code",
      "metadata":{ "colab_type":"code" },
      "source": [
        "!pip install transformers deplacy\n",
        "from transformers import pipeline\n",
        "brt=\"KoichiYasuoka/roberta-classical-chinese-base-ud-goeswith\"\n",
        "nlp=pipeline(\"universal-dependencies\",brt,trust_remote_code=True,aggregation_strategy=\"simple\")\n",
        "doc=nlp(\"今海可睹矣\")\n",
        "import deplacy\n",
        "deplacy.serve(doc,port=None)"
      ],
      "outputs": [
        {
          "output_type": "display_data",
          "data": {
            "text/html": [
              "<iframe width=\"100%\" height=\"400\"\n",
              "src=\"https://koichiyasuoka.github.io/deplacy/deplacy/editor.html#%23%20text%20%3D%20%E4%BB%8A%E6%B5%B7%E5%8F%AF%E7%9D%B9%E7%9F%A3%0A1%09%E4%BB%8A%09%E4%BB%8A%09NOUN%09_%09Case%3DTem%094%09obl%3Atmod%09_%09SpaceAfter%3DNo%0A2%09%E6%B5%B7%09%E6%B5%B7%09NOUN%09_%09Case%3DLoc%094%09nsubj%09_%09SpaceAfter%3DNo%0A3%09%E5%8F%AF%09%E5%8F%AF%09AUX%09_%09Mood%3DPot%094%09aux%09_%09SpaceAfter%3DNo%0A4%09%E7%9D%B9%09%E7%9D%B9%09VERB%09_%09_%090%09root%09_%09SpaceAfter%3DNo%0A5%09%E7%9F%A3%09%E7%9F%A3%09PART%09_%09_%094%09discourse%3Asp%09_%09SpaceAfter%3DNo%0A%0A\"\n",
              "frameborder=\"0\" allowfullscreen></iframe>\n"
            ]
          }
        }
      ]
    }
  ]
}
