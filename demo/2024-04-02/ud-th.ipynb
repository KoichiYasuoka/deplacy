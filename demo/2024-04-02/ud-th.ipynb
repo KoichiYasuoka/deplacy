{
  "nbformat":4,
  "nbformat_minor":0,
  "metadata":{
    "colab":{ "name":"AIによる言語生成と言語解析" },
    "kernelspec":{ "name":"python3" }
  },
  "cells":[
    {
      "cell_type":"markdown",
      "metadata":{ "colab_type":"text" },
      "source":[
        "[タイ語RoBERTa](https://huggingface.co/KoichiYasuoka/roberta-base-thai-spm-upos)による品詞付与・係り受け解析"
      ]
    },
    {
      "cell_type":"code",
      "metadata":{ "colab_type":"code" },
      "source": [
        "!pip install esupar deplacy\n",
        "import esupar\n",
        "nlp=esupar.load(\"KoichiYasuoka/roberta-base-thai-spm-upos\")\n",
        "doc=nlp(\"ยังเห็นทะเลอยู่ไหม\")\n",
        "import deplacy\n",
        "deplacy.serve(doc,port=None)"
      ],
      "outputs": [
        {
          "output_type": "display_data",
          "data": {
            "text/html": [
              "<iframe width=\"100%\" height=\"400\"\n",
              "src=\"https://koichiyasuoka.github.io/deplacy/deplacy/editor.html#1%09%E0%B8%A2%E0%B8%B1%E0%B8%87%09_%09ADV%09_%09_%092%09advmod%09_%09SpaceAfter%3DNo%0A2%09%E0%B9%80%E0%B8%AB%E0%B9%87%E0%B8%99%09_%09VERB%09_%09_%090%09root%09_%09SpaceAfter%3DNo%0A3%09%E0%B8%97%E0%B8%B0%E0%B9%80%E0%B8%A5%09_%09NOUN%09_%09_%092%09obj%09_%09SpaceAfter%3DNo%0A4%09%E0%B8%AD%E0%B8%A2%E0%B8%B9%E0%B9%88%09_%09AUX%09_%09_%092%09aux%09_%09SpaceAfter%3DNo%0A5%09%E0%B9%84%E0%B8%AB%E0%B8%A1%09_%09PART%09_%09_%092%09discourse%09_%09SpaceAfter%3DNo%0A%0A\"\n",
              "frameborder=\"0\" allowfullscreen></iframe>\n"
            ]
          }
        }
      ]
    }
  ]
}
