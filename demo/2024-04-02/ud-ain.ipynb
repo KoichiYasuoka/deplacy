{
  "nbformat":4,
  "nbformat_minor":0,
  "metadata":{
    "colab":{ "name":"AIによる言語生成と言語解析" },
    "kernelspec":{ "name":"python3" }
  },
  "cells":[
    {
      "cell_type":"markdown",
      "metadata":{ "colab_type":"text" },
      "source":[
        "[アイヌ語DeBERTa](https://huggingface.co/KoichiYasuoka/deberta-base-ainu-ud-goeswith)による品詞付与・係り受け解析"
      ]
    },
    {
      "cell_type":"code",
      "metadata":{ "colab_type":"code" },
      "source": [
        "!pip install transformers deplacy\n",
        "from transformers import pipeline\n",
        "brt=\"KoichiYasuoka/deberta-base-ainu-ud-goeswith\"\n",
        "nlp=pipeline(\"universal-dependencies\",brt,trust_remote_code=True,aggregation_strategy=\"simple\")\n",
        "doc=nlp(\"タネ カ アトゥイ アヌカㇻ ルウェ ヘ アン\")\n",
        "import deplacy\n",
        "deplacy.serve(doc,port=None)"
      ],
      "outputs": [
        {
          "output_type": "display_data",
          "data": {
            "text/html": [
              "<iframe width=\"100%\" height=\"400\"\n",
              "src=\"https://koichiyasuoka.github.io/deplacy/deplacy/editor.html#%23%20text%20%3D%20%E3%82%BF%E3%83%8D%20%E3%82%AB%20%E3%82%A2%E3%83%88%E3%82%A5%E3%82%A4%20%E3%82%A2%E3%83%8C%E3%82%AB%E3%87%BB%20%E3%83%AB%E3%82%A6%E3%82%A7%20%E3%83%98%20%E3%82%A2%E3%83%B3%0A1%09%E3%82%BF%E3%83%8D%09tane%09ADV%09%E5%89%AF%E8%A9%9E%09_%095%09advmod%09_%09_%0A2%09%E3%82%AB%09ka%09ADP%09%E5%89%AF%E5%8A%A9%E8%A9%9E%09_%091%09case%09_%09_%0A3%09%E3%82%A2%E3%83%88%E3%82%A5%E3%82%A4%09atuy%09NOUN%09%E5%90%8D%E8%A9%9E%09_%095%09obj%09_%09_%0A4%09%E3%82%A2%09a%3D%09PART%09%E4%BA%BA%E7%A7%B0%E6%8E%A5%E8%BE%9E%09_%095%09nsubj%09_%09SpaceAfter%3DNo%0A5%09%E3%83%8C%E3%82%AB%E3%87%BB%09nukar%09VERB%09%E4%BB%96%E5%8B%95%E8%A9%9E%09_%096%09acl%09_%09_%0A6%09%E3%83%AB%E3%82%A6%E3%82%A7%09ruwe%09NOUN%09%E5%BD%A2%E5%BC%8F%E5%90%8D%E8%A9%9E%09_%098%09nsubj%09_%09_%0A7%09%E3%83%98%09he%09ADP%09%E5%89%AF%E5%8A%A9%E8%A9%9E%09_%096%09case%09_%09_%0A8%09%E3%82%A2%E3%83%B3%09an%09VERB%09%E8%87%AA%E5%8B%95%E8%A9%9E%09_%090%09root%09_%09SpaceAfter%3DNo%0A%0A\"\n",
              "frameborder=\"0\" allowfullscreen></iframe>\n"
            ]
          }
        }
      ]
    }
  ]
}
