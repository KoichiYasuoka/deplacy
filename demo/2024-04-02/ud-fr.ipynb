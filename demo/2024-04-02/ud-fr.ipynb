{
  "nbformat":4,
  "nbformat_minor":0,
  "metadata":{
    "colab":{ "name":"AIによる言語生成と言語解析" },
    "kernelspec":{ "name":"python3" }
  },
  "cells":[
    {
      "cell_type":"markdown",
      "metadata":{ "colab_type":"text" },
      "source":[
        "[フランス語CamemBERT](https://huggingface.co/spacy/fr_dep_news_trf)による品詞付与・係り受け解析"
      ]
    },
    {
      "cell_type":"code",
      "metadata":{ "colab_type":"code" },
      "source": [
        "!pip install spacy-transformers deplacy\n",
        "!python -m spacy download fr_dep_news_trf\n",
        "import spacy\n",
        "nlp=spacy.load(\"fr_dep_news_trf\")\n",
        "doc=nlp(\"La mer pourrait toujours être en vue\")\n",
        "import deplacy\n",
        "deplacy.serve(doc,port=None)"
      ],
      "outputs": [
        {
          "output_type": "display_data",
          "data": {
            "text/html": [
              "<iframe width=\"100%\" height=\"400\"\n",
              "src=\"https://koichiyasuoka.github.io/deplacy/deplacy/editor.html#%23%20text%20%3D%20La%20mer%20pourrait%20toujours%20%C3%AAtre%20en%20vue%0A1%09La%09le%09DET%09DET%09Definite%3DDef%7CGender%3DFem%7CNumber%3DSing%7CPronType%3DArt%092%09det%09_%09_%0A2%09mer%09mer%09NOUN%09NOUN%09Gender%3DFem%7CNumber%3DSing%093%09nsubj%09_%09_%0A3%09pourrait%09pouvoir%09VERB%09VERB%09Mood%3DCnd%7CNumber%3DSing%7CPerson%3D3%7CTense%3DPres%7CVerbForm%3DFin%090%09ROOT%09_%09_%0A4%09toujours%09toujours%09ADV%09ADV%09_%093%09advmod%09_%09_%0A5%09%C3%AAtre%09%C3%AAtre%09AUX%09AUX%09VerbForm%3DInf%097%09cop%09_%09_%0A6%09en%09en%09ADP%09ADP%09_%097%09case%09_%09_%0A7%09vue%09vue%09NOUN%09NOUN%09Gender%3DFem%7CNumber%3DSing%093%09xcomp%09_%09SpaceAfter%3DNo%0A%0A\"\n",
              "frameborder=\"0\" allowfullscreen></iframe>\n"
            ]
          }
        }
      ]
    }
  ]
}
