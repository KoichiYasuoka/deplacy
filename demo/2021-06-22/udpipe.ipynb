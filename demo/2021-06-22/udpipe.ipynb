{
  "nbformat":4,
  "nbformat_minor":0,
  "metadata":{
    "colab":{ "name":"世界のUniversal Dependenciesと係り受け解析ツール群" },
    "kernelspec":{ "name":"python3" }
  },
  "cells":[
    {
      "cell_type":"markdown",
      "metadata":{ "colab_type":"text" },
      "source":[
        "# [世界のUniversal Dependenciesと係り受け解析ツール群](http://kanji.zinbun.kyoto-u.ac.jp/~yasuoka/publications/2021-06-22.pdf)\n",
        "## 日本語UDを用いた係り受け解析器の自作\n",
        "### UDPipeを用いる場合\n"
      ]
    },
    {
      "cell_type":"markdown",
      "metadata":{ "colab_type":"text" },
      "source":[
        "必要なパッケージと訓練用train.conlluを準備"
      ]
    },
    {
      "cell_type":"code",
      "metadata":{ "colab_type":"code" },
      "source":[
        "!test -f udpipe-1.2.0-bin.zip || curl -LO https://github.com/ufal/udpipe/releases/download/v1.2.0/udpipe-1.2.0-bin.zip\n",
        "!test -d udpipe-1.2.0-bin || unzip udpipe-1.2.0-bin.zip\n",
        "!test -f /usr/local/bin/udpipe || cp udpipe-1.2.0-bin/bin-linux64/udpipe /usr/local/bin/udpipe && chmod 755 /usr/local/bin/udpipe\n",
        "!test -d UD_Japanese-GSD || git clone --depth=1 https://github.com/universaldependencies/UD_Japanese-GSD\n",
        "!test -f train.conllu || ln -s UD_Japanese-GSD/ja_gsd-ud-train.conllu train.conllu\n",
        "!pip install ufal.udpipe deplacy"
      ]
    },
    {
      "cell_type":"markdown",
      "metadata":{ "colab_type":"text" },
      "source":[
        "my.udpipeを作成 (3時間程度)"
      ]
    },
    {
      "cell_type":"code",
      "metadata":{ "colab_type":"code" },
      "source":[
        "!udpipe --train my.udpipe train.conllu"
      ]
    },
    {
      "cell_type":"markdown",
      "metadata":{ "colab_type":"text" },
      "source":[
        "C++版で係り受け解析"
      ]
    },
    {
      "cell_type":"code",
      "metadata":{ "colab_type":"code" },
      "source":[
        "!echo 虎穴に入らざれば虎子を得ず。 | udpipe --tokenize --tag --parse my.udpipe"
      ]
    },
    {
      "cell_type":"markdown",
      "metadata":{ "colab_type":"text" },
      "source":[
        "python版で係り受け解析"
      ]
    },
    {
      "cell_type":"code",
      "metadata":{ "colab_type":"code" },
      "source":[
        "import ufal.udpipe\n",
        "mdl = ufal.udpipe.Model.load(\"my.udpipe\")\n",
        "nlp = ufal.udpipe.Pipeline(mdl, \"tokenize\", \"\", \"\", \"\").process\n",
        "doc = nlp(\"虎穴に入らざれば虎子を得ず。\")\n",
        "print(doc)\n",
        "import deplacy\n",
        "deplacy.serve(doc,port=None)"
      ]
    }
  ]
}
