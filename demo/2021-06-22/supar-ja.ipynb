{
  "nbformat":4,
  "nbformat_minor":0,
  "metadata":{
    "colab":{ "name":"世界のUniversal Dependenciesと係り受け解析ツール群" },
    "kernelspec":{ "name":"python3" },
    "accelerator": "GPU"
  },
  "cells":[
    {
      "cell_type":"markdown",
      "metadata":{ "colab_type":"text" },
      "source":[
        "# [世界のUniversal Dependenciesと係り受け解析ツール群](http://kanji.zinbun.kyoto-u.ac.jp/~yasuoka/publications/2021-06-22.pdf)\n",
        "## [日本語UDを用いた係り受け解析器の自作](https://koichiyasuoka.github.io/deplacy/demo/2021-06-22/)\n",
        "### SuParとbert-large-japaneseとfugashiを用いる場合\n"
      ]
    },
    {
      "cell_type":"markdown",
      "metadata":{ "colab_type":"text" },
      "source":[
        "必要なパッケージと各conlluを準備"
      ]
    },
    {
      "cell_type":"code",
      "metadata":{ "colab_type":"code" },
      "source":[
        "!test -d UD_Japanese-GSD || git clone --depth=1 https://github.com/universaldependencies/UD_Japanese-GSD\n",
        "!test -f train.conllu || ln -s UD_Japanese-GSD/ja_gsd-ud-train.conllu train.conllu\n",
        "!test -f dev.conllu || ln -s UD_Japanese-GSD/ja_gsd-ud-dev.conllu dev.conllu\n",
        "!test -f test.conllu || ln -s UD_Japanese-GSD/ja_gsd-ud-test.conllu test.conllu\n",
        "!pip install supar fugashi unidic-lite deplacy"
      ]
    },
    {
      "cell_type":"markdown",
      "metadata":{ "colab_type":"text" },
      "source":[
        "my.suparを作成 (GPUで3時間程度)"
      ]
    },
    {
      "cell_type":"code",
      "metadata":{ "colab_type":"code" },
      "source":[
        "!biaffine-dep train -b -d 0 -c biaffine-dep-en -p my.supar -f bert --bert cl-tohoku/bert-large-japanese --embed= --train train.conllu --dev dev.conllu --test test.conllu"
      ]
    },
    {
      "cell_type":"markdown",
      "metadata":{ "colab_type":"text" },
      "source":[
        "my.suparで係り受け解析"
      ]
    },
    {
      "cell_type":"code",
      "metadata":{ "colab_type":"code" },
      "source":[
        "import supar\n",
        "prs = supar.Parser.load(\"my.supar\")\n",
        "nlp = lambda x: prs.predict([x], lang=None).sentences[0]\n",
        "doc = nlp([\"虎穴\",\"に\",\"入ら\",\"ざれ\",\"ば\",\"虎子\",\"を\",\"得\",\"ず\",\"。\"])\n",
        "print(doc)\n",
        "import deplacy\n",
        "deplacy.serve(doc,port=None)"
      ]
    },
    {
      "cell_type":"markdown",
      "metadata":{ "colab_type":"text" },
      "source":[
        "AutoTokenizerで単語切り"
      ]
    },
    {
      "cell_type":"code",
      "metadata":{ "colab_type":"code" },
      "source":[
        "import supar\n",
        "from transformers import AutoTokenizer\n",
        "prs = supar.Parser.load(\"my.supar\")\n",
        "brt = \"cl-tohoku/bert-large-japanese\"\n",
        "tkz = AutoTokenizer.from_pretrained(brt, do_subword_tokenize=False)\n",
        "nlp = lambda x: prs.predict([tkz.tokenize(x)], lang=None).sentences[0]\n",
        "doc = nlp(\"虎穴に入らざれば虎子を得ず。\")\n",
        "print(doc)\n",
        "import deplacy\n",
        "deplacy.serve(doc,port=None)"
      ]
    },
    {
      "cell_type":"markdown",
      "metadata":{ "colab_type":"text" },
      "source":[
        "fugashiとunidic-liteに置き換え"
      ]
    },
    {
      "cell_type":"code",
      "metadata":{ "colab_type":"code" },
      "source":[
        "import supar, fugashi, unidic_lite\n",
        "prs = supar.Parser.load(\"my.supar\")\n",
        "tag = fugashi.Tagger(\"-d \" + unidic_lite.DICDIR)\n",
        "def nlp(sentence):\n",
        "  s = tag(sentence)\n",
        "  d = prs.predict([[t.surface for t in s]], lang=None).sentences[0]\n",
        "  return d\n",
        "doc = nlp(\"虎穴に入らざれば虎子を得ず。\")\n",
        "print(doc)\n",
        "import deplacy\n",
        "deplacy.serve(doc,port=None)"
      ]
    },
    {
      "cell_type":"markdown",
      "metadata":{ "colab_type":"text" },
      "source":[
        "LEMMA・XPOS・MISCを追加"
      ]
    },
    {
      "cell_type":"code",
      "metadata":{ "colab_type":"code" },
      "source":[
        "import supar, fugashi, unidic_lite\n",
        "prs = supar.Parser.load(\"my.supar\")\n",
        "tag = fugashi.Tagger(\"-d \" + unidic_lite.DICDIR)\n",
        "def nlp(sentence):\n",
        "  s = tag(sentence)\n",
        "  d = prs.predict([[t.surface for t in s]], lang=None).sentences[0]\n",
        "  d.values[2] = [t.feature.lemma for t in s]\n",
        "  d.values[4] = [t.pos.replace(\",*\", \"\").replace(\",\", \"-\") for t in s]\n",
        "  d.values[9] = [\"_\" if t.white_space else \"SpaceAfter=No\" for t in s]\n",
        "  return d\n",
        "doc = nlp(\"虎穴に入らざれば虎子を得ず。\")\n",
        "print(doc)\n",
        "import deplacy\n",
        "deplacy.serve(doc,port=None)"
      ]
    },
    {
      "cell_type":"markdown",
      "metadata":{ "colab_type":"text" },
      "source":[
        "UPOSを追加"
      ]
    },
    {
      "cell_type":"code",
      "metadata":{ "colab_type":"code" },
      "source":[
        "import supar, fugashi, unidic_lite\n",
        "prs = supar.Parser.load(\"my.supar\")\n",
        "tag = fugashi.Tagger(\"-d \" + unidic_lite.DICDIR)\n",
        "def nlp(sentence):\n",
        "  s = tag(sentence)\n",
        "  d = prs.predict([[t.surface for t in s]], lang=None).sentences[0]\n",
        "  d.values[2] = [t.feature.lemma for t in s]\n",
        "  x = {\"名詞\":\"NOUN\", \"代名詞\":\"PRON\", \"動詞\":\"VERB\", \"助動詞\":\"AUX\",\n",
        "    \"形容詞\":\"ADJ\", \"形状詞\":\"ADJ\", \"連体詞\":\"DET\", \"副詞\":\"ADV\",\n",
        "    \"助詞\":\"ADP\", \"接続詞\":\"CCONJ\", \"接頭辞\":\"NOUN\", \"接尾辞\":\"PART\",\n",
        "    \"感動詞\":\"INTJ\", \"補助記号\":\"PUNCT\", \"記号\":\"SYM\", \"空白\":\"SYM\"}\n",
        "  y = {\"助動詞語幹\":\"AUX\", \"固有名詞\":\"PROPN\", \"数詞\":\"NUM\",\n",
        "    \"終助詞\":\"PART\", \"接続助詞\":\"SCONJ\", \"名詞的\":\"NOUN\"}\n",
        "  z = {\"aux\":\"AUX\", \"cop\":\"AUX\", \"advmod\":\"ADV\", \"amod\":\"ADJ\"}\n",
        "  u = []\n",
        "  for i,t in enumerate(s):\n",
        "    f = t.feature\n",
        "    g = d.values[7][i]\n",
        "    u.append(z[g] if g in z else y[f.pos2] if f.pos2 in y else x[f.pos1])\n",
        "    if g == \"aux\" and int(d.values[0][i]) - int(d.values[6][i]) == 1:\n",
        "      h = s[i-1].feature.pos3\n",
        "      if h.find(\"形状詞可能\") >= 0 and f.lemma in [\"だ\", \"なり\"]:\n",
        "        u[i-1] = \"ADJ\"\n",
        "      elif h.startswith(\"サ変\"):\n",
        "        u[i-1] = \"VERB\"\n",
        "  d.values[3] = u\n",
        "  d.values[4] = [t.pos.replace(\",*\", \"\").replace(\",\", \"-\") for t in s]\n",
        "  d.values[9] = [\"_\" if t.white_space else \"SpaceAfter=No\" for t in s]\n",
        "  return d\n",
        "doc = nlp(\"虎穴に入らざれば虎子を得ず。\")\n",
        "print(doc)\n",
        "import deplacy\n",
        "deplacy.serve(doc,port=None)"
      ]
    },
    {
      "cell_type":"markdown",
      "metadata":{ "colab_type":"text" },
      "source":[
        "[おまけ] my.suparを作成せず[SuPar-UniDic](https://github.com/KoichiYasuoka/SuPar-UniDic)で代用"
      ]
    },
    {
      "cell_type":"code",
      "metadata":{ "colab_type":"code" },
      "source":[
        "!pip install suparunidic fugashi\n",
        "import suparunidic\n",
        "nlp = suparunidic.load(BERT=\"bert-large-japanese\")\n",
        "!ln -s /usr/local/lib/python*/*/suparunidic/suparmodels/bert-large-japanese/*.supar my.supar"
      ]
    }
  ]
}
