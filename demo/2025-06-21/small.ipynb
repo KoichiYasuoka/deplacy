{
  "nbformat":4,
  "nbformat_minor":0,
  "metadata":{
    "colab":{ "name":"Demo for modernbert-small-classical-chinese" },
    "kernelspec":{ "name":"python3" }
  },
  "cells":[
    {
      "cell_type":"code",
      "metadata":{ "colab_type":"code" },
      "source":[
        "!pip install transformers triton deplacy\n",
        "from transformers import pipeline\n",
        "nlp=pipeline(\"universal-dependencies\",\"KoichiYasuoka/modernbert-small-classical-chinese-ud-square\",trust_remote_code=True,aggregation_strategy=\"simple\")\n",
        "doc=nlp(\"李下不正冠\")\n",
        "import deplacy\n",
        "deplacy.serve(doc,port=None)"
      ]
    }
  ]
}
