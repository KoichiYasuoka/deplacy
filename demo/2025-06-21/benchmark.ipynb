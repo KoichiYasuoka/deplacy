{
  "nbformat":4,
  "nbformat_minor":0,
  "metadata":{
    "colab":{ "name":"Benchmark for modernbert-*-classical-chinese-ud-square" },
    "kernelspec":{ "name":"python3" }
  },
  "cells":[
    {
      "cell_type":"code",
      "metadata":{ "colab_type":"code" },
      "source":[
        "!pip install esupar transformers triton\n",
        "models=[\n",
        "  \"KoichiYasuoka/modernbert-small-classical-chinese-ud-square\",\n",
        "  \"KoichiYasuoka/modernbert-base-classical-chinese-ud-square\",\n",
        "  \"KoichiYasuoka/modernbert-large-classical-chinese-ud-square\",\n",
        "  \"esupar\"\n",
        "]\n",
        "import os,sys,subprocess\n",
        "url=\"https://github.com/UniversalDependencies/UD_Classical_Chinese-Kyoto\"\n",
        "d=os.path.basename(url)\n",
        "!test -d {d} || git clone --depth=1 {url}\n",
        "!for F in train dev test ; do cp {d}/*-$$F.conllu $$F.conllu ; done\n",
        "url=\"https://universaldependencies.org/conll18/conll18_ud_eval.py\"\n",
        "c=os.path.basename(url)\n",
        "!test -f {c} || curl -LO {url}\n",
        "with open(\"test.conllu\",\"r\",encoding=\"utf-8\") as r:\n",
        "  s=[t[8:].strip() for t in r if t.startswith(\"# text =\")]\n",
        "for mdl in models:\n",
        "  if mdl==\"esupar\":\n",
        "    import esupar\n",
        "    nlp=esupar.load(\"lzh\")\n",
        "  else:\n",
        "    from transformers import pipeline\n",
        "    nlp=pipeline(\"universal-dependencies\",mdl,trust_remote_code=True)\n",
        "  for f in [\"dev.conllu\",\"test.conllu\"]:\n",
        "    with open(f,\"r\",encoding=\"utf-8\") as r:\n",
        "      s=[t[8:].strip() for t in r if t.startswith(\"# text =\")]\n",
        "    with open(\"result-\"+f,\"w\",encoding=\"utf-8\") as w:\n",
        "      for t in s:\n",
        "        if model==\"esupar\":\n",
        "          print(nlp(t),file=w)\n",
        "        else:\n",
        "          try:\n",
        "            w.write(nlp(t,aggregation_strategy=\"simple\"))\n",
        "          except:\n",
        "            break\n",
        "  os.system(f\"mkdir -p result/{mdl}\")\n",
        "  with open(f\"result/{mdl}/result.txt\",\"w\",encoding=\"utf-8\") as w:\n",
        "    for f in [\"dev.conllu\",\"test.conllu\"]:\n",
        "      p=subprocess.run([sys.executable,c,\"-v\",f,\"result-\"+f],\n",
        "        encoding=\"utf-8\",stdout=subprocess.PIPE,stderr=subprocess.STDOUT)\n",
        "      print(f\"\\n*** {mdl} ({f})\",p.stdout,sep=\"\\n\",file=w)\n",
        "!( cd result && cat `find {\" \".join(models)} -name result.txt` )"
      ]
    }
  ]
}
