{
  "nbformat":4,
  "nbformat_minor":0,
  "metadata":{
    "colab":{ "name":"Demo for modernbert-large-classical-chinese" },
    "kernelspec":{ "name":"python3" }
  },
  "cells":[
    {
      "cell_type":"code",
      "metadata":{ "colab_type":"code" },
      "source":[
        "!pip install transformers triton deplacy\n",
        "from transformers import pipeline\n",
        "nlp=pipeline(\"universal-dependencies\",\"KoichiYasuoka/modernbert-large-classical-chinese-ud-square\",trust_remote_code=True,aggregation_strategy=\"simple\")\n",
        "doc=nlp(\"李下不正冠\")\n",
        "import deplacy\n",
        "deplacy.serve(doc,port=None)"
      ]
    }
  ]
}
