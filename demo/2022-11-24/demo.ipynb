{
  "nbformat":4,
  "nbformat_minor":0,
  "metadata":{
    "colab":{ "name":"한문교육연구소 제6회 초청강연회" },
    "kernelspec":{ "name":"python3" }
  },
  "cells":[
    {
      "cell_type":"markdown",
      "metadata":{ "colab_type":"text" },
      "source":[
        "# [Universal Dependencies와 BERT/RoBERTa 모델을 통한 고전 중국어 정보처리](http://www.han-character.education/home/index.php/2022/11/18/20221118/)"
      ]
    },
    {
      "cell_type":"markdown",
      "metadata":{ "colab_type":"text" },
      "source":[
        "## 古典中国語RoBERTaの穴埋めゲーム"
      ]
    },
    {
      "cell_type":"code",
      "metadata":{ "colab_type":"code" },
      "source":[
        "!pip install transformers\n",
        "from transformers import pipeline\n",
        "fmp=pipeline(\"fill-mask\",\"KoichiYasuoka/roberta-classical-chinese-base-char\")\n",
        "prd=fmp(\"勞[MASK]者治人\")\n",
        "print(\"\\n\".join(\"{:8} {:.3f}\".format(t[\"token_str\"],t[\"score\"]) for t in prd))"
      ]
    },
    {
      "cell_type":"markdown",
      "metadata":{ "colab_type":"text" },
      "source":[
        "## 系列ラベリングによる品詞付与・単語切り"
      ]
    },
    {
      "cell_type":"code",
      "metadata":{ "colab_type":"code" },
      "source":[
        "!pip install deplacy transformers\n",
        "class SeqL(object):\n",
        "  def __init__(self,bert):\n",
        "    from transformers import pipeline\n",
        "    self.tagger=pipeline(task=\"ner\",model=bert)\n",
        "  def __call__(self,text):\n",
        "    w=[(t[\"start\"],t[\"end\"],t[\"entity\"]) for t in self.tagger(text)]\n",
        "    u=\"# text = \"+text.replace(\"\\n\",\" \")+\"\\n\"\n",
        "    for i,(s,e,p) in enumerate(w,1):\n",
        "      m,q=\"_\" if i<len(w) and e<w[i][0] else \"SpaceAfter=No\",p.split(\"|\")\n",
        "      f=\"_\" if p.find(\"=\")<0 else \"|\".join(t for t in q if t.find(\"=\")>0)\n",
        "      u+=\"\\t\".join([str(i),text[s:e],\"_\",q[0],\"_\",f,\"_\",\"_\",\"_\",m])+\"\\n\"\n",
        "    return u+\"\\n\"\n",
        "nlp=SeqL(\"KoichiYasuoka/roberta-classical-chinese-base-ud-goeswith\")\n",
        "doc=nlp(\"未聞好學者也\")\n",
        "import deplacy\n",
        "deplacy.serve(doc,port=None)"
      ]
    }
  ]
}
